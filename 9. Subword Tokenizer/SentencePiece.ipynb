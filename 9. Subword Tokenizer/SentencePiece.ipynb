{
 "cells": [
  {
   "cell_type": "markdown",
   "id": "usual-straight",
   "metadata": {},
   "source": [
    "# SentencePiece\n",
    "\n",
    "\n",
    "\n",
    "* 논문 : https://arxiv.org/pdf/1808.06226.pdf\n",
    "* 센텐스피스 깃허브 : https://github.com/google/sentencepiece\n",
    "* BPE를 포함하여 기타 서브워드 토크나이징 알고리즘들을 내장되어 있는 라이브러리.\n",
    "* 사전 토큰화 작업없이 단어 분리 토큰화를 수행 -> 언어에 종속되지 않는다.\n"
   ]
  },
  {
   "cell_type": "markdown",
   "id": "banned-hormone",
   "metadata": {},
   "source": [
    "## 1. IMDB 리뷰 토큰화하기"
   ]
  },
  {
   "cell_type": "code",
   "execution_count": 2,
   "id": "documentary-appraisal",
   "metadata": {},
   "outputs": [
    {
     "data": {
      "text/plain": [
       "0        My family and I normally do not watch local mo...\n",
       "1        Believe it or not, this was at one time the wo...\n",
       "2        After some internet surfing, I found the \"Home...\n",
       "3        One of the most unheralded great works of anim...\n",
       "4        It was the Sixties, and anyone with long hair ...\n",
       "                               ...                        \n",
       "49995    the people who came up with this are SICK AND ...\n",
       "49996    The script is so so laughable... this in turn,...\n",
       "49997    \"So there's this bride, you see, and she gets ...\n",
       "49998    Your mind will not be satisfied by this nobud...\n",
       "49999    The chaser's war on everything is a weekly sho...\n",
       "Name: review, Length: 50000, dtype: object"
      ]
     },
     "execution_count": 2,
     "metadata": {},
     "output_type": "execute_result"
    }
   ],
   "source": [
    "import urllib.request\n",
    "import pandas as pd\n",
    "\n",
    "urllib.request.urlretrieve(\"https://raw.githubusercontent.com/LawrenceDuan/IMDb-Review-Analysis/master/IMDb_Reviews.csv\", \n",
    "                           filename=\"IMDB_Reviews.csv\")\n",
    "\n",
    "train_df = pd.read_csv(\"IMDB_Reviews.csv\")\n",
    "train_df['review']"
   ]
  },
  {
   "cell_type": "code",
   "execution_count": 4,
   "id": "viral-incident",
   "metadata": {},
   "outputs": [],
   "source": [
    "# sentencepiece 입력으로 사용하기 위해 txt 파일로 저장.\n",
    "\n",
    "with open('imdb_review.txt','w',encoding='utf8') as f :\n",
    "    f.write(\"\\n\".join(train_df['review']))"
   ]
  },
  {
   "cell_type": "code",
   "execution_count": 5,
   "id": "wired-making",
   "metadata": {},
   "outputs": [],
   "source": [
    "# sentencepiec 로 단어 집합과 각 단어에 고유한 정수 부여\n",
    "\n",
    "import sentencepiece as spm\n",
    "\n",
    "spm.SentencePieceTrainer.Train('--input=imdb_review.txt --model_prefix=imdb --vocab_size=5000 --model_type=bpe --max_sentence_length=9999')"
   ]
  },
  {
   "cell_type": "markdown",
   "id": "advisory-phone",
   "metadata": {},
   "source": [
    "각 인자가 의미하는 바\n",
    "* `input` : 학습 시킬 파일\n",
    "* `model_prefix` : 만들어질 모델 이름\n",
    "* `vocab_size` : 단어 집합의 크기\n",
    "* `model_type` : 사용할 모델(unigram(default), bpe, char, word)\n",
    "* `max_sentence_length` : 문장의 최대 길이\n",
    "* `pad_id, pad_piece` : pad token id, 값\n",
    "* `unk_id, unk_piece` : unknown token id, 값\n",
    "* `bos_id, bos_piece` : begin of sentence token id, 값\n",
    "* `eos_id, eos_piece` : end of sentence token id, 값\n",
    "* `user_definded_symbols` : 사용자 정의 토큰"
   ]
  },
  {
   "cell_type": "code",
   "execution_count": 13,
   "id": "aboriginal-pearl",
   "metadata": {},
   "outputs": [
    {
     "data": {
      "text/html": [
       "<div>\n",
       "<style scoped>\n",
       "    .dataframe tbody tr th:only-of-type {\n",
       "        vertical-align: middle;\n",
       "    }\n",
       "\n",
       "    .dataframe tbody tr th {\n",
       "        vertical-align: top;\n",
       "    }\n",
       "\n",
       "    .dataframe thead th {\n",
       "        text-align: right;\n",
       "    }\n",
       "</style>\n",
       "<table border=\"1\" class=\"dataframe\">\n",
       "  <thead>\n",
       "    <tr style=\"text-align: right;\">\n",
       "      <th></th>\n",
       "      <th>0</th>\n",
       "      <th>1</th>\n",
       "    </tr>\n",
       "  </thead>\n",
       "  <tbody>\n",
       "    <tr>\n",
       "      <th>178</th>\n",
       "      <td>▁by</td>\n",
       "      <td>-175</td>\n",
       "    </tr>\n",
       "    <tr>\n",
       "      <th>114</th>\n",
       "      <td>her</td>\n",
       "      <td>-111</td>\n",
       "    </tr>\n",
       "    <tr>\n",
       "      <th>2329</th>\n",
       "      <td>ges</td>\n",
       "      <td>-2326</td>\n",
       "    </tr>\n",
       "    <tr>\n",
       "      <th>2799</th>\n",
       "      <td>▁Em</td>\n",
       "      <td>-2796</td>\n",
       "    </tr>\n",
       "    <tr>\n",
       "      <th>387</th>\n",
       "      <td>▁ad</td>\n",
       "      <td>-384</td>\n",
       "    </tr>\n",
       "    <tr>\n",
       "      <th>4552</th>\n",
       "      <td>reck</td>\n",
       "      <td>-4549</td>\n",
       "    </tr>\n",
       "    <tr>\n",
       "      <th>983</th>\n",
       "      <td>blem</td>\n",
       "      <td>-980</td>\n",
       "    </tr>\n",
       "    <tr>\n",
       "      <th>151</th>\n",
       "      <td>▁sc</td>\n",
       "      <td>-148</td>\n",
       "    </tr>\n",
       "    <tr>\n",
       "      <th>4794</th>\n",
       "      <td>apl</td>\n",
       "      <td>-4791</td>\n",
       "    </tr>\n",
       "    <tr>\n",
       "      <th>3919</th>\n",
       "      <td>▁Jon</td>\n",
       "      <td>-3916</td>\n",
       "    </tr>\n",
       "  </tbody>\n",
       "</table>\n",
       "</div>"
      ],
      "text/plain": [
       "         0     1\n",
       "178    ▁by  -175\n",
       "114    her  -111\n",
       "2329   ges -2326\n",
       "2799   ▁Em -2796\n",
       "387    ▁ad  -384\n",
       "4552  reck -4549\n",
       "983   blem  -980\n",
       "151    ▁sc  -148\n",
       "4794   apl -4791\n",
       "3919  ▁Jon -3916"
      ]
     },
     "execution_count": 13,
     "metadata": {},
     "output_type": "execute_result"
    }
   ],
   "source": [
    "# vocab 생성이 완료되면 imdb.model, imdb.vocab 파일 생성.\n",
    "# vocab 파일에서 학습된 서브워드 확인 가능\n",
    "import csv\n",
    "\n",
    "vocab_list = pd.read_csv('imdb.vocab', sep='\\t', header=None, quoting=csv.QUOTE_NONE)\n",
    "vocab_list.sample(10)"
   ]
  },
  {
   "cell_type": "code",
   "execution_count": 14,
   "id": "coupled-steps",
   "metadata": {},
   "outputs": [
    {
     "data": {
      "text/plain": [
       "True"
      ]
     },
     "execution_count": 14,
     "metadata": {},
     "output_type": "execute_result"
    }
   ],
   "source": [
    "# model 파일을 로드하여 인코딩/디코딩 작업 가능\n",
    "\n",
    "sp = spm.SentencePieceProcessor()\n",
    "sp.load('imdb.model')"
   ]
  },
  {
   "cell_type": "markdown",
   "id": "valid-harris",
   "metadata": {},
   "source": [
    "내장 함수\n",
    "* `encode_as_pieces(sentence)` : 문장 입력하면 서브 워드 시퀀스로 변환\n",
    "* `encode_as_ids(sentence)` : 문장 입력하면 정수 시퀀스로 변환.\n",
    "* `GetPieceSize()` : 단어 집합의 크기 확인.\n",
    "* `IdToPiece(n)` : 정수로부터 맵핑되는 서브 워드로 변환\n",
    "* `PieceToId(word)` : 서브워드로부터 맵핑되는 정수로 변환\n",
    "* `DecodeIds(seq)` : 정수 시퀀스로부터 문장으로 변환\n",
    "* `DecodePieces(seq)` : 서브워드 시퀀스로부터 문장으로 변환\n",
    "* `encode(sentence,out_type)` : `out_type`이 `str` == 서브워드 시퀀스 , `int` == 정수 시퀀스 "
   ]
  },
  {
   "cell_type": "code",
   "execution_count": 19,
   "id": "entitled-terror",
   "metadata": {},
   "outputs": [],
   "source": [
    "sent = \"I didn't at all think of it this way.\""
   ]
  },
  {
   "cell_type": "code",
   "execution_count": 20,
   "id": "superior-inquiry",
   "metadata": {},
   "outputs": [
    {
     "name": "stdout",
     "output_type": "stream",
     "text": [
      "['▁I', '▁didn', \"'\", 't', '▁at', '▁all', '▁think', '▁of', '▁it', '▁this', '▁way', '.']\n",
      "[41, 623, 4950, 4926, 138, 169, 378, 30, 58, 73, 413, 4945]\n"
     ]
    }
   ],
   "source": [
    "print(sp.encode_as_pieces(sent))\n",
    "print(sp.encode_as_ids(sent))"
   ]
  },
  {
   "cell_type": "code",
   "execution_count": 24,
   "id": "placed-integration",
   "metadata": {},
   "outputs": [
    {
     "name": "stdout",
     "output_type": "stream",
     "text": [
      "vocabulary size :  5000\n",
      "430 to  ▁character\n",
      "_character to  430\n"
     ]
    }
   ],
   "source": [
    "print(\"vocabulary size : \",sp.GetPieceSize())\n",
    "print(\"430 to \",sp.IdToPiece(430))\n",
    "print(\"_character to \",sp.PieceToId(\"▁character\"))"
   ]
  },
  {
   "cell_type": "code",
   "execution_count": 25,
   "id": "catholic-portland",
   "metadata": {},
   "outputs": [
    {
     "name": "stdout",
     "output_type": "stream",
     "text": [
      "I didn't at all think of it this way.\n",
      "I didn't at all think of it this way.\n"
     ]
    }
   ],
   "source": [
    "print(sp.DecodeIds([41, 623, 4950, 4926, 138, 169, 378, 30, 58, 73, 413, 4945]))\n",
    "print(sp.DecodePieces(['▁I', '▁didn', \"'\", 't', '▁at', '▁all', '▁think', '▁of', '▁it', '▁this', '▁way', '.']))"
   ]
  },
  {
   "cell_type": "code",
   "execution_count": 26,
   "id": "handled-public",
   "metadata": {},
   "outputs": [
    {
     "name": "stdout",
     "output_type": "stream",
     "text": [
      "['▁I', '▁didn', \"'\", 't', '▁at', '▁all', '▁think', '▁of', '▁it', '▁this', '▁way', '.']\n",
      "[41, 623, 4950, 4926, 138, 169, 378, 30, 58, 73, 413, 4945]\n"
     ]
    }
   ],
   "source": [
    "print(sp.encode(sent,out_type=str))\n",
    "print(sp.encode(sent,out_type=int))"
   ]
  },
  {
   "cell_type": "markdown",
   "id": "informal-degree",
   "metadata": {},
   "source": [
    "## 2. 네이버 영화 리뷰 토큰화하기"
   ]
  },
  {
   "cell_type": "code",
   "execution_count": 27,
   "id": "twelve-surge",
   "metadata": {},
   "outputs": [
    {
     "data": {
      "text/html": [
       "<div>\n",
       "<style scoped>\n",
       "    .dataframe tbody tr th:only-of-type {\n",
       "        vertical-align: middle;\n",
       "    }\n",
       "\n",
       "    .dataframe tbody tr th {\n",
       "        vertical-align: top;\n",
       "    }\n",
       "\n",
       "    .dataframe thead th {\n",
       "        text-align: right;\n",
       "    }\n",
       "</style>\n",
       "<table border=\"1\" class=\"dataframe\">\n",
       "  <thead>\n",
       "    <tr style=\"text-align: right;\">\n",
       "      <th></th>\n",
       "      <th>id</th>\n",
       "      <th>document</th>\n",
       "      <th>label</th>\n",
       "    </tr>\n",
       "  </thead>\n",
       "  <tbody>\n",
       "    <tr>\n",
       "      <th>0</th>\n",
       "      <td>8112052</td>\n",
       "      <td>어릴때보고 지금다시봐도 재밌어요ㅋㅋ</td>\n",
       "      <td>1</td>\n",
       "    </tr>\n",
       "    <tr>\n",
       "      <th>1</th>\n",
       "      <td>8132799</td>\n",
       "      <td>디자인을 배우는 학생으로, 외국디자이너와 그들이 일군 전통을 통해 발전해가는 문화산...</td>\n",
       "      <td>1</td>\n",
       "    </tr>\n",
       "    <tr>\n",
       "      <th>2</th>\n",
       "      <td>4655635</td>\n",
       "      <td>폴리스스토리 시리즈는 1부터 뉴까지 버릴께 하나도 없음.. 최고.</td>\n",
       "      <td>1</td>\n",
       "    </tr>\n",
       "    <tr>\n",
       "      <th>3</th>\n",
       "      <td>9251303</td>\n",
       "      <td>와.. 연기가 진짜 개쩔구나.. 지루할거라고 생각했는데 몰입해서 봤다.. 그래 이런...</td>\n",
       "      <td>1</td>\n",
       "    </tr>\n",
       "    <tr>\n",
       "      <th>4</th>\n",
       "      <td>10067386</td>\n",
       "      <td>안개 자욱한 밤하늘에 떠 있는 초승달 같은 영화.</td>\n",
       "      <td>1</td>\n",
       "    </tr>\n",
       "  </tbody>\n",
       "</table>\n",
       "</div>"
      ],
      "text/plain": [
       "         id                                           document  label\n",
       "0   8112052                                어릴때보고 지금다시봐도 재밌어요ㅋㅋ      1\n",
       "1   8132799  디자인을 배우는 학생으로, 외국디자이너와 그들이 일군 전통을 통해 발전해가는 문화산...      1\n",
       "2   4655635               폴리스스토리 시리즈는 1부터 뉴까지 버릴께 하나도 없음.. 최고.      1\n",
       "3   9251303  와.. 연기가 진짜 개쩔구나.. 지루할거라고 생각했는데 몰입해서 봤다.. 그래 이런...      1\n",
       "4  10067386                        안개 자욱한 밤하늘에 떠 있는 초승달 같은 영화.      1"
      ]
     },
     "execution_count": 27,
     "metadata": {},
     "output_type": "execute_result"
    }
   ],
   "source": [
    "import urllib.request\n",
    "import pandas as pd\n",
    "\n",
    "urllib.request.urlretrieve(\"https://raw.githubusercontent.com/e9t/nsmc/master/ratings.txt\", \n",
    "                           filename=\"ratings.txt\")\n",
    "\n",
    "naver_df = pd.read_table('ratings.txt')\n",
    "naver_df[:5]"
   ]
  },
  {
   "cell_type": "code",
   "execution_count": 32,
   "id": "stretch-blond",
   "metadata": {},
   "outputs": [
    {
     "name": "stdout",
     "output_type": "stream",
     "text": [
      "id          0\n",
      "document    8\n",
      "label       0\n",
      "dtype: int64\n",
      "id          0\n",
      "document    0\n",
      "label       0\n",
      "dtype: int64\n"
     ]
    }
   ],
   "source": [
    "# 네이버 영화 리뷰 데이터의 경우 NULL 값 존재\n",
    "\n",
    "print(naver_df.isnull().sum())\n",
    "naver_df.dropna(inplace=True)\n",
    "print(naver_df.isnull().sum())"
   ]
  },
  {
   "cell_type": "code",
   "execution_count": 33,
   "id": "disciplinary-monkey",
   "metadata": {},
   "outputs": [],
   "source": [
    "with open('naver_review.txt','w',encoding='utf8') as f :\n",
    "    f.write(\"\\n\".join(naver_df['document']))"
   ]
  },
  {
   "cell_type": "code",
   "execution_count": 35,
   "id": "tracked-metadata",
   "metadata": {},
   "outputs": [],
   "source": [
    "# imdb 와 동일하게 진행\n",
    "spm.SentencePieceTrainer.Train('--input=naver_review.txt --model_prefix=naver --vocab_size=5000 --model_type=bpe --max_sentence_length=9999')"
   ]
  },
  {
   "cell_type": "code",
   "execution_count": 36,
   "id": "promising-temple",
   "metadata": {},
   "outputs": [
    {
     "data": {
      "text/html": [
       "<div>\n",
       "<style scoped>\n",
       "    .dataframe tbody tr th:only-of-type {\n",
       "        vertical-align: middle;\n",
       "    }\n",
       "\n",
       "    .dataframe tbody tr th {\n",
       "        vertical-align: top;\n",
       "    }\n",
       "\n",
       "    .dataframe thead th {\n",
       "        text-align: right;\n",
       "    }\n",
       "</style>\n",
       "<table border=\"1\" class=\"dataframe\">\n",
       "  <thead>\n",
       "    <tr style=\"text-align: right;\">\n",
       "      <th></th>\n",
       "      <th>0</th>\n",
       "      <th>1</th>\n",
       "    </tr>\n",
       "  </thead>\n",
       "  <tbody>\n",
       "    <tr>\n",
       "      <th>3137</th>\n",
       "      <td>이션</td>\n",
       "      <td>-3134</td>\n",
       "    </tr>\n",
       "    <tr>\n",
       "      <th>1217</th>\n",
       "      <td>이었다</td>\n",
       "      <td>-1214</td>\n",
       "    </tr>\n",
       "    <tr>\n",
       "      <th>3678</th>\n",
       "      <td>훈</td>\n",
       "      <td>-3675</td>\n",
       "    </tr>\n",
       "    <tr>\n",
       "      <th>3057</th>\n",
       "      <td>re</td>\n",
       "      <td>-3054</td>\n",
       "    </tr>\n",
       "    <tr>\n",
       "      <th>3637</th>\n",
       "      <td>왔</td>\n",
       "      <td>-3634</td>\n",
       "    </tr>\n",
       "    <tr>\n",
       "      <th>4475</th>\n",
       "      <td>짙</td>\n",
       "      <td>-4472</td>\n",
       "    </tr>\n",
       "    <tr>\n",
       "      <th>4902</th>\n",
       "      <td>섀</td>\n",
       "      <td>-4899</td>\n",
       "    </tr>\n",
       "    <tr>\n",
       "      <th>1858</th>\n",
       "      <td>없네</td>\n",
       "      <td>-1855</td>\n",
       "    </tr>\n",
       "    <tr>\n",
       "      <th>3670</th>\n",
       "      <td>열</td>\n",
       "      <td>-3667</td>\n",
       "    </tr>\n",
       "    <tr>\n",
       "      <th>168</th>\n",
       "      <td>액션</td>\n",
       "      <td>-165</td>\n",
       "    </tr>\n",
       "  </tbody>\n",
       "</table>\n",
       "</div>"
      ],
      "text/plain": [
       "        0     1\n",
       "3137   이션 -3134\n",
       "1217  이었다 -1214\n",
       "3678    훈 -3675\n",
       "3057   re -3054\n",
       "3637    왔 -3634\n",
       "4475    짙 -4472\n",
       "4902    섀 -4899\n",
       "1858   없네 -1855\n",
       "3670    열 -3667\n",
       "168    액션  -165"
      ]
     },
     "execution_count": 36,
     "metadata": {},
     "output_type": "execute_result"
    }
   ],
   "source": [
    "vocab_list = pd.read_csv('naver.vocab',sep='\\t',header=None,quoting=csv.QUOTE_NONE)\n",
    "vocab_list.sample(10)"
   ]
  },
  {
   "cell_type": "code",
   "execution_count": 37,
   "id": "grave-affairs",
   "metadata": {},
   "outputs": [
    {
     "data": {
      "text/plain": [
       "True"
      ]
     },
     "execution_count": 37,
     "metadata": {},
     "output_type": "execute_result"
    }
   ],
   "source": [
    "sp = spm.SentencePieceProcessor()\n",
    "sp.load('naver.model')"
   ]
  },
  {
   "cell_type": "code",
   "execution_count": 38,
   "id": "reliable-nylon",
   "metadata": {},
   "outputs": [
    {
     "name": "stdout",
     "output_type": "stream",
     "text": [
      "[54, 200, 821, 85]\n",
      "['▁진짜', '▁최고의', '▁영화입니다', '▁ᄏᄏ']\n"
     ]
    }
   ],
   "source": [
    "sent = \"진짜 최고의 영화입니다 ㅋㅋ\"\n",
    "\n",
    "print(sp.encode_as_ids(sent))\n",
    "print(sp.encode_as_pieces(sent))"
   ]
  }
 ],
 "metadata": {
  "kernelspec": {
   "display_name": "Python 3",
   "language": "python",
   "name": "python3"
  },
  "language_info": {
   "codemirror_mode": {
    "name": "ipython",
    "version": 3
   },
   "file_extension": ".py",
   "mimetype": "text/x-python",
   "name": "python",
   "nbconvert_exporter": "python",
   "pygments_lexer": "ipython3",
   "version": "3.8.8"
  }
 },
 "nbformat": 4,
 "nbformat_minor": 5
}
