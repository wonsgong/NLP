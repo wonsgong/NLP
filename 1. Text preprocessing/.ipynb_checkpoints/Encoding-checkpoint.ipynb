{
 "cells": [
  {
   "cell_type": "markdown",
   "id": "popular-scale",
   "metadata": {},
   "source": [
    "# 1. Integer Encoding\n",
    "    \n",
    "    빈도 수를 기준으로 문자-정수 인코딩\n",
    "    Counter lib / nltk FreqDist / keras Tokenizer 이용 가능\n"
   ]
  },
  {
   "cell_type": "code",
   "execution_count": 4,
   "id": "particular-strand",
   "metadata": {},
   "outputs": [],
   "source": [
    "text = \"\"\"\n",
    "        A barber is a person. a barber is good person. \n",
    "        a barber is huge person. he Knew A Secret! The Secret He Kept is huge secret. \n",
    "        Huge secret. His barber kept his word. a barber kept his word. \n",
    "        His barber kept his secret. \n",
    "        But keeping and keeping such a huge secret to himself was driving the barber crazy. \n",
    "        the barber went up a huge mountain.\n",
    "        \"\"\""
   ]
  },
  {
   "cell_type": "markdown",
   "id": "federal-namibia",
   "metadata": {},
   "source": [
    "### Text to Word"
   ]
  },
  {
   "cell_type": "code",
   "execution_count": 46,
   "id": "greatest-classification",
   "metadata": {},
   "outputs": [
    {
     "name": "stdout",
     "output_type": "stream",
     "text": [
      "[['barber', 'person'], ['barber', 'good', 'person'], ['barber', 'huge', 'person'], ['knew', 'secret'], ['secret', 'kept', 'huge', 'secret'], ['huge', 'secret'], ['barber', 'kept', 'word'], ['barber', 'kept', 'word'], ['barber', 'kept', 'secret'], ['keeping', 'keeping', 'huge', 'secret', 'driving', 'barber', 'crazy'], ['barber', 'went', 'huge', 'mountain']]\n"
     ]
    }
   ],
   "source": [
    "from nltk.tokenize import sent_tokenize\n",
    "from nltk.tokenize import word_tokenize\n",
    "from nltk.corpus import stopwords\n",
    "import numpy as np\n",
    "\n",
    "sentText = sent_tokenize(text)\n",
    "\n",
    "stopWords = set(stopwords.words('english'))\n",
    "sents = []\n",
    "for sent in sentText :\n",
    "    \n",
    "    words = word_tokenize(sent)\n",
    "    res = []\n",
    "    for word in words :\n",
    "        word = word.lower()\n",
    "        if word not in stopWords and len(word) > 2:\n",
    "              res.append(word)\n",
    "    sents.append(res)\n",
    "print(sents)"
   ]
  },
  {
   "cell_type": "markdown",
   "id": "seven-switzerland",
   "metadata": {},
   "source": [
    "### NLTK"
   ]
  },
  {
   "cell_type": "code",
   "execution_count": 88,
   "id": "outdoor-mitchell",
   "metadata": {},
   "outputs": [
    {
     "data": {
      "text/plain": [
       "FreqDist({'barber': 8, 'secret': 6, 'huge': 5, 'kept': 4, 'person': 3, 'word': 2, 'keeping': 2, 'good': 1, 'knew': 1, 'driving': 1, ...})"
      ]
     },
     "execution_count": 88,
     "metadata": {},
     "output_type": "execute_result"
    }
   ],
   "source": [
    "from nltk import FreqDist\n",
    "\n",
    "vocab = FreqDist(np.hstack(sents))\n",
    "vocab"
   ]
  },
  {
   "cell_type": "markdown",
   "id": "boxed-twenty",
   "metadata": {},
   "source": [
    "상위 5개 추출 수 encoding "
   ]
  },
  {
   "cell_type": "code",
   "execution_count": 89,
   "id": "ranging-water",
   "metadata": {},
   "outputs": [
    {
     "name": "stdout",
     "output_type": "stream",
     "text": [
      "[('barber', 8), ('secret', 6), ('huge', 5), ('kept', 4), ('person', 3)]\n",
      "{'barber': 1, 'secret': 2, 'huge': 3, 'kept': 4, 'person': 5}\n"
     ]
    }
   ],
   "source": [
    "# 상위 5개 추출\n",
    "vocab_size = 5\n",
    "vocab = vocab.most_common(vocab_size)\n",
    "print(vocab)\n",
    "\n",
    "# encoding\n",
    "encoded = {word[0]:idx+1 for idx, word in enumerate(vocab)}\n",
    "print(encoded)"
   ]
  },
  {
   "cell_type": "markdown",
   "id": "monetary-portugal",
   "metadata": {},
   "source": [
    "### Keras"
   ]
  },
  {
   "cell_type": "code",
   "execution_count": 91,
   "id": "insured-bermuda",
   "metadata": {},
   "outputs": [
    {
     "name": "stdout",
     "output_type": "stream",
     "text": [
      "OrderedDict([('barber', 8), ('person', 3), ('good', 1), ('huge', 5), ('knew', 1), ('secret', 6), ('kept', 4), ('word', 2), ('keeping', 2), ('driving', 1), ('crazy', 1), ('went', 1), ('mountain', 1)])\n",
      "{'barber': 1, 'secret': 2, 'huge': 3, 'kept': 4, 'person': 5, 'word': 6, 'keeping': 7, 'good': 8, 'knew': 9, 'driving': 10, 'crazy': 11, 'went': 12, 'mountain': 13}\n"
     ]
    }
   ],
   "source": [
    "from tensorflow.keras.preprocessing.text import Tokenizer\n",
    "\n",
    "tokenizer = Tokenizer()\n",
    "tokenizer.fit_on_texts(sents)\n",
    "\n",
    "print(tokenizer.word_counts)\n",
    "print(tokenizer.word_index)"
   ]
  },
  {
   "cell_type": "markdown",
   "id": "missing-torture",
   "metadata": {},
   "source": [
    "상위 5개 추출 시, 실제 texts_to_sequences 를 사용할 때 적용된다. \n"
   ]
  },
  {
   "cell_type": "code",
   "execution_count": 93,
   "id": "choice-yellow",
   "metadata": {},
   "outputs": [
    {
     "name": "stdout",
     "output_type": "stream",
     "text": [
      "{'barber': 1, 'secret': 2, 'huge': 3, 'kept': 4, 'person': 5, 'word': 6, 'keeping': 7, 'good': 8, 'knew': 9, 'driving': 10, 'crazy': 11, 'went': 12, 'mountain': 13}\n",
      "OrderedDict([('barber', 8), ('person', 3), ('good', 1), ('huge', 5), ('knew', 1), ('secret', 6), ('kept', 4), ('word', 2), ('keeping', 2), ('driving', 1), ('crazy', 1), ('went', 1), ('mountain', 1)])\n",
      "[[1, 5], [1, 5], [1, 3, 5], [2], [2, 4, 3, 2], [3, 2], [1, 4], [1, 4], [1, 4, 2], [3, 2, 1], [1, 3]]\n"
     ]
    }
   ],
   "source": [
    "vocab_size = 5\n",
    "# 상위 5개만 추출 -> 0부터 세기때문에.\n",
    "tokenizer = Tokenizer(num_words = vocab_size + 1) \n",
    "\n",
    "tokenizer.fit_on_texts(sents)\n",
    "\n",
    "print(tokenizer.word_index)\n",
    "print(tokenizer.word_counts)\n",
    "print(tokenizer.texts_to_sequences(sents))"
   ]
  },
  {
   "cell_type": "markdown",
   "id": "faced-symbol",
   "metadata": {},
   "source": [
    "keras 는 OOV(Out Of Vocabulary) 를 제거하는 특징을 가지고 있다.\n",
    "단어 집합에 없는 단어들을 OOV 로 간주하여 보존하고 싶으면 'oov_token' 인자 사용한다."
   ]
  },
  {
   "cell_type": "code",
   "execution_count": 94,
   "id": "substantial-juice",
   "metadata": {},
   "outputs": [
    {
     "name": "stdout",
     "output_type": "stream",
     "text": [
      "idx of 'OOV' : 1\n",
      "[[2, 6], [2, 1, 6], [2, 4, 6], [1, 3], [3, 5, 4, 3], [4, 3], [2, 5, 1], [2, 5, 1], [2, 5, 3], [1, 1, 4, 3, 1, 2, 1], [2, 1, 4, 1]]\n"
     ]
    }
   ],
   "source": [
    "vocab_size = 5\n",
    "# 상위 5개 + OOV 고려해서 6개가 필요하다. -> +2 \n",
    "tokenizer = Tokenizer(num_words = vocab_size + 2, oov_token = 'OOV') \n",
    "\n",
    "tokenizer.fit_on_texts(sents)\n",
    "print(f\"idx of 'OOV' : {tokenizer.word_index['OOV']}\")\n",
    "print(tokenizer.texts_to_sequences(sents))"
   ]
  },
  {
   "cell_type": "markdown",
   "id": "standing-diversity",
   "metadata": {},
   "source": [
    "# 2. Padding\n",
    "\n",
    "    병렬 연산을 위해 문장의 길이를 임의 길이로 통일 시켜 주는 작업.\n",
    "    보통 앞 혹은 뒤에 0 을 추가해주는 zero-padding 을 사용한다."
   ]
  },
  {
   "cell_type": "code",
   "execution_count": 99,
   "id": "listed-cemetery",
   "metadata": {
    "scrolled": true
   },
   "outputs": [
    {
     "name": "stdout",
     "output_type": "stream",
     "text": [
      "[[ 0  0  0  0  0  1  5]\n",
      " [ 0  0  0  0  1  8  5]\n",
      " [ 0  0  0  0  1  3  5]\n",
      " [ 0  0  0  0  0  9  2]\n",
      " [ 0  0  0  2  4  3  2]\n",
      " [ 0  0  0  0  0  3  2]\n",
      " [ 0  0  0  0  1  4  6]\n",
      " [ 0  0  0  0  1  4  6]\n",
      " [ 0  0  0  0  1  4  2]\n",
      " [ 7  7  3  2 10  1 11]\n",
      " [ 0  0  0  1 12  3 13]]\n"
     ]
    }
   ],
   "source": [
    "from tensorflow.keras.preprocessing.sequence import pad_sequences\n",
    "\n",
    "# 모든 단어 정수 encoding\n",
    "tokenizer = Tokenizer()\n",
    "tokenizer.fit_on_texts(sents)\n",
    "encoded = tokenizer.texts_to_sequences(sents)\n",
    "\n",
    "# Padding\n",
    "padded = pad_sequences(encoded)\n",
    "\n",
    "print(padded)"
   ]
  },
  {
   "cell_type": "markdown",
   "id": "joined-arthur",
   "metadata": {},
   "source": [
    "'pad_sequences' 의 인자를 보면 </br>\n",
    "\n",
    "    'padding' : 'pre' 가 디폴트. -> 'post'로 변경 시 뒤에부터 0을 채운다.\n",
    "    'maxlen' : 문장 최대 길이 정할 수 있음.\n",
    "    'value' : 패딩 할 값을 지정 할 수 있음."
   ]
  },
  {
   "cell_type": "code",
   "execution_count": 102,
   "id": "hundred-yahoo",
   "metadata": {},
   "outputs": [
    {
     "name": "stdout",
     "output_type": "stream",
     "text": [
      "[[ 1  5 14 14 14 14 14 14 14 14]\n",
      " [ 1  8  5 14 14 14 14 14 14 14]\n",
      " [ 1  3  5 14 14 14 14 14 14 14]\n",
      " [ 9  2 14 14 14 14 14 14 14 14]\n",
      " [ 2  4  3  2 14 14 14 14 14 14]\n",
      " [ 3  2 14 14 14 14 14 14 14 14]\n",
      " [ 1  4  6 14 14 14 14 14 14 14]\n",
      " [ 1  4  6 14 14 14 14 14 14 14]\n",
      " [ 1  4  2 14 14 14 14 14 14 14]\n",
      " [ 7  7  3  2 10  1 11 14 14 14]\n",
      " [ 1 12  3 13 14 14 14 14 14 14]]\n"
     ]
    }
   ],
   "source": [
    "padded = pad_sequences(encoded,padding='post',maxlen=10,value=14)\n",
    "print(padded)"
   ]
  },
  {
   "cell_type": "markdown",
   "id": "sophisticated-street",
   "metadata": {},
   "source": [
    "# 3. One-Hot Encoding\n",
    "\n",
    "    단어 집합의 크기를 벡터 차원으로 하고, 표현하는 단어는 1 , 나머진 0 인 벡터로 표현하는 방법.\n",
    "    1) 정수 인코딩\n",
    "    2) 1,0 위치 부여\n",
    "    \n",
    "    keras 에선 to_categorical 함수 지원."
   ]
  },
  {
   "cell_type": "code",
   "execution_count": 106,
   "id": "behavioral-saint",
   "metadata": {},
   "outputs": [
    {
     "name": "stdout",
     "output_type": "stream",
     "text": [
      "{'갈래': 1, '점심': 2, '햄버거': 3, '나랑': 4, '먹으러': 5, '메뉴는': 6, '최고야': 7}\n"
     ]
    }
   ],
   "source": [
    "from tensorflow.keras.preprocessing.text import Tokenizer\n",
    "\n",
    "text=\"나랑 점심 먹으러 갈래 점심 메뉴는 햄버거 갈래 갈래 햄버거 최고야\"\n",
    "\n",
    "tokenizer = Tokenizer()\n",
    "tokenizer.fit_on_texts([text]) \n",
    "\n",
    "print(tokenizer.word_index)"
   ]
  },
  {
   "cell_type": "code",
   "execution_count": 114,
   "id": "flying-bread",
   "metadata": {},
   "outputs": [
    {
     "name": "stdout",
     "output_type": "stream",
     "text": [
      "encoding :  [2, 5, 1, 6, 3, 7]\n",
      "[[0. 0. 1. 0. 0. 0. 0. 0.]\n",
      " [0. 0. 0. 0. 0. 1. 0. 0.]\n",
      " [0. 1. 0. 0. 0. 0. 0. 0.]\n",
      " [0. 0. 0. 0. 0. 0. 1. 0.]\n",
      " [0. 0. 0. 1. 0. 0. 0. 0.]\n",
      " [0. 0. 0. 0. 0. 0. 0. 1.]]\n"
     ]
    }
   ],
   "source": [
    "from tensorflow.keras.utils import to_categorical\n",
    "\n",
    "subText = \"점심 먹으러 갈래 메뉴는 햄버거 최고야\"\n",
    "encoded = tokenizer.texts_to_sequences([subText])[0]\n",
    "\n",
    "print(\"encoding : \",encoded)\n",
    "\n",
    "one_hot = to_categorical(encoded)\n",
    "\n",
    "print(one_hot)"
   ]
  },
  {
   "cell_type": "markdown",
   "id": "complex-determination",
   "metadata": {},
   "source": [
    "### 한계\n",
    "\n",
    "    1. 단어 집합의 크기가 커질수록 차원의 크기가 커진다. \n",
    "        -> 메모리가 너무 커짐.(차원의 저주)  \n",
    "    2. 단어 간 유사도를 표현하지 못한다.\n",
    "      \n",
    "    한계를 해결하기 위한 방법.\n",
    "    다차원 공간에서 벡터화 하는 기법으로\n",
    "    1. 카운트 기반의 벡터화 : LSA , HAL\n",
    "    2. 예측 기반의 벡터화 : Word2Vec, FastText, NNLM, RNNLM\n",
    "    3. 카운트 & 예측 : GloVe\n",
    "    \n",
    "    이후 다룰 예정.\n",
    "    "
   ]
  }
 ],
 "metadata": {
  "kernelspec": {
   "display_name": "Python 3",
   "language": "python",
   "name": "python3"
  },
  "language_info": {
   "codemirror_mode": {
    "name": "ipython",
    "version": 3
   },
   "file_extension": ".py",
   "mimetype": "text/x-python",
   "name": "python",
   "nbconvert_exporter": "python",
   "pygments_lexer": "ipython3",
   "version": "3.8.8"
  }
 },
 "nbformat": 4,
 "nbformat_minor": 5
}
