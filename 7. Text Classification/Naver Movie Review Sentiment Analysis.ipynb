{
 "cells": [
  {
   "cell_type": "markdown",
   "id": "consolidated-nurse",
   "metadata": {
    "id": "consolidated-nurse"
   },
   "source": [
    "# 네이버 영화 리뷰 감성 분류\n",
    "    \n",
    "    IMDB 데이터와 유사한 데이터.\n",
    "    데이터 : https://github.com/e9t/nsmc/"
   ]
  },
  {
   "cell_type": "code",
   "execution_count": 1,
   "id": "searching-casting",
   "metadata": {
    "colab": {
     "base_uri": "https://localhost:8080/"
    },
    "executionInfo": {
     "elapsed": 1485,
     "status": "ok",
     "timestamp": 1616740688774,
     "user": {
      "displayName": "­원상혁",
      "photoUrl": "",
      "userId": "16456013324333233824"
     },
     "user_tz": -540
    },
    "id": "searching-casting",
    "outputId": "40b99c64-b230-4394-85f5-6a6ce1fa71f9"
   },
   "outputs": [
    {
     "data": {
      "text/plain": [
       "('ratings_test.txt', <http.client.HTTPMessage at 0x10313ee20>)"
      ]
     },
     "execution_count": 1,
     "metadata": {},
     "output_type": "execute_result"
    }
   ],
   "source": [
    "# 데이터 저장하기\n",
    "import urllib.request\n",
    "\n",
    "urllib.request.urlretrieve(\"https://raw.githubusercontent.com/e9t/nsmc/master/ratings_train.txt\", \n",
    "                           filename=\"ratings_train.txt\")\n",
    "urllib.request.urlretrieve(\"https://raw.githubusercontent.com/e9t/nsmc/master/ratings_test.txt\", \n",
    "                           filename=\"ratings_test.txt\")"
   ]
  },
  {
   "cell_type": "code",
   "execution_count": 9,
   "id": "strange-wyoming",
   "metadata": {
    "colab": {
     "base_uri": "https://localhost:8080/",
     "height": 229
    },
    "executionInfo": {
     "elapsed": 1828,
     "status": "ok",
     "timestamp": 1616740689122,
     "user": {
      "displayName": "­원상혁",
      "photoUrl": "",
      "userId": "16456013324333233824"
     },
     "user_tz": -540
    },
    "id": "strange-wyoming",
    "outputId": "28d3d221-85fe-4deb-e6dc-99e6d76b1525"
   },
   "outputs": [
    {
     "name": "stdout",
     "output_type": "stream",
     "text": [
      "train data size : 150000\n",
      "test data size : 50000\n"
     ]
    },
    {
     "data": {
      "text/html": [
       "<div>\n",
       "<style scoped>\n",
       "    .dataframe tbody tr th:only-of-type {\n",
       "        vertical-align: middle;\n",
       "    }\n",
       "\n",
       "    .dataframe tbody tr th {\n",
       "        vertical-align: top;\n",
       "    }\n",
       "\n",
       "    .dataframe thead th {\n",
       "        text-align: right;\n",
       "    }\n",
       "</style>\n",
       "<table border=\"1\" class=\"dataframe\">\n",
       "  <thead>\n",
       "    <tr style=\"text-align: right;\">\n",
       "      <th></th>\n",
       "      <th>id</th>\n",
       "      <th>document</th>\n",
       "      <th>label</th>\n",
       "    </tr>\n",
       "  </thead>\n",
       "  <tbody>\n",
       "    <tr>\n",
       "      <th>0</th>\n",
       "      <td>9976970</td>\n",
       "      <td>아 더빙.. 진짜 짜증나네요 목소리</td>\n",
       "      <td>0</td>\n",
       "    </tr>\n",
       "    <tr>\n",
       "      <th>1</th>\n",
       "      <td>3819312</td>\n",
       "      <td>흠...포스터보고 초딩영화줄....오버연기조차 가볍지 않구나</td>\n",
       "      <td>1</td>\n",
       "    </tr>\n",
       "    <tr>\n",
       "      <th>2</th>\n",
       "      <td>10265843</td>\n",
       "      <td>너무재밓었다그래서보는것을추천한다</td>\n",
       "      <td>0</td>\n",
       "    </tr>\n",
       "    <tr>\n",
       "      <th>3</th>\n",
       "      <td>9045019</td>\n",
       "      <td>교도소 이야기구먼 ..솔직히 재미는 없다..평점 조정</td>\n",
       "      <td>0</td>\n",
       "    </tr>\n",
       "    <tr>\n",
       "      <th>4</th>\n",
       "      <td>6483659</td>\n",
       "      <td>사이몬페그의 익살스런 연기가 돋보였던 영화!스파이더맨에서 늙어보이기만 했던 커스틴 ...</td>\n",
       "      <td>1</td>\n",
       "    </tr>\n",
       "  </tbody>\n",
       "</table>\n",
       "</div>"
      ],
      "text/plain": [
       "         id                                           document  label\n",
       "0   9976970                                아 더빙.. 진짜 짜증나네요 목소리      0\n",
       "1   3819312                  흠...포스터보고 초딩영화줄....오버연기조차 가볍지 않구나      1\n",
       "2  10265843                                  너무재밓었다그래서보는것을추천한다      0\n",
       "3   9045019                      교도소 이야기구먼 ..솔직히 재미는 없다..평점 조정      0\n",
       "4   6483659  사이몬페그의 익살스런 연기가 돋보였던 영화!스파이더맨에서 늙어보이기만 했던 커스틴 ...      1"
      ]
     },
     "execution_count": 9,
     "metadata": {},
     "output_type": "execute_result"
    }
   ],
   "source": [
    "import pandas as pd\n",
    "train_data = pd.read_table(\"ratings_train.txt\")\n",
    "test_data = pd.read_table(\"ratings_test.txt\")\n",
    "\n",
    "print(f\"train data size : {len(train_data)}\")\n",
    "print(f\"test data size : {len(test_data)}\")\n",
    "train_data.head()"
   ]
  },
  {
   "cell_type": "markdown",
   "id": "romance-collective",
   "metadata": {
    "id": "romance-collective"
   },
   "source": [
    "## 데이터 처리"
   ]
  },
  {
   "cell_type": "markdown",
   "id": "russian-queen",
   "metadata": {
    "id": "russian-queen"
   },
   "source": [
    "### 1) 데이터 정제"
   ]
  },
  {
   "cell_type": "code",
   "execution_count": 10,
   "id": "restricted-solution",
   "metadata": {
    "colab": {
     "base_uri": "https://localhost:8080/"
    },
    "executionInfo": {
     "elapsed": 2086,
     "status": "ok",
     "timestamp": 1616740689385,
     "user": {
      "displayName": "­원상혁",
      "photoUrl": "",
      "userId": "16456013324333233824"
     },
     "user_tz": -540
    },
    "id": "restricted-solution",
    "outputId": "171f8a3e-b7c1-416e-f195-41fb3d97c542"
   },
   "outputs": [
    {
     "name": "stdout",
     "output_type": "stream",
     "text": [
      "146182\n",
      "2\n"
     ]
    }
   ],
   "source": [
    "# 중복 데이터 확인\n",
    "\n",
    "print(train_data['document'].nunique())\n",
    "print(train_data['label'].nunique())"
   ]
  },
  {
   "cell_type": "code",
   "execution_count": 11,
   "id": "quick-ranking",
   "metadata": {
    "colab": {
     "base_uri": "https://localhost:8080/"
    },
    "executionInfo": {
     "elapsed": 2081,
     "status": "ok",
     "timestamp": 1616740689385,
     "user": {
      "displayName": "­원상혁",
      "photoUrl": "",
      "userId": "16456013324333233824"
     },
     "user_tz": -540
    },
    "id": "quick-ranking",
    "outputId": "5947e3d8-c37f-4f9b-9e41-d8466c2d6c7b"
   },
   "outputs": [
    {
     "name": "stdout",
     "output_type": "stream",
     "text": [
      "train data size : 146183\n"
     ]
    }
   ],
   "source": [
    "# train data 중복 제거\n",
    "\n",
    "train_data.drop_duplicates(subset=['document'],inplace=True)\n",
    "print(f\"train data size : {len(train_data)}\")"
   ]
  },
  {
   "cell_type": "code",
   "execution_count": 12,
   "id": "induced-render",
   "metadata": {
    "colab": {
     "base_uri": "https://localhost:8080/",
     "height": 330
    },
    "executionInfo": {
     "elapsed": 2840,
     "status": "ok",
     "timestamp": 1616740690148,
     "user": {
      "displayName": "­원상혁",
      "photoUrl": "",
      "userId": "16456013324333233824"
     },
     "user_tz": -540
    },
    "id": "induced-render",
    "outputId": "bf88c080-e6a3-448a-ac48-ff13e33457d1"
   },
   "outputs": [
    {
     "name": "stdout",
     "output_type": "stream",
     "text": [
      "label\n",
      "0    73342\n",
      "1    72841\n",
      "dtype: int64\n"
     ]
    },
    {
     "data": {
      "image/png": "[encoded data removed]",
      "text/plain": [
       "<Figure size 432x288 with 1 Axes>"
      ]
     },
     "metadata": {
      "needs_background": "light"
     },
     "output_type": "display_data"
    }
   ],
   "source": [
    "# label 분포 \n",
    "\n",
    "train_data['label'].value_counts().plot(kind='bar')\n",
    "print(train_data.groupby('label').size())"
   ]
  },
  {
   "cell_type": "code",
   "execution_count": 13,
   "id": "negative-lobby",
   "metadata": {
    "colab": {
     "base_uri": "https://localhost:8080/"
    },
    "executionInfo": {
     "elapsed": 2836,
     "status": "ok",
     "timestamp": 1616740690148,
     "user": {
      "displayName": "­원상혁",
      "photoUrl": "",
      "userId": "16456013324333233824"
     },
     "user_tz": -540
    },
    "id": "negative-lobby",
    "outputId": "ab8b6f9f-b62c-4f48-ceda-c610ea967fed"
   },
   "outputs": [
    {
     "name": "stdout",
     "output_type": "stream",
     "text": [
      "id          0\n",
      "document    1\n",
      "label       0\n",
      "dtype: int64\n",
      "id          0\n",
      "document    0\n",
      "label       0\n",
      "dtype: int64\n"
     ]
    }
   ],
   "source": [
    "# NULL 값 확인\n",
    "\n",
    "print(train_data.isnull().sum())\n",
    "train_data.dropna(inplace=True)\n",
    "print(train_data.isnull().sum())"
   ]
  },
  {
   "cell_type": "code",
   "execution_count": 14,
   "id": "attractive-sphere",
   "metadata": {
    "executionInfo": {
     "elapsed": 3064,
     "status": "ok",
     "timestamp": 1616740690379,
     "user": {
      "displayName": "­원상혁",
      "photoUrl": "",
      "userId": "16456013324333233824"
     },
     "user_tz": -540
    },
    "id": "attractive-sphere"
   },
   "outputs": [
    {
     "name": "stderr",
     "output_type": "stream",
     "text": [
      "<ipython-input-14-cbeb800d58e8>:3: FutureWarning: The default value of regex will change from True to False in a future version.\n",
      "  train_data['document'] = train_data['document'].str.replace(\"[^ㄱ-ㅎㅏ-ㅣ가-힣 ]\",\"\")\n"
     ]
    }
   ],
   "source": [
    "# 한글과 공백 제외 제거.\n",
    "\n",
    "train_data['document'] = train_data['document'].str.replace(\"[^ㄱ-ㅎㅏ-ㅣ가-힣 ]\",\"\")"
   ]
  },
  {
   "cell_type": "code",
   "execution_count": 15,
   "id": "desperate-prison",
   "metadata": {
    "colab": {
     "base_uri": "https://localhost:8080/",
     "height": 195
    },
    "executionInfo": {
     "elapsed": 3062,
     "status": "ok",
     "timestamp": 1616740690379,
     "user": {
      "displayName": "­원상혁",
      "photoUrl": "",
      "userId": "16456013324333233824"
     },
     "user_tz": -540
    },
    "id": "desperate-prison",
    "outputId": "4825f7bf-2450-427a-ae4e-5c21ee954dae"
   },
   "outputs": [
    {
     "data": {
      "text/html": [
       "<div>\n",
       "<style scoped>\n",
       "    .dataframe tbody tr th:only-of-type {\n",
       "        vertical-align: middle;\n",
       "    }\n",
       "\n",
       "    .dataframe tbody tr th {\n",
       "        vertical-align: top;\n",
       "    }\n",
       "\n",
       "    .dataframe thead th {\n",
       "        text-align: right;\n",
       "    }\n",
       "</style>\n",
       "<table border=\"1\" class=\"dataframe\">\n",
       "  <thead>\n",
       "    <tr style=\"text-align: right;\">\n",
       "      <th></th>\n",
       "      <th>id</th>\n",
       "      <th>document</th>\n",
       "      <th>label</th>\n",
       "    </tr>\n",
       "  </thead>\n",
       "  <tbody>\n",
       "    <tr>\n",
       "      <th>0</th>\n",
       "      <td>9976970</td>\n",
       "      <td>아 더빙 진짜 짜증나네요 목소리</td>\n",
       "      <td>0</td>\n",
       "    </tr>\n",
       "    <tr>\n",
       "      <th>1</th>\n",
       "      <td>3819312</td>\n",
       "      <td>흠포스터보고 초딩영화줄오버연기조차 가볍지 않구나</td>\n",
       "      <td>1</td>\n",
       "    </tr>\n",
       "    <tr>\n",
       "      <th>2</th>\n",
       "      <td>10265843</td>\n",
       "      <td>너무재밓었다그래서보는것을추천한다</td>\n",
       "      <td>0</td>\n",
       "    </tr>\n",
       "    <tr>\n",
       "      <th>3</th>\n",
       "      <td>9045019</td>\n",
       "      <td>교도소 이야기구먼 솔직히 재미는 없다평점 조정</td>\n",
       "      <td>0</td>\n",
       "    </tr>\n",
       "    <tr>\n",
       "      <th>4</th>\n",
       "      <td>6483659</td>\n",
       "      <td>사이몬페그의 익살스런 연기가 돋보였던 영화스파이더맨에서 늙어보이기만 했던 커스틴 던...</td>\n",
       "      <td>1</td>\n",
       "    </tr>\n",
       "  </tbody>\n",
       "</table>\n",
       "</div>"
      ],
      "text/plain": [
       "         id                                           document  label\n",
       "0   9976970                                  아 더빙 진짜 짜증나네요 목소리      0\n",
       "1   3819312                         흠포스터보고 초딩영화줄오버연기조차 가볍지 않구나      1\n",
       "2  10265843                                  너무재밓었다그래서보는것을추천한다      0\n",
       "3   9045019                          교도소 이야기구먼 솔직히 재미는 없다평점 조정      0\n",
       "4   6483659  사이몬페그의 익살스런 연기가 돋보였던 영화스파이더맨에서 늙어보이기만 했던 커스틴 던...      1"
      ]
     },
     "execution_count": 15,
     "metadata": {},
     "output_type": "execute_result"
    }
   ],
   "source": [
    "train_data.head()"
   ]
  },
  {
   "cell_type": "code",
   "execution_count": 7,
   "id": "arbitrary-internship",
   "metadata": {
    "colab": {
     "base_uri": "https://localhost:8080/"
    },
    "executionInfo": {
     "elapsed": 3059,
     "status": "ok",
     "timestamp": 1616740690380,
     "user": {
      "displayName": "­원상혁",
      "photoUrl": "",
      "userId": "16456013324333233824"
     },
     "user_tz": -540
    },
    "id": "arbitrary-internship",
    "outputId": "980c662c-0166-4175-df89-f9f11a2de6e9"
   },
   "outputs": [
    {
     "name": "stdout",
     "output_type": "stream",
     "text": [
      "id            0\n",
      "document    391\n",
      "label         0\n",
      "dtype: int64\n",
      "id          0\n",
      "document    0\n",
      "label       0\n",
      "dtype: int64\n"
     ]
    }
   ],
   "source": [
    "# 한글이 없는 리뷰인 경우 확인\n",
    "import numpy as np\n",
    "\n",
    "train_data['document'].replace('',np.nan,inplace=True)\n",
    "print(train_data.isnull().sum())\n",
    "train_data.dropna(inplace=True)\n",
    "print(train_data.isnull().sum())"
   ]
  },
  {
   "cell_type": "code",
   "execution_count": 8,
   "id": "plastic-platinum",
   "metadata": {
    "colab": {
     "base_uri": "https://localhost:8080/"
    },
    "executionInfo": {
     "elapsed": 3056,
     "status": "ok",
     "timestamp": 1616740690380,
     "user": {
      "displayName": "­원상혁",
      "photoUrl": "",
      "userId": "16456013324333233824"
     },
     "user_tz": -540
    },
    "id": "plastic-platinum",
    "outputId": "f689d25d-27f9-4dc4-da71-c9343b5acabb"
   },
   "outputs": [
    {
     "name": "stdout",
     "output_type": "stream",
     "text": [
      "test data size :  48995\n"
     ]
    },
    {
     "name": "stderr",
     "output_type": "stream",
     "text": [
      "<ipython-input-8-7c7239abd4ee>:4: FutureWarning: The default value of regex will change from True to False in a future version.\n",
      "  test_data['document'] = test_data['document'].str.replace(\"[^ㄱ-ㅎㅏ-ㅣ가-힣 ]\",\"\")\n"
     ]
    }
   ],
   "source": [
    "# test data 동일한 처리\n",
    "\n",
    "test_data.drop_duplicates(subset=['document'],inplace=True) # 중복 데이터 확인.\n",
    "test_data['document'] = test_data['document'].str.replace(\"[^ㄱ-ㅎㅏ-ㅣ가-힣 ]\",\"\") # 한글과 공백 제외 제거\n",
    "test_data['document'].replace(\"\",np.nan,inplace=True) # 빈 데이터 제거\n",
    "test_data.dropna(inplace=True)\n",
    "print(\"test data size : \",len(test_data)) "
   ]
  },
  {
   "cell_type": "markdown",
   "id": "numerous-string",
   "metadata": {
    "id": "numerous-string"
   },
   "source": [
    "### 2) 토큰화"
   ]
  },
  {
   "cell_type": "code",
   "execution_count": 9,
   "id": "electrical-electronics",
   "metadata": {
    "colab": {
     "base_uri": "https://localhost:8080/"
    },
    "executionInfo": {
     "elapsed": 437852,
     "status": "ok",
     "timestamp": 1616741125179,
     "user": {
      "displayName": "­원상혁",
      "photoUrl": "",
      "userId": "16456013324333233824"
     },
     "user_tz": -540
    },
    "id": "electrical-electronics",
    "outputId": "a5dadb1b-5799-4671-c2fb-05751d59c0a9"
   },
   "outputs": [
    {
     "name": "stdout",
     "output_type": "stream",
     "text": [
      "[['아', '더빙', '진짜', '짜증나다', '목소리'], ['흠', '포스터', '보고', '초딩', '영화', '줄', '오버', '연기', '조차', '가볍다', '않다'], ['너', '무재', '밓었', '다그', '래서', '보다', '추천', '다']]\n"
     ]
    }
   ],
   "source": [
    "# stopwords 는 책과 동일하게 진행\n",
    "\n",
    "from konlpy.tag import Okt\n",
    "\n",
    "stopwords = ['의','가','이','은','들','는','좀','잘','걍','과','도','를','으로',\n",
    "             '자','에','와','한','하다']\n",
    "\n",
    "okt = Okt()\n",
    "\n",
    "X_train = []\n",
    "for sent in train_data['document'] :\n",
    "    temp = []\n",
    "    temp = okt.morphs(sent,stem=True)\n",
    "    temp = [word for word in temp if word not in stopwords]\n",
    "    X_train.append(temp)\n",
    "    \n",
    "print(X_train[:3])"
   ]
  },
  {
   "cell_type": "code",
   "execution_count": 10,
   "id": "ready-reserve",
   "metadata": {
    "colab": {
     "base_uri": "https://localhost:8080/"
    },
    "executionInfo": {
     "elapsed": 579665,
     "status": "ok",
     "timestamp": 1616741266995,
     "user": {
      "displayName": "­원상혁",
      "photoUrl": "",
      "userId": "16456013324333233824"
     },
     "user_tz": -540
    },
    "id": "ready-reserve",
    "outputId": "bc0aee28-dbfb-42d1-e734-73923f5a59d9"
   },
   "outputs": [
    {
     "name": "stdout",
     "output_type": "stream",
     "text": [
      "[['굳다', 'ㅋ'], ['뭐', '야', '평점', '나쁘다', '않다', '점', '짜다', '리', '더', '더욱', '아니다'], ['지루하다', '않다', '완전', '막장', '임', '돈', '주다', '보기', '에는']]\n"
     ]
    }
   ],
   "source": [
    "X_test = []\n",
    "for sent in test_data['document'] :\n",
    "    temp = []\n",
    "    temp = okt.morphs(sent,stem=True)\n",
    "    temp = [word for word in temp if word not in stopwords]\n",
    "    X_test.append(temp)\n",
    "print(X_test[:3])"
   ]
  },
  {
   "cell_type": "markdown",
   "id": "devoted-cable",
   "metadata": {
    "id": "devoted-cable"
   },
   "source": [
    "### 3) 정수 인코딩"
   ]
  },
  {
   "cell_type": "code",
   "execution_count": 11,
   "id": "requested-voluntary",
   "metadata": {
    "colab": {
     "base_uri": "https://localhost:8080/"
    },
    "executionInfo": {
     "elapsed": 584672,
     "status": "ok",
     "timestamp": 1616741272003,
     "user": {
      "displayName": "­원상혁",
      "photoUrl": "",
      "userId": "16456013324333233824"
     },
     "user_tz": -540
    },
    "id": "requested-voluntary",
    "outputId": "6b5e211a-4cf4-41d1-dd4c-2ffa28a50149"
   },
   "outputs": [
    {
     "name": "stdout",
     "output_type": "stream",
     "text": [
      "단어 집합(vocabulary)의 크기 : 43752\n",
      "등장 빈도가 2번 이하인 희귀 단어의 수: 24337\n",
      "단어 집합에서 희귀 단어의 비율: 55.62488571950996\n",
      "전체 등장 빈도에서 희귀 단어 등장 빈도 비율: 1.8715872104872904\n"
     ]
    }
   ],
   "source": [
    "# threshold 확인\n",
    "\n",
    "from tensorflow.keras.preprocessing.text import Tokenizer\n",
    "\n",
    "tokenizer = Tokenizer()\n",
    "tokenizer.fit_on_texts(X_train)\n",
    "\n",
    "threshold = 3\n",
    "total_cnt = len(tokenizer.word_index) # 단어의 수\n",
    "rare_cnt = 0 # 등장 빈도수가 threshold보다 작은 단어의 개수를 카운트\n",
    "total_freq = 0 # 훈련 데이터의 전체 단어 빈도수 총 합\n",
    "rare_freq = 0 # 등장 빈도수가 threshold보다 작은 단어의 등장 빈도수의 총 합\n",
    "\n",
    "# 단어와 빈도수의 쌍(pair)을 key와 value로 받는다.\n",
    "for key, value in tokenizer.word_counts.items():\n",
    "    total_freq = total_freq + value\n",
    "\n",
    "    # 단어의 등장 빈도수가 threshold보다 작으면\n",
    "    if(value < threshold):\n",
    "        rare_cnt = rare_cnt + 1\n",
    "        rare_freq = rare_freq + value\n",
    "\n",
    "print('단어 집합(vocabulary)의 크기 :',total_cnt)\n",
    "print('등장 빈도가 %s번 이하인 희귀 단어의 수: %s'%(threshold - 1, rare_cnt))\n",
    "print(\"단어 집합에서 희귀 단어의 비율:\", (rare_cnt / total_cnt)*100)\n",
    "print(\"전체 등장 빈도에서 희귀 단어 등장 빈도 비율:\", (rare_freq / total_freq)*100)"
   ]
  },
  {
   "cell_type": "markdown",
   "id": "unusual-disease",
   "metadata": {
    "id": "unusual-disease"
   },
   "source": [
    "빈도수가 2%도 안되기 때문에 길이 2회 이하인 단어들은 무시."
   ]
  },
  {
   "cell_type": "code",
   "execution_count": 12,
   "id": "solar-ratio",
   "metadata": {
    "colab": {
     "base_uri": "https://localhost:8080/"
    },
    "executionInfo": {
     "elapsed": 584671,
     "status": "ok",
     "timestamp": 1616741272004,
     "user": {
      "displayName": "­원상혁",
      "photoUrl": "",
      "userId": "16456013324333233824"
     },
     "user_tz": -540
    },
    "id": "solar-ratio",
    "outputId": "300a1fb8-cca7-49a1-e4b1-abac1ca3cdcb"
   },
   "outputs": [
    {
     "name": "stdout",
     "output_type": "stream",
     "text": [
      "19417\n"
     ]
    }
   ],
   "source": [
    "# 0번 패딩 토큰 , 1번 OOV 토큰 고려 +2\n",
    "vocab_size = total_cnt - rare_cnt + 2 \n",
    "print(vocab_size)"
   ]
  },
  {
   "cell_type": "code",
   "execution_count": 13,
   "id": "clinical-universe",
   "metadata": {
    "colab": {
     "base_uri": "https://localhost:8080/"
    },
    "executionInfo": {
     "elapsed": 589061,
     "status": "ok",
     "timestamp": 1616741276395,
     "user": {
      "displayName": "­원상혁",
      "photoUrl": "",
      "userId": "16456013324333233824"
     },
     "user_tz": -540
    },
    "id": "clinical-universe",
    "outputId": "1a30a5f0-70d3-465e-a7d0-b2150e77af67",
    "scrolled": true
   },
   "outputs": [
    {
     "name": "stdout",
     "output_type": "stream",
     "text": [
      "[[51, 455, 17, 261, 660], [934, 458, 42, 603, 2, 215, 1450, 25, 962, 676, 20], [387, 2445, 1, 2316, 5672, 3, 223, 10]]\n"
     ]
    }
   ],
   "source": [
    "# 정수 인코딩\n",
    "tokenizer = Tokenizer(num_words=vocab_size,oov_token='OOV')\n",
    "tokenizer.fit_on_texts(X_train)\n",
    "X_train = tokenizer.texts_to_sequences(X_train)\n",
    "X_test = tokenizer.texts_to_sequences(X_test)\n",
    "print(X_train[:3])                    "
   ]
  },
  {
   "cell_type": "code",
   "execution_count": 14,
   "id": "center-grenada",
   "metadata": {
    "executionInfo": {
     "elapsed": 589061,
     "status": "ok",
     "timestamp": 1616741276396,
     "user": {
      "displayName": "­원상혁",
      "photoUrl": "",
      "userId": "16456013324333233824"
     },
     "user_tz": -540
    },
    "id": "center-grenada"
   },
   "outputs": [],
   "source": [
    "# 레이블 저장.\n",
    "y_train = np.array(train_data['label'])\n",
    "y_test = np.array(test_data['label'])"
   ]
  },
  {
   "cell_type": "code",
   "execution_count": 15,
   "id": "distant-touch",
   "metadata": {
    "colab": {
     "base_uri": "https://localhost:8080/"
    },
    "executionInfo": {
     "elapsed": 589060,
     "status": "ok",
     "timestamp": 1616741276396,
     "user": {
      "displayName": "­원상혁",
      "photoUrl": "",
      "userId": "16456013324333233824"
     },
     "user_tz": -540
    },
    "id": "distant-touch",
    "outputId": "d0009911-3888-44c7-de36-63162ab9cd3a"
   },
   "outputs": [
    {
     "name": "stdout",
     "output_type": "stream",
     "text": [
      "X_train size :  145380\n",
      "y_train size :  145380\n"
     ]
    }
   ],
   "source": [
    "# 빈도수 낮은 단어 삭제 -> 빈 샘플 존재\n",
    "\n",
    "drop_idx = [idx for idx, sent in enumerate(X_train) if len(sent) < 1]\n",
    "\n",
    "X_train = np.delete(X_train,drop_idx,axis=0)\n",
    "y_train = np.delete(y_train,drop_idx,axis=0)\n",
    "\n",
    "print(\"X_train size : \",len(X_train))\n",
    "print(\"y_train size : \",len(y_train))"
   ]
  },
  {
   "cell_type": "markdown",
   "id": "noted-nitrogen",
   "metadata": {
    "id": "noted-nitrogen"
   },
   "source": [
    "### 4) 패딩"
   ]
  },
  {
   "cell_type": "code",
   "execution_count": 16,
   "id": "atomic-lucas",
   "metadata": {
    "colab": {
     "base_uri": "https://localhost:8080/",
     "height": 314
    },
    "executionInfo": {
     "elapsed": 589518,
     "status": "ok",
     "timestamp": 1616741276856,
     "user": {
      "displayName": "­원상혁",
      "photoUrl": "",
      "userId": "16456013324333233824"
     },
     "user_tz": -540
    },
    "id": "atomic-lucas",
    "outputId": "1d5bc8ba-4132-434d-bd5a-b571a438d427"
   },
   "outputs": [
    {
     "name": "stdout",
     "output_type": "stream",
     "text": [
      "max length of reivews :  72\n",
      "mean length of reivews :  11.002187371027652\n"
     ]
    },
    {
     "data": {
      "image/png": "[encoded data removed]",
      "text/plain": [
       "<Figure size 432x288 with 1 Axes>"
      ]
     },
     "metadata": {
      "needs_background": "light"
     },
     "output_type": "display_data"
    }
   ],
   "source": [
    "import matplotlib.pyplot as plt\n",
    "\n",
    "max_len = max(len(word) for word in X_train)\n",
    "mean_len = sum(map(len,X_train)) / len(X_train)\n",
    "print(\"max length of reivews : \",max_len)\n",
    "print(\"mean length of reivews : \",mean_len)\n",
    "\n",
    "plt.hist([len(word) for word in X_train],bins=50)\n",
    "plt.xlabel(\"length of samples\")\n",
    "plt.ylabel(\"number of samples\")\n",
    "plt.show()"
   ]
  },
  {
   "cell_type": "markdown",
   "id": "touched-secretariat",
   "metadata": {},
   "source": [
    "## 4) 패딩\n",
    "    최대 길이의 경우 집합의 길이를 보고 결정."
   ]
  },
  {
   "cell_type": "code",
   "execution_count": 17,
   "id": "israeli-exemption",
   "metadata": {
    "colab": {
     "base_uri": "https://localhost:8080/"
    },
    "executionInfo": {
     "elapsed": 589517,
     "status": "ok",
     "timestamp": 1616741276857,
     "user": {
      "displayName": "­원상혁",
      "photoUrl": "",
      "userId": "16456013324333233824"
     },
     "user_tz": -540
    },
    "id": "israeli-exemption",
    "outputId": "d7570297-4a5e-410f-a8dd-b2a1dfd4c8a0",
    "scrolled": true
   },
   "outputs": [
    {
     "name": "stdout",
     "output_type": "stream",
     "text": [
      "threshold : 30\n",
      "percentage of sample that shorter threshold 30 : 94.083\n",
      "threshold : 40\n",
      "percentage of sample that shorter threshold 40 : 98.085\n"
     ]
    }
   ],
   "source": [
    "def belowThreshold(thre, words) :\n",
    "    cnt = 0\n",
    "    for word in words:\n",
    "        if(len(word) <= thre) :\n",
    "            cnt += 1\n",
    "    print(f\"percentage of sample that shorter threshold {thre} : {round((cnt / len(words)) * 100,3)}\")\n",
    "    \n",
    "print(\"threshold : 30\")\n",
    "belowThreshold(30,X_train)\n",
    "print(\"threshold : 40\")\n",
    "belowThreshold(40,X_train)"
   ]
  },
  {
   "cell_type": "code",
   "execution_count": 18,
   "id": "conventional-particle",
   "metadata": {
    "executionInfo": {
     "elapsed": 590519,
     "status": "ok",
     "timestamp": 1616741277860,
     "user": {
      "displayName": "­원상혁",
      "photoUrl": "",
      "userId": "16456013324333233824"
     },
     "user_tz": -540
    },
    "id": "conventional-particle"
   },
   "outputs": [],
   "source": [
    "# 최대 길이 40으로 맞춤\n",
    "from tensorflow.keras.preprocessing.sequence import pad_sequences\n",
    "\n",
    "max_len = 40\n",
    "X_train = pad_sequences(X_train,maxlen = max_len)\n",
    "X_test = pad_sequences(X_test,maxlen = max_len)"
   ]
  },
  {
   "cell_type": "markdown",
   "id": "integral-terrorism",
   "metadata": {
    "id": "integral-terrorism"
   },
   "source": [
    "## 2. LSTM 모델 사용"
   ]
  },
  {
   "cell_type": "code",
   "execution_count": 21,
   "id": "french-scholar",
   "metadata": {
    "executionInfo": {
     "elapsed": 591904,
     "status": "ok",
     "timestamp": 1616741279246,
     "user": {
      "displayName": "­원상혁",
      "photoUrl": "",
      "userId": "16456013324333233824"
     },
     "user_tz": -540
    },
    "id": "french-scholar"
   },
   "outputs": [],
   "source": [
    "from tensorflow.keras.models import Sequential\n",
    "from tensorflow.keras.layers import LSTM,Embedding,Dense\n",
    "\n",
    "model = Sequential()\n",
    "model.add(Embedding(vocab_size,100))\n",
    "model.add(LSTM(128))\n",
    "model.add(Dense(1,activation='sigmoid'))"
   ]
  },
  {
   "cell_type": "code",
   "execution_count": 22,
   "id": "published-bottle",
   "metadata": {
    "executionInfo": {
     "elapsed": 591905,
     "status": "ok",
     "timestamp": 1616741279248,
     "user": {
      "displayName": "­원상혁",
      "photoUrl": "",
      "userId": "16456013324333233824"
     },
     "user_tz": -540
    },
    "id": "published-bottle"
   },
   "outputs": [],
   "source": [
    "# 조기 종료 요건과 베스트 모델 저장\n",
    "from tensorflow.keras.callbacks import EarlyStopping, ModelCheckpoint\n",
    "\n",
    "es = EarlyStopping(monitor='val_loss',mode='min',verbose=1,patience=4)\n",
    "\n",
    "mc = ModelCheckpoint('KOR_LSTM.h5',monitor='val_acc',mode='max',verbose=1,\n",
    "                    save_best_only=True)"
   ]
  },
  {
   "cell_type": "code",
   "execution_count": 23,
   "id": "checked-columbia",
   "metadata": {
    "colab": {
     "base_uri": "https://localhost:8080/"
    },
    "executionInfo": {
     "elapsed": 2458410,
     "status": "ok",
     "timestamp": 1616743145754,
     "user": {
      "displayName": "­원상혁",
      "photoUrl": "",
      "userId": "16456013324333233824"
     },
     "user_tz": -540
    },
    "id": "checked-columbia",
    "outputId": "7fdba294-7ac7-43a0-e125-8ae362a06337",
    "scrolled": true
   },
   "outputs": [
    {
     "name": "stdout",
     "output_type": "stream",
     "text": [
      "Epoch 1/15\n",
      "1939/1939 [==============================] - 213s 107ms/step - loss: 0.4378 - acc: 0.7920 - val_loss: 0.3512 - val_acc: 0.8452\n",
      "\n",
      "Epoch 00001: val_acc improved from -inf to 0.84523, saving model to KOR_LSTM.h5\n",
      "Epoch 2/15\n",
      "1939/1939 [==============================] - 208s 107ms/step - loss: 0.3248 - acc: 0.8588 - val_loss: 0.3414 - val_acc: 0.8539\n",
      "\n",
      "Epoch 00002: val_acc improved from 0.84523 to 0.85387, saving model to KOR_LSTM.h5\n",
      "Epoch 3/15\n",
      "1939/1939 [==============================] - 207s 107ms/step - loss: 0.2990 - acc: 0.8733 - val_loss: 0.3296 - val_acc: 0.8589\n",
      "\n",
      "Epoch 00003: val_acc improved from 0.85387 to 0.85885, saving model to KOR_LSTM.h5\n",
      "Epoch 4/15\n",
      "1939/1939 [==============================] - 207s 107ms/step - loss: 0.2784 - acc: 0.8843 - val_loss: 0.3280 - val_acc: 0.8614\n",
      "\n",
      "Epoch 00004: val_acc improved from 0.85885 to 0.86140, saving model to KOR_LSTM.h5\n",
      "Epoch 5/15\n",
      "1939/1939 [==============================] - 206s 106ms/step - loss: 0.2619 - acc: 0.8923 - val_loss: 0.3258 - val_acc: 0.8603\n",
      "\n",
      "Epoch 00005: val_acc did not improve from 0.86140\n",
      "Epoch 6/15\n",
      "1939/1939 [==============================] - 207s 107ms/step - loss: 0.2488 - acc: 0.8986 - val_loss: 0.3323 - val_acc: 0.8567\n",
      "\n",
      "Epoch 00006: val_acc did not improve from 0.86140\n",
      "Epoch 7/15\n",
      "1939/1939 [==============================] - 206s 106ms/step - loss: 0.2307 - acc: 0.9076 - val_loss: 0.3342 - val_acc: 0.8615\n",
      "\n",
      "Epoch 00007: val_acc improved from 0.86140 to 0.86147, saving model to KOR_LSTM.h5\n",
      "Epoch 8/15\n",
      "1939/1939 [==============================] - 206s 106ms/step - loss: 0.2162 - acc: 0.9142 - val_loss: 0.3463 - val_acc: 0.8567\n",
      "\n",
      "Epoch 00008: val_acc did not improve from 0.86147\n",
      "Epoch 9/15\n",
      "1939/1939 [==============================] - 206s 106ms/step - loss: 0.1986 - acc: 0.9233 - val_loss: 0.3729 - val_acc: 0.8416\n",
      "\n",
      "Epoch 00009: val_acc did not improve from 0.86147\n",
      "Epoch 00009: early stopping\n"
     ]
    },
    {
     "data": {
      "text/plain": [
       "<tensorflow.python.keras.callbacks.History at 0x7fe662ee8550>"
      ]
     },
     "execution_count": 23,
     "metadata": {
      "tags": []
     },
     "output_type": "execute_result"
    }
   ],
   "source": [
    "model.compile(optimizer='rmsprop',loss='binary_crossentropy',\n",
    "              metrics=['acc'])\n",
    "\n",
    "model.fit(X_train,y_train,epochs=15,callbacks=[es,mc],\n",
    "          batch_size=60,validation_split=0.2)\n"
   ]
  },
  {
   "cell_type": "code",
   "execution_count": 19,
   "id": "armed-arkansas",
   "metadata": {
    "colab": {
     "base_uri": "https://localhost:8080/"
    },
    "executionInfo": {
     "elapsed": 2484472,
     "status": "ok",
     "timestamp": 1616743171817,
     "user": {
      "displayName": "­원상혁",
      "photoUrl": "",
      "userId": "16456013324333233824"
     },
     "user_tz": -540
    },
    "id": "armed-arkansas",
    "outputId": "d66040fc-3305-4c84-df0c-bd942f4efdef"
   },
   "outputs": [
    {
     "name": "stdout",
     "output_type": "stream",
     "text": [
      "1532/1532 [==============================] - 5s 3ms/step - loss: 0.3406 - acc: 0.8521\n",
      "test accuracy :  0.8521073460578918\n"
     ]
    }
   ],
   "source": [
    "from tensorflow.keras.models import load_model\n",
    "\n",
    "loaded_model = load_model('KOR_LSTM.h5')\n",
    "print(\"test accuracy : \",loaded_model.evaluate(X_test,y_test)[1])"
   ]
  },
  {
   "cell_type": "code",
   "execution_count": 20,
   "id": "careful-newsletter",
   "metadata": {
    "executionInfo": {
     "elapsed": 2484471,
     "status": "ok",
     "timestamp": 1616743171817,
     "user": {
      "displayName": "­원상혁",
      "photoUrl": "",
      "userId": "16456013324333233824"
     },
     "user_tz": -540
    },
    "id": "careful-newsletter"
   },
   "outputs": [],
   "source": [
    "def sent_predict(sent) :\n",
    "    sent = okt.morphs(sent,stem=True)\n",
    "    sent = [word for word in sent if word not in stopwords]\n",
    "    encoded = tokenizer.texts_to_sequences([sent])\n",
    "    padded = pad_sequences(encoded,maxlen=max_len)\n",
    "    score = float(loaded_model.predict(padded))\n",
    "    if(score > 0.5) :\n",
    "        print(f\"{round(score*100,3)} % Positive\")\n",
    "    else :\n",
    "        print(f\"{round((1-score)*100,3)} % Negative\")\n"
   ]
  },
  {
   "cell_type": "code",
   "execution_count": 23,
   "id": "vSZ88qHxarQu",
   "metadata": {
    "colab": {
     "base_uri": "https://localhost:8080/"
    },
    "executionInfo": {
     "elapsed": 976,
     "status": "ok",
     "timestamp": 1616743425006,
     "user": {
      "displayName": "­원상혁",
      "photoUrl": "",
      "userId": "16456013324333233824"
     },
     "user_tz": -540
    },
    "id": "vSZ88qHxarQu",
    "outputId": "f310bedd-e80d-49ab-d4a8-39afdf4ed13c"
   },
   "outputs": [
    {
     "name": "stdout",
     "output_type": "stream",
     "text": [
      "85.94 % Positive\n"
     ]
    }
   ],
   "source": [
    "sent_predict(\"이 영화 개꿀잼 ㅋㅋ\")"
   ]
  },
  {
   "cell_type": "code",
   "execution_count": 24,
   "id": "JgM2rZkeavp0",
   "metadata": {
    "colab": {
     "base_uri": "https://localhost:8080/"
    },
    "executionInfo": {
     "elapsed": 594,
     "status": "ok",
     "timestamp": 1616743448617,
     "user": {
      "displayName": "­원상혁",
      "photoUrl": "",
      "userId": "16456013324333233824"
     },
     "user_tz": -540
    },
    "id": "JgM2rZkeavp0",
    "outputId": "c6c1daa6-0135-41a4-89cb-f1519020ceee"
   },
   "outputs": [
    {
     "name": "stdout",
     "output_type": "stream",
     "text": [
      "96.851 % Negative\n"
     ]
    }
   ],
   "source": [
    "sent_predict(\"이런걸 영화라고 만들었냐 ㅉㅉ\")"
   ]
  }
 ],
 "metadata": {
  "colab": {
   "collapsed_sections": [],
   "name": "Naver Movie Review Sentiment Analysis.ipynb",
   "provenance": []
  },
  "kernelspec": {
   "display_name": "Python 3",
   "language": "python",
   "name": "python3"
  },
  "language_info": {
   "codemirror_mode": {
    "name": "ipython",
    "version": 3
   },
   "file_extension": ".py",
   "mimetype": "text/x-python",
   "name": "python",
   "nbconvert_exporter": "python",
   "pygments_lexer": "ipython3",
   "version": "3.8.8"
  }
 },
 "nbformat": 4,
 "nbformat_minor": 5
}
