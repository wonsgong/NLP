{
 "cells": [
  {
   "cell_type": "markdown",
   "id": "located-system",
   "metadata": {},
   "source": [
    "# 네이버 영화 리뷰 감성 분석\n",
    "\n",
    "    데이터 : naver_reviews.csv https://github.com/e9t/nsmc raw 데이터 -> csv 로 변환.\n",
    "    모델 : Convolution , GRU\n"
   ]
  },
  {
   "cell_type": "markdown",
   "id": "institutional-flash",
   "metadata": {},
   "source": [
    "## 1. 데이터 처리"
   ]
  },
  {
   "cell_type": "code",
   "execution_count": 1,
   "id": "minimal-national",
   "metadata": {},
   "outputs": [
    {
     "name": "stdout",
     "output_type": "stream",
     "text": [
      "data size :  712404\n"
     ]
    }
   ],
   "source": [
    "import pandas as pd\n",
    "\n",
    "df = pd.read_csv('naver_movie_reviews.csv')\n",
    "df.head()\n",
    "print(\"data size : \",len(df))"
   ]
  },
  {
   "cell_type": "code",
   "execution_count": 2,
   "id": "beneficial-marshall",
   "metadata": {},
   "outputs": [
    {
     "name": "stdout",
     "output_type": "stream",
     "text": [
      "data size :  690072\n"
     ]
    }
   ],
   "source": [
    "# review 중복 제거, null 값 제거\n",
    "\n",
    "df.drop_duplicates(inplace=True)\n",
    "df.dropna(inplace=True)\n",
    "print(\"data size : \",len(df))"
   ]
  },
  {
   "cell_type": "code",
   "execution_count": 3,
   "id": "human-witness",
   "metadata": {},
   "outputs": [
    {
     "name": "stderr",
     "output_type": "stream",
     "text": [
      "<ipython-input-3-ea4cbfc0358c>:3: FutureWarning: The default value of regex will change from True to False in a future version.\n",
      "  df['review'] = df['review'].str.replace('[^ㄱ-ㅎㅏ-ㅣ가-힣 ]','')\n"
     ]
    },
    {
     "data": {
      "text/html": [
       "<div>\n",
       "<style scoped>\n",
       "    .dataframe tbody tr th:only-of-type {\n",
       "        vertical-align: middle;\n",
       "    }\n",
       "\n",
       "    .dataframe tbody tr th {\n",
       "        vertical-align: top;\n",
       "    }\n",
       "\n",
       "    .dataframe thead th {\n",
       "        text-align: right;\n",
       "    }\n",
       "</style>\n",
       "<table border=\"1\" class=\"dataframe\">\n",
       "  <thead>\n",
       "    <tr style=\"text-align: right;\">\n",
       "      <th></th>\n",
       "      <th>review</th>\n",
       "      <th>label</th>\n",
       "    </tr>\n",
       "  </thead>\n",
       "  <tbody>\n",
       "    <tr>\n",
       "      <th>0</th>\n",
       "      <td>종합 평점은 점 드립니다</td>\n",
       "      <td>0</td>\n",
       "    </tr>\n",
       "    <tr>\n",
       "      <th>1</th>\n",
       "      <td>원작이 칭송받는 이유는 웹툰 계 자체의 질적 저하가 심각하기 때문  원작이나 영화나...</td>\n",
       "      <td>0</td>\n",
       "    </tr>\n",
       "    <tr>\n",
       "      <th>2</th>\n",
       "      <td>나름의  감동도 있고 안타까운 마음에 가슴도 먹먹  배우들의 연기가  김수현 최고</td>\n",
       "      <td>2</td>\n",
       "    </tr>\n",
       "    <tr>\n",
       "      <th>3</th>\n",
       "      <td>이런걸 돈주고 본 내자신이 후회스럽다 최악의 쓰레기 영화 김수현 밖에없는 저질 삼류영화</td>\n",
       "      <td>0</td>\n",
       "    </tr>\n",
       "    <tr>\n",
       "      <th>4</th>\n",
       "      <td>초반엔 코미디 후반엔 액션 결론은 코미디</td>\n",
       "      <td>1</td>\n",
       "    </tr>\n",
       "  </tbody>\n",
       "</table>\n",
       "</div>"
      ],
      "text/plain": [
       "                                              review  label\n",
       "0                                      종합 평점은 점 드립니다      0\n",
       "1  원작이 칭송받는 이유는 웹툰 계 자체의 질적 저하가 심각하기 때문  원작이나 영화나...      0\n",
       "2      나름의  감동도 있고 안타까운 마음에 가슴도 먹먹  배우들의 연기가  김수현 최고      2\n",
       "3   이런걸 돈주고 본 내자신이 후회스럽다 최악의 쓰레기 영화 김수현 밖에없는 저질 삼류영화      0\n",
       "4                             초반엔 코미디 후반엔 액션 결론은 코미디      1"
      ]
     },
     "execution_count": 3,
     "metadata": {},
     "output_type": "execute_result"
    }
   ],
   "source": [
    "# review 데이터 한글, 공백 제외 제거\n",
    "\n",
    "df['review'] = df['review'].str.replace('[^ㄱ-ㅎㅏ-ㅣ가-힣 ]','')\n",
    "df.head()"
   ]
  },
  {
   "cell_type": "code",
   "execution_count": 4,
   "id": "tutorial-experience",
   "metadata": {},
   "outputs": [
    {
     "data": {
      "text/plain": [
       "review    0\n",
       "label     0\n",
       "dtype: int64"
      ]
     },
     "execution_count": 4,
     "metadata": {},
     "output_type": "execute_result"
    }
   ],
   "source": [
    "# 영어 review 있었는 지 확인\n",
    "df.isnull().sum()"
   ]
  },
  {
   "cell_type": "code",
   "execution_count": 5,
   "id": "optional-authentication",
   "metadata": {},
   "outputs": [
    {
     "name": "stdout",
     "output_type": "stream",
     "text": [
      "2    440465\n",
      "1    131188\n",
      "0    118419\n",
      "Name: label, dtype: int64\n"
     ]
    },
    {
     "data": {
      "image/png": "[encoded data removed]",
      "text/plain": [
       "<Figure size 432x288 with 1 Axes>"
      ]
     },
     "metadata": {
      "needs_background": "light"
     },
     "output_type": "display_data"
    }
   ],
   "source": [
    "df['label'].value_counts().plot(kind='bar')\n",
    "print(df['label'].value_counts())"
   ]
  },
  {
   "cell_type": "code",
   "execution_count": 6,
   "id": "international-north",
   "metadata": {},
   "outputs": [
    {
     "name": "stdout",
     "output_type": "stream",
     "text": [
      "max length :  140\n",
      "mean length :  33.38963325566028\n"
     ]
    },
    {
     "data": {
      "image/png": "[encoded data removed]",
      "text/plain": [
       "<Figure size 432x288 with 1 Axes>"
      ]
     },
     "metadata": {
      "needs_background": "light"
     },
     "output_type": "display_data"
    }
   ],
   "source": [
    "import numpy as np\n",
    "import matplotlib.pyplot as plt\n",
    "\n",
    "print(\"max length : \",max(len(review) for review in df['review']))\n",
    "print(\"mean length : \",np.mean([len(review) for review in df['review']]))\n",
    "plt.hist([len(review) for review in df['review']],bins=50);"
   ]
  },
  {
   "cell_type": "code",
   "execution_count": 7,
   "id": "labeled-effectiveness",
   "metadata": {},
   "outputs": [
    {
     "data": {
      "image/png": "[encoded data removed]",
      "text/plain": [
       "<Figure size 864x288 with 3 Axes>"
      ]
     },
     "metadata": {
      "needs_background": "light"
     },
     "output_type": "display_data"
    }
   ],
   "source": [
    "fig, axes = plt.subplots(1,3,figsize=(12,4),constrained_layout=True)\n",
    "fig.suptitle(\"review data length\")\n",
    "\n",
    "axes[0].hist([len(review) for review,label in zip(df['review'],df['label']) if label == 0])\n",
    "axes[0].set_title(\"Negative reviews\")\n",
    "axes[1].hist([len(review) for review,label in zip(df['review'],df['label']) if label == 1])\n",
    "axes[1].set_title(\"Neutral reviews\")\n",
    "axes[2].hist([len(review) for review,label in zip(df['review'],df['label']) if label == 2])\n",
    "axes[2].set_title(\"Positive reviews\");"
   ]
  },
  {
   "cell_type": "code",
   "execution_count": 8,
   "id": "swiss-branch",
   "metadata": {},
   "outputs": [
    {
     "name": "stdout",
     "output_type": "stream",
     "text": [
      "0    100000\n",
      "1    100000\n",
      "2    100000\n",
      "Name: label, dtype: int64\n"
     ]
    },
    {
     "data": {
      "image/png": "[encoded data removed]",
      "text/plain": [
       "<Figure size 432x288 with 1 Axes>"
      ]
     },
     "metadata": {
      "needs_background": "light"
     },
     "output_type": "display_data"
    }
   ],
   "source": [
    "# 데이터가 긍정 레이블에 치중되어 있다. -> 100,000개로 맞춰준다. \n",
    "# 리뷰 길이의 분포는 각 레이블 별 유사하다.\n",
    "\n",
    "\n",
    "df = df.sample(frac=1).groupby('label').head(100000)\n",
    "df['label'].value_counts().plot(kind='bar')\n",
    "print(df['label'].value_counts())"
   ]
  },
  {
   "cell_type": "code",
   "execution_count": 9,
   "id": "promotional-myrtle",
   "metadata": {},
   "outputs": [],
   "source": [
    "# train / test 데이터 나눠준다.\n",
    "\n",
    "from sklearn.model_selection import train_test_split\n",
    "\n",
    "X = df['review']\n",
    "y = df['label']\n",
    "\n",
    "X_train_data, X_test_data, y_train_data, y_test_data = train_test_split(X, y, test_size=0.2, random_state=42)"
   ]
  },
  {
   "cell_type": "code",
   "execution_count": 10,
   "id": "suspected-tourism",
   "metadata": {},
   "outputs": [
    {
     "name": "stdout",
     "output_type": "stream",
     "text": [
      "train size :  240000\n",
      "test size :  60000\n"
     ]
    }
   ],
   "source": [
    "print(\"train size : \",len(X_train_data))\n",
    "print(\"test size : \",len(X_test_data))"
   ]
  },
  {
   "cell_type": "markdown",
   "id": "greatest-stack",
   "metadata": {},
   "source": [
    "## 텍스트 처리\n",
    "    한글 자연어 처리 라이브러리인 Okt 사용.\n",
    "    불용어는 https://bab2min.tistory.com/544 참고. "
   ]
  },
  {
   "cell_type": "code",
   "execution_count": 11,
   "id": "suburban-picking",
   "metadata": {
    "scrolled": false
   },
   "outputs": [
    {
     "name": "stdout",
     "output_type": "stream",
     "text": [
      "100\n"
     ]
    }
   ],
   "source": [
    "f = open('stopwords.txt')\n",
    "stopwords = []\n",
    "for line in f :\n",
    "    stopwords.append(line.split(\"\\t\")[0])\n",
    "\n",
    "print(len(stopwords))"
   ]
  },
  {
   "cell_type": "code",
   "execution_count": 12,
   "id": "victorian-renaissance",
   "metadata": {
    "scrolled": true
   },
   "outputs": [
    {
     "name": "stderr",
     "output_type": "stream",
     "text": [
      "100%|██████████| 240000/240000 [04:37<00:00, 863.84it/s] \n"
     ]
    },
    {
     "data": {
      "text/plain": [
       "[['알다', '원작', '을', '보다', '영화', '원작', '을', '어떻다', '망치다'],\n",
       " ['어리다',\n",
       "  '부터',\n",
       "  '귀신',\n",
       "  '도',\n",
       "  '종종',\n",
       "  '보고',\n",
       "  '무서움',\n",
       "  '거의',\n",
       "  '없다',\n",
       "  '어느',\n",
       "  '날',\n",
       "  '영화',\n",
       "  '티비',\n",
       "  '에서',\n",
       "  '보고',\n",
       "  '그야말로',\n",
       "  '지리다',\n",
       "  '뻔',\n",
       "  '갑자기',\n",
       "  '생각나다',\n",
       "  '검색',\n",
       "  '해보다',\n",
       "  '있다',\n",
       "  'ㅋ'],\n",
       " ['거미줄', '처럼', '퍼지다', '나가다', '혼돈', '의', '의식', '에서']]"
      ]
     },
     "execution_count": 12,
     "metadata": {},
     "output_type": "execute_result"
    }
   ],
   "source": [
    "from konlpy.tag import Okt\n",
    "from tqdm import tqdm\n",
    "\n",
    "okt = Okt()\n",
    "\n",
    "X_train_token = []\n",
    "for sent in tqdm(X_train_data) :\n",
    "    tmp = [] \n",
    "    tmp = okt.morphs(sent,stem=True)\n",
    "    tmp = [word for word in tmp if word not in stopwords]\n",
    "    X_train_token.append(tmp)\n",
    "\n",
    "X_train_token[:3]"
   ]
  },
  {
   "cell_type": "code",
   "execution_count": 13,
   "id": "described-shoulder",
   "metadata": {
    "scrolled": true
   },
   "outputs": [
    {
     "name": "stderr",
     "output_type": "stream",
     "text": [
      "100%|██████████| 60000/60000 [01:20<00:00, 746.09it/s]\n"
     ]
    },
    {
     "data": {
      "text/plain": [
       "[['주인공',\n",
       "  '은',\n",
       "  '어쩔',\n",
       "  '땐',\n",
       "  '예쁘다',\n",
       "  '어쩔',\n",
       "  '땐',\n",
       "  '초췌하다',\n",
       "  '여',\n",
       "  '주의',\n",
       "  '마음',\n",
       "  '이공',\n",
       "  '감감',\n",
       "  '남다',\n",
       "  '보다',\n",
       "  '영'],\n",
       " ['미스터', '빈', '은', '영원하다'],\n",
       " ['재밌다',\n",
       "  '보다',\n",
       "  '물론',\n",
       "  '혐오',\n",
       "  '스러운',\n",
       "  '부분',\n",
       "  '도',\n",
       "  '많다',\n",
       "  '저',\n",
       "  '는',\n",
       "  '개인',\n",
       "  '으로',\n",
       "  '가면',\n",
       "  '쓰다',\n",
       "  '나오다',\n",
       "  '공포영화',\n",
       "  '를',\n",
       "  '특히',\n",
       "  '무섭다',\n",
       "  '하다',\n",
       "  '목소리',\n",
       "  '에',\n",
       "  '공포',\n",
       "  '감다',\n",
       "  '높이다',\n",
       "  '같다',\n",
       "  '마지막',\n",
       "  '카호',\n",
       "  '하다',\n",
       "  '짓',\n",
       "  '에',\n",
       "  '대한',\n",
       "  '정신',\n",
       "  '세계',\n",
       "  '이해',\n",
       "  '되다',\n",
       "  '않다']]"
      ]
     },
     "execution_count": 13,
     "metadata": {},
     "output_type": "execute_result"
    }
   ],
   "source": [
    "X_test_token = []\n",
    "for sent in tqdm(X_test_data) :\n",
    "    tmp = [] \n",
    "    tmp = okt.morphs(sent,stem=True)\n",
    "    tmp = [word for word in tmp if word not in stopwords]\n",
    "    X_test_token.append(tmp)\n",
    "    \n",
    "X_test_token[:3]"
   ]
  },
  {
   "cell_type": "code",
   "execution_count": 21,
   "id": "welsh-price",
   "metadata": {},
   "outputs": [
    {
     "name": "stdout",
     "output_type": "stream",
     "text": [
      "단어 집합(vocabulary)의 크기 : 53385\n",
      "등장 빈도가 2번 이하인 희귀 단어의 수: 29106\n",
      "단어 집합에서 희귀 단어의 비율: 54.520932846305136\n",
      "전체 등장 빈도에서 희귀 단어 등장 빈도 비율: 1.2983085304263995\n"
     ]
    }
   ],
   "source": [
    "# threshold 확인\n",
    "\n",
    "from tensorflow.keras.preprocessing.text import Tokenizer\n",
    "\n",
    "tokenizer = Tokenizer()\n",
    "tokenizer.fit_on_texts(X_train_token)\n",
    "\n",
    "threshold = 3\n",
    "total_cnt = len(tokenizer.word_index) # 단어의 수\n",
    "rare_cnt = 0   # 등장 빈도수가 threshold보다 작은 단어의 개수를 카운트\n",
    "total_freq = 0 # 훈련 데이터의 전체 단어 빈도수 총 합\n",
    "rare_freq = 0  # 등장 빈도수가 threshold보다 작은 단어의 등장 빈도수의 총 합\n",
    "\n",
    "# 단어와 빈도수의 쌍(pair)을 key와 value로 받는다.\n",
    "for key, value in tokenizer.word_counts.items():\n",
    "    total_freq = total_freq + value\n",
    "\n",
    "    # 단어의 등장 빈도수가 threshold보다 작으면\n",
    "    if(value < threshold):\n",
    "        rare_cnt = rare_cnt + 1\n",
    "        rare_freq = rare_freq + value\n",
    "\n",
    "print('단어 집합(vocabulary)의 크기 :',total_cnt)\n",
    "print('등장 빈도가 %s번 이하인 희귀 단어의 수: %s'%(threshold - 1, rare_cnt))\n",
    "print(\"단어 집합에서 희귀 단어의 비율:\", (rare_cnt / total_cnt)*100)\n",
    "print(\"전체 등장 빈도에서 희귀 단어 등장 빈도 비율:\", (rare_freq / total_freq)*100)"
   ]
  },
  {
   "cell_type": "code",
   "execution_count": 22,
   "id": "sharp-passenger",
   "metadata": {},
   "outputs": [
    {
     "name": "stdout",
     "output_type": "stream",
     "text": [
      "24281\n"
     ]
    }
   ],
   "source": [
    "# 0번 패딩 토큰 , 1번 OOV 토큰 고려 +2\n",
    "vocab_size = total_cnt - rare_cnt + 2 \n",
    "print(vocab_size)"
   ]
  },
  {
   "cell_type": "code",
   "execution_count": 23,
   "id": "wrong-comment",
   "metadata": {},
   "outputs": [],
   "source": [
    "# 정수 인코딩\n",
    "tokenizer = Tokenizer(num_words=vocab_size,oov_token='OOV')\n",
    "tokenizer.fit_on_texts(X_train_token)\n",
    "X_train = tokenizer.texts_to_sequences(X_train_token)\n",
    "X_test = tokenizer.texts_to_sequences(X_test_token)"
   ]
  },
  {
   "cell_type": "code",
   "execution_count": 24,
   "id": "ancient-terrain",
   "metadata": {},
   "outputs": [],
   "source": [
    "import numpy as np\n",
    "\n",
    "y_train = np.array(y_train_data)\n",
    "y_test = np.array(y_test_data)"
   ]
  },
  {
   "cell_type": "code",
   "execution_count": 25,
   "id": "modular-insured",
   "metadata": {
    "scrolled": true
   },
   "outputs": [
    {
     "name": "stdout",
     "output_type": "stream",
     "text": [
      "X_train size :  238862\n",
      "y_train size :  238862\n"
     ]
    }
   ],
   "source": [
    "# 빈도수 낮은 단어 삭제 -> 빈 샘플 존재\n",
    "\n",
    "drop_idx = [idx for idx, sent in enumerate(X_train) if len(sent) < 1]\n",
    "\n",
    "X_train = np.delete(X_train,drop_idx,axis=0)\n",
    "y_train = np.delete(y_train,drop_idx,axis=0)\n",
    "\n",
    "print(\"X_train size : \",len(X_train))\n",
    "print(\"y_train size : \",len(y_train))"
   ]
  },
  {
   "cell_type": "markdown",
   "id": "searching-white",
   "metadata": {},
   "source": [
    "## 패딩"
   ]
  },
  {
   "cell_type": "code",
   "execution_count": 33,
   "id": "awful-polymer",
   "metadata": {},
   "outputs": [
    {
     "name": "stdout",
     "output_type": "stream",
     "text": [
      "max length of reivews :  70\n",
      "mean length of reivews :  11.503416198474433\n"
     ]
    },
    {
     "data": {
      "image/png": "[encoded data removed]",
      "text/plain": [
       "<Figure size 432x288 with 1 Axes>"
      ]
     },
     "metadata": {
      "needs_background": "light"
     },
     "output_type": "display_data"
    }
   ],
   "source": [
    "import matplotlib.pyplot as plt\n",
    "\n",
    "print(\"max length of reivews : \",max(len(word) for word in X_train))\n",
    "print(\"mean length of reivews : \",np.mean([len(word) for word in X_train]))\n",
    "plt.hist([len(word) for word in X_train],bins=50)\n",
    "plt.xlabel(\"length of samples\")\n",
    "plt.ylabel(\"number of samples\")\n",
    "plt.show()"
   ]
  },
  {
   "cell_type": "code",
   "execution_count": 34,
   "id": "caroline-comparative",
   "metadata": {},
   "outputs": [
    {
     "name": "stdout",
     "output_type": "stream",
     "text": [
      "threshold : 30\n",
      "percentage of sample that shorter threshold 30 : 93.642\n",
      "threshold : 40\n",
      "percentage of sample that shorter threshold 40 : 97.328\n"
     ]
    }
   ],
   "source": [
    "def belowThreshold(thre, words) :\n",
    "    cnt = 0\n",
    "    for word in words:\n",
    "        if(len(word) <= thre) :\n",
    "            cnt += 1\n",
    "    print(f\"percentage of sample that shorter threshold {thre} : {round((cnt / len(words)) * 100,3)}\")\n",
    "    \n",
    "print(\"threshold : 30\")\n",
    "belowThreshold(30,X_train)\n",
    "print(\"threshold : 40\")\n",
    "belowThreshold(40,X_train)"
   ]
  },
  {
   "cell_type": "code",
   "execution_count": 35,
   "id": "final-comparative",
   "metadata": {},
   "outputs": [],
   "source": [
    "# 최대 길이 40으로 맞춤\n",
    "from tensorflow.keras.preprocessing.sequence import pad_sequences\n",
    "\n",
    "max_len = 40\n",
    "X_train = pad_sequences(X_train,maxlen = max_len)\n",
    "X_test = pad_sequences(X_test,maxlen = max_len)"
   ]
  },
  {
   "cell_type": "code",
   "execution_count": 36,
   "id": "laden-outdoors",
   "metadata": {},
   "outputs": [],
   "source": [
    "# 원-핫 인코딩.\n",
    "from tensorflow.keras.utils import to_categorical\n",
    "\n",
    "y_train = to_categorical(y_train,3)\n",
    "y_test = to_categorical(y_test,3)"
   ]
  },
  {
   "cell_type": "markdown",
   "id": "improved-relation",
   "metadata": {},
   "source": [
    "## 모델 구축"
   ]
  },
  {
   "cell_type": "markdown",
   "id": "appropriate-subscription",
   "metadata": {},
   "source": [
    "### 문장 예측 함수"
   ]
  },
  {
   "cell_type": "code",
   "execution_count": 93,
   "id": "interim-manual",
   "metadata": {},
   "outputs": [],
   "source": [
    "def sent_predict(sent,model) :\n",
    "    sent = okt.morphs(sent,stem=True)\n",
    "    sent = [word for word in sent if word not in stopwords]\n",
    "    encoded = tokenizer.texts_to_sequences([sent])\n",
    "    padded = pad_sequences(encoded,maxlen=max_len)\n",
    "    score = model.predict(padded)\n",
    "    idx = np.argmax(score[0])\n",
    "    if idx == 0 :\n",
    "        print(\"{} % Negative review\".format(round(score[0][idx]*100,2)))\n",
    "    elif idx == 1:\n",
    "        print(\"{} % Neutral review\".format(round(score[0][idx]*100,2)))\n",
    "    else :\n",
    "        print(\"{} % Positive review\".format(round(score[0][idx]*100,2)))"
   ]
  },
  {
   "cell_type": "markdown",
   "id": "extensive-elite",
   "metadata": {},
   "source": [
    "### GRU"
   ]
  },
  {
   "cell_type": "code",
   "execution_count": 80,
   "id": "incoming-richmond",
   "metadata": {},
   "outputs": [],
   "source": [
    "# 조기 종료 요건과 베스트 모델 저장\n",
    "from tensorflow.keras.callbacks import EarlyStopping, ModelCheckpoint\n",
    "\n",
    "es = EarlyStopping(monitor='val_loss',mode='min',verbose=1,patience=4)\n",
    "\n",
    "mc = ModelCheckpoint('NAVER_GRU.h5',monitor='val_acc',mode='max',verbose=1,\n",
    "                    save_best_only=True)"
   ]
  },
  {
   "cell_type": "code",
   "execution_count": 81,
   "id": "trying-turkish",
   "metadata": {},
   "outputs": [],
   "source": [
    "from tensorflow.keras.models import Sequential\n",
    "from tensorflow.keras.layers import GRU,Embedding,Dense\n",
    "\n",
    "model = Sequential()\n",
    "model.add(Embedding(vocab_size,100))\n",
    "model.add(GRU(128))\n",
    "model.add(Dense(3,activation='softmax'))"
   ]
  },
  {
   "cell_type": "code",
   "execution_count": 82,
   "id": "settled-beatles",
   "metadata": {
    "scrolled": true
   },
   "outputs": [
    {
     "name": "stdout",
     "output_type": "stream",
     "text": [
      "Epoch 1/15\n",
      "3185/3185 [==============================] - 221s 69ms/step - loss: 0.8522 - acc: 0.5968 - val_loss: 0.7644 - val_acc: 0.6526\n",
      "\n",
      "Epoch 00001: val_acc improved from -inf to 0.65263, saving model to NAVER_GRU.h5\n",
      "Epoch 2/15\n",
      "3185/3185 [==============================] - 222s 70ms/step - loss: 0.6993 - acc: 0.6918 - val_loss: 0.7653 - val_acc: 0.6499\n",
      "\n",
      "Epoch 00002: val_acc did not improve from 0.65263\n",
      "Epoch 3/15\n",
      "3185/3185 [==============================] - 223s 70ms/step - loss: 0.6314 - acc: 0.7254 - val_loss: 0.7874 - val_acc: 0.6449\n",
      "\n",
      "Epoch 00003: val_acc did not improve from 0.65263\n",
      "Epoch 4/15\n",
      "3185/3185 [==============================] - 222s 70ms/step - loss: 0.5562 - acc: 0.7631 - val_loss: 0.8556 - val_acc: 0.6354\n",
      "\n",
      "Epoch 00004: val_acc did not improve from 0.65263\n",
      "Epoch 5/15\n",
      "3185/3185 [==============================] - 229s 72ms/step - loss: 0.4793 - acc: 0.7979 - val_loss: 0.9524 - val_acc: 0.6276\n",
      "\n",
      "Epoch 00005: val_acc did not improve from 0.65263\n",
      "Epoch 00005: early stopping\n"
     ]
    },
    {
     "data": {
      "text/plain": [
       "<tensorflow.python.keras.callbacks.History at 0x2ccd9d9a0>"
      ]
     },
     "execution_count": 82,
     "metadata": {},
     "output_type": "execute_result"
    }
   ],
   "source": [
    "model.compile(optimizer='adam',loss='categorical_crossentropy',\n",
    "              metrics=['acc'])\n",
    "\n",
    "model.fit(X_train,y_train,epochs=15,callbacks=[es,mc],\n",
    "          batch_size=60,validation_split=0.2)"
   ]
  },
  {
   "cell_type": "code",
   "execution_count": 83,
   "id": "amateur-judges",
   "metadata": {},
   "outputs": [
    {
     "name": "stdout",
     "output_type": "stream",
     "text": [
      "1875/1875 [==============================] - 33s 18ms/step - loss: 0.9545 - acc: 0.6249\n",
      "model accuracy :  0.6248833537101746\n"
     ]
    }
   ],
   "source": [
    "print(\"model accuracy : \",model.evaluate(X_test,y_test)[1])"
   ]
  },
  {
   "cell_type": "code",
   "execution_count": 90,
   "id": "rapid-ivory",
   "metadata": {},
   "outputs": [
    {
     "name": "stdout",
     "output_type": "stream",
     "text": [
      "85.81 % Neutral review\n"
     ]
    }
   ],
   "source": [
    "sent_predict(\"하이틴 로맨스로 시작해서 퀴어로 끝난다. 연출은 부족하지만, 시도는 놀랍다.\",model) "
   ]
  },
  {
   "cell_type": "code",
   "execution_count": 91,
   "id": "conventional-gabriel",
   "metadata": {},
   "outputs": [
    {
     "name": "stdout",
     "output_type": "stream",
     "text": [
      "94.81 % Negative review\n"
     ]
    }
   ],
   "source": [
    "sent_predict('내용 부터가 좀 지금 시대로써는 공감ㄴㄴ 피노키오 재미있던데 왜이런 드라마가 수목 시청률위인지 모르겠어',model)"
   ]
  },
  {
   "cell_type": "code",
   "execution_count": 92,
   "id": "portable-keeping",
   "metadata": {},
   "outputs": [
    {
     "name": "stdout",
     "output_type": "stream",
     "text": [
      "71.03 % Positive review\n"
     ]
    }
   ],
   "source": [
    "sent_predict('역시 뽀통령은 최고다',model)"
   ]
  },
  {
   "cell_type": "markdown",
   "id": "broadband-stomach",
   "metadata": {},
   "source": [
    "## Conv"
   ]
  },
  {
   "cell_type": "code",
   "execution_count": 40,
   "id": "danish-latex",
   "metadata": {},
   "outputs": [],
   "source": [
    "# 조기 종료 요건과 베스트 모델 저장\n",
    "from tensorflow.keras.callbacks import EarlyStopping, ModelCheckpoint\n",
    "\n",
    "es = EarlyStopping(monitor='val_loss',mode='min',verbose=1,patience=4)\n",
    "\n",
    "mc = ModelCheckpoint('NAVER_CONV.h5',monitor='val_acc',mode='max',verbose=1,\n",
    "                    save_best_only=True)"
   ]
  },
  {
   "cell_type": "code",
   "execution_count": 41,
   "id": "brutal-fitness",
   "metadata": {},
   "outputs": [],
   "source": [
    "from tensorflow.keras.models import Sequential\n",
    "from tensorflow.keras.layers import Dense, Dropout, Conv1D, GlobalMaxPooling1D, Embedding\n",
    "\n",
    "CNN = Sequential()\n",
    "CNN.add(Embedding(vocab_size,256))\n",
    "CNN.add(Dropout(0.3))\n",
    "CNN.add(Conv1D(256,3,padding='valid',activation='relu'))\n",
    "CNN.add(GlobalMaxPooling1D())\n",
    "CNN.add(Dense(128,activation='relu'))\n",
    "CNN.add(Dropout(0.5))\n",
    "CNN.add(Dense(3,activation='softmax'))"
   ]
  },
  {
   "cell_type": "code",
   "execution_count": 42,
   "id": "genetic-audience",
   "metadata": {},
   "outputs": [
    {
     "name": "stdout",
     "output_type": "stream",
     "text": [
      "Epoch 1/15\n",
      "7465/7465 [==============================] - 130s 17ms/step - loss: 0.8806 - acc: 0.5835 - val_loss: 0.7822 - val_acc: 0.6417\n",
      "\n",
      "Epoch 00001: val_acc improved from -inf to 0.64165, saving model to NAVER_CONV.h5\n",
      "Epoch 2/15\n",
      "7465/7465 [==============================] - 128s 17ms/step - loss: 0.7546 - acc: 0.6676 - val_loss: 0.7870 - val_acc: 0.6429\n",
      "\n",
      "Epoch 00002: val_acc improved from 0.64165 to 0.64293, saving model to NAVER_CONV.h5\n",
      "Epoch 3/15\n",
      "7465/7465 [==============================] - 129s 17ms/step - loss: 0.6881 - acc: 0.7040 - val_loss: 0.7860 - val_acc: 0.6420\n",
      "\n",
      "Epoch 00003: val_acc did not improve from 0.64293\n",
      "Epoch 4/15\n",
      "7465/7465 [==============================] - 129s 17ms/step - loss: 0.6226 - acc: 0.7397 - val_loss: 0.8512 - val_acc: 0.6431\n",
      "\n",
      "Epoch 00004: val_acc improved from 0.64293 to 0.64310, saving model to NAVER_CONV.h5\n",
      "Epoch 5/15\n",
      "7465/7465 [==============================] - 130s 17ms/step - loss: 0.5540 - acc: 0.7717 - val_loss: 0.9248 - val_acc: 0.6339\n",
      "\n",
      "Epoch 00005: val_acc did not improve from 0.64310\n",
      "Epoch 00005: early stopping\n"
     ]
    },
    {
     "data": {
      "text/plain": [
       "<tensorflow.python.keras.callbacks.History at 0x2d06d4fa0>"
      ]
     },
     "execution_count": 42,
     "metadata": {},
     "output_type": "execute_result"
    }
   ],
   "source": [
    "CNN.compile(optimizer='adam',loss='categorical_crossentropy',metrics=['acc'])\n",
    "\n",
    "CNN.fit(X_train,y_train,epochs=15,validation_data=(X_test,y_test),callbacks=[es,mc])"
   ]
  },
  {
   "cell_type": "code",
   "execution_count": 44,
   "id": "whole-prairie",
   "metadata": {},
   "outputs": [
    {
     "name": "stdout",
     "output_type": "stream",
     "text": [
      "1875/1875 [==============================] - 3s 2ms/step - loss: 0.9248 - acc: 0.6339\n",
      "model accuracy :  0.6339166760444641\n"
     ]
    }
   ],
   "source": [
    "print(\"model accuracy : \",CNN.evaluate(X_test,y_test)[1])"
   ]
  },
  {
   "cell_type": "code",
   "execution_count": 86,
   "id": "mental-bankruptcy",
   "metadata": {},
   "outputs": [
    {
     "name": "stdout",
     "output_type": "stream",
     "text": [
      "73.97 % Neutral review\n"
     ]
    }
   ],
   "source": [
    "sent_predict(\"하이틴 로맨스로 시작해서 퀴어로 끝난다. 연출은 부족하지만, 시도는 놀랍다.\",CNN) "
   ]
  },
  {
   "cell_type": "code",
   "execution_count": 88,
   "id": "premier-license",
   "metadata": {},
   "outputs": [
    {
     "name": "stdout",
     "output_type": "stream",
     "text": [
      "97.72 % Negative review\n"
     ]
    }
   ],
   "source": [
    "sent_predict('내용 부터가 좀 지금 시대로써는 공감ㄴㄴ 피노키오 재미있던데 왜이런 드라마가 수목 시청률위인지 모르겠어',CNN)"
   ]
  },
  {
   "cell_type": "code",
   "execution_count": 89,
   "id": "biblical-latex",
   "metadata": {},
   "outputs": [
    {
     "name": "stdout",
     "output_type": "stream",
     "text": [
      "94.81 % Positive review\n"
     ]
    }
   ],
   "source": [
    "sent_predict('역시 뽀통령은 최고다',CNN)"
   ]
  },
  {
   "cell_type": "markdown",
   "id": "fleet-massachusetts",
   "metadata": {},
   "source": [
    "중립에 대한 감성 분석을 하는게 어렵다. \n",
    "\n",
    "단순히 평점만으로 이걸 구분짓는게 쉽지 않다.\n",
    "\n",
    "평점을 (1-4) / (5-7) / (8-10) 으로 나누지 말고 \n",
    "\n",
    "중립 데이터는 확실하게 해야 되는 거 같다. -> 평점은 7점이지만 리뷰가 긍정적으로 써있는 경우 , 그 반대의 경우도 그렇듯"
   ]
  }
 ],
 "metadata": {
  "kernelspec": {
   "display_name": "Python 3",
   "language": "python",
   "name": "python3"
  },
  "language_info": {
   "codemirror_mode": {
    "name": "ipython",
    "version": 3
   },
   "file_extension": ".py",
   "mimetype": "text/x-python",
   "name": "python",
   "nbconvert_exporter": "python",
   "pygments_lexer": "ipython3",
   "version": "3.8.8"
  }
 },
 "nbformat": 4,
 "nbformat_minor": 5
}
