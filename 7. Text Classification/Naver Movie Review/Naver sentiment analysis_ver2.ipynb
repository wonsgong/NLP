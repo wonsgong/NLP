{
 "cells": [
  {
   "cell_type": "markdown",
   "id": "located-system",
   "metadata": {},
   "source": [
    "# 네이버 영화 리뷰 감성 분석\n",
    "\n",
    "    차이점 : \n",
    "        1. 기존의 레이블된 데이터 대신 새로 레이블된 데이터 사용(naver_movie_reviews_ver2.csv)\n",
    "        2. CNN 모델의 경우 일시정지 시키지 않고 끝까지 학습시킴(overfitting 발생 -> 얼마나 차이가 나는지 확인)"
   ]
  },
  {
   "cell_type": "markdown",
   "id": "institutional-flash",
   "metadata": {},
   "source": [
    "## 1. 데이터 처리"
   ]
  },
  {
   "cell_type": "code",
   "execution_count": 1,
   "id": "minimal-national",
   "metadata": {},
   "outputs": [
    {
     "name": "stdout",
     "output_type": "stream",
     "text": [
      "data size :  712404\n"
     ]
    }
   ],
   "source": [
    "import pandas as pd\n",
    "\n",
    "df = pd.read_csv('naver_movie_reviews_ver2.csv')\n",
    "df.head()\n",
    "print(\"data size : \",len(df))"
   ]
  },
  {
   "cell_type": "code",
   "execution_count": 2,
   "id": "beneficial-marshall",
   "metadata": {},
   "outputs": [
    {
     "name": "stdout",
     "output_type": "stream",
     "text": [
      "data size :  690440\n"
     ]
    }
   ],
   "source": [
    "# review 중복 제거, null 값 제거\n",
    "\n",
    "df.drop_duplicates(inplace=True)\n",
    "df.dropna(inplace=True)\n",
    "print(\"data size : \",len(df))"
   ]
  },
  {
   "cell_type": "code",
   "execution_count": 3,
   "id": "human-witness",
   "metadata": {},
   "outputs": [
    {
     "name": "stderr",
     "output_type": "stream",
     "text": [
      "<ipython-input-3-ea4cbfc0358c>:3: FutureWarning: The default value of regex will change from True to False in a future version.\n",
      "  df['review'] = df['review'].str.replace('[^ㄱ-ㅎㅏ-ㅣ가-힣 ]','')\n"
     ]
    },
    {
     "data": {
      "text/html": [
       "<div>\n",
       "<style scoped>\n",
       "    .dataframe tbody tr th:only-of-type {\n",
       "        vertical-align: middle;\n",
       "    }\n",
       "\n",
       "    .dataframe tbody tr th {\n",
       "        vertical-align: top;\n",
       "    }\n",
       "\n",
       "    .dataframe thead th {\n",
       "        text-align: right;\n",
       "    }\n",
       "</style>\n",
       "<table border=\"1\" class=\"dataframe\">\n",
       "  <thead>\n",
       "    <tr style=\"text-align: right;\">\n",
       "      <th></th>\n",
       "      <th>review</th>\n",
       "      <th>label</th>\n",
       "    </tr>\n",
       "  </thead>\n",
       "  <tbody>\n",
       "    <tr>\n",
       "      <th>0</th>\n",
       "      <td>종합 평점은 점 드립니다</td>\n",
       "      <td>0</td>\n",
       "    </tr>\n",
       "    <tr>\n",
       "      <th>1</th>\n",
       "      <td>원작이 칭송받는 이유는 웹툰 계 자체의 질적 저하가 심각하기 때문  원작이나 영화나...</td>\n",
       "      <td>0</td>\n",
       "    </tr>\n",
       "    <tr>\n",
       "      <th>2</th>\n",
       "      <td>나름의  감동도 있고 안타까운 마음에 가슴도 먹먹  배우들의 연기가  김수현 최고</td>\n",
       "      <td>2</td>\n",
       "    </tr>\n",
       "    <tr>\n",
       "      <th>3</th>\n",
       "      <td>이런걸 돈주고 본 내자신이 후회스럽다 최악의 쓰레기 영화 김수현 밖에없는 저질 삼류영화</td>\n",
       "      <td>0</td>\n",
       "    </tr>\n",
       "    <tr>\n",
       "      <th>4</th>\n",
       "      <td>초반엔 코미디 후반엔 액션 결론은 코미디</td>\n",
       "      <td>1</td>\n",
       "    </tr>\n",
       "  </tbody>\n",
       "</table>\n",
       "</div>"
      ],
      "text/plain": [
       "                                              review  label\n",
       "0                                      종합 평점은 점 드립니다      0\n",
       "1  원작이 칭송받는 이유는 웹툰 계 자체의 질적 저하가 심각하기 때문  원작이나 영화나...      0\n",
       "2      나름의  감동도 있고 안타까운 마음에 가슴도 먹먹  배우들의 연기가  김수현 최고      2\n",
       "3   이런걸 돈주고 본 내자신이 후회스럽다 최악의 쓰레기 영화 김수현 밖에없는 저질 삼류영화      0\n",
       "4                             초반엔 코미디 후반엔 액션 결론은 코미디      1"
      ]
     },
     "execution_count": 3,
     "metadata": {},
     "output_type": "execute_result"
    }
   ],
   "source": [
    "# review 데이터 한글, 공백 제외 제거\n",
    "\n",
    "df['review'] = df['review'].str.replace('[^ㄱ-ㅎㅏ-ㅣ가-힣 ]','')\n",
    "df.head()"
   ]
  },
  {
   "cell_type": "code",
   "execution_count": 4,
   "id": "tutorial-experience",
   "metadata": {},
   "outputs": [
    {
     "data": {
      "text/plain": [
       "review    0\n",
       "label     0\n",
       "dtype: int64"
      ]
     },
     "execution_count": 4,
     "metadata": {},
     "output_type": "execute_result"
    }
   ],
   "source": [
    "# 영어 review 있었는 지 확인\n",
    "df.isnull().sum()"
   ]
  },
  {
   "cell_type": "code",
   "execution_count": 5,
   "id": "optional-authentication",
   "metadata": {},
   "outputs": [
    {
     "name": "stdout",
     "output_type": "stream",
     "text": [
      "2    363426\n",
      "1    208595\n",
      "0    118419\n",
      "Name: label, dtype: int64\n"
     ]
    },
    {
     "data": {
      "image/png": "[encoded data removed]",
      "text/plain": [
       "<Figure size 432x288 with 1 Axes>"
      ]
     },
     "metadata": {
      "needs_background": "light"
     },
     "output_type": "display_data"
    }
   ],
   "source": [
    "df['label'].value_counts().plot(kind='bar')\n",
    "print(df['label'].value_counts())"
   ]
  },
  {
   "cell_type": "code",
   "execution_count": 6,
   "id": "international-north",
   "metadata": {},
   "outputs": [
    {
     "name": "stdout",
     "output_type": "stream",
     "text": [
      "max length :  140\n",
      "mean length :  33.37488992526505\n"
     ]
    },
    {
     "data": {
      "image/png": "[encoded data removed]",
      "text/plain": [
       "<Figure size 432x288 with 1 Axes>"
      ]
     },
     "metadata": {
      "needs_background": "light"
     },
     "output_type": "display_data"
    }
   ],
   "source": [
    "import numpy as np\n",
    "import matplotlib.pyplot as plt\n",
    "\n",
    "print(\"max length : \",max(len(review) for review in df['review']))\n",
    "print(\"mean length : \",np.mean([len(review) for review in df['review']]))\n",
    "plt.hist([len(review) for review in df['review']],bins=50);"
   ]
  },
  {
   "cell_type": "code",
   "execution_count": 7,
   "id": "labeled-effectiveness",
   "metadata": {},
   "outputs": [
    {
     "data": {
      "image/png": "[encoded data removed]",
      "text/plain": [
       "<Figure size 864x288 with 3 Axes>"
      ]
     },
     "metadata": {
      "needs_background": "light"
     },
     "output_type": "display_data"
    }
   ],
   "source": [
    "fig, axes = plt.subplots(1,3,figsize=(12,4),constrained_layout=True)\n",
    "fig.suptitle(\"review data length\")\n",
    "\n",
    "axes[0].hist([len(review) for review,label in zip(df['review'],df['label']) if label == 0])\n",
    "axes[0].set_title(\"Negative reviews\")\n",
    "axes[1].hist([len(review) for review,label in zip(df['review'],df['label']) if label == 1])\n",
    "axes[1].set_title(\"Neutral reviews\")\n",
    "axes[2].hist([len(review) for review,label in zip(df['review'],df['label']) if label == 2])\n",
    "axes[2].set_title(\"Positive reviews\");"
   ]
  },
  {
   "cell_type": "code",
   "execution_count": 8,
   "id": "swiss-branch",
   "metadata": {},
   "outputs": [
    {
     "name": "stdout",
     "output_type": "stream",
     "text": [
      "0    100000\n",
      "1    100000\n",
      "2    100000\n",
      "Name: label, dtype: int64\n"
     ]
    },
    {
     "data": {
      "image/png": "[encoded data removed]",
      "text/plain": [
       "<Figure size 432x288 with 1 Axes>"
      ]
     },
     "metadata": {
      "needs_background": "light"
     },
     "output_type": "display_data"
    }
   ],
   "source": [
    "# 데이터가 긍정 레이블에 치중되어 있다. -> 100,000개로 맞춰준다. \n",
    "# 리뷰 길이의 분포는 각 레이블 별 유사하다.\n",
    "\n",
    "\n",
    "df = df.sample(frac=1).groupby('label').head(100000)\n",
    "df['label'].value_counts().plot(kind='bar')\n",
    "print(df['label'].value_counts())"
   ]
  },
  {
   "cell_type": "code",
   "execution_count": 9,
   "id": "promotional-myrtle",
   "metadata": {},
   "outputs": [],
   "source": [
    "# train / test 데이터 나눠준다.\n",
    "\n",
    "from sklearn.model_selection import train_test_split\n",
    "\n",
    "X = df['review']\n",
    "y = df['label']\n",
    "\n",
    "X_train_data, X_test_data, y_train_data, y_test_data = train_test_split(X, y, test_size=0.2, random_state=42)"
   ]
  },
  {
   "cell_type": "code",
   "execution_count": 10,
   "id": "suspected-tourism",
   "metadata": {},
   "outputs": [
    {
     "name": "stdout",
     "output_type": "stream",
     "text": [
      "train size :  240000\n",
      "test size :  60000\n"
     ]
    }
   ],
   "source": [
    "print(\"train size : \",len(X_train_data))\n",
    "print(\"test size : \",len(X_test_data))"
   ]
  },
  {
   "cell_type": "markdown",
   "id": "greatest-stack",
   "metadata": {},
   "source": [
    "## 텍스트 처리\n",
    "    한글 자연어 처리 라이브러리인 Okt 사용.\n",
    "    불용어는 https://bab2min.tistory.com/544 참고. "
   ]
  },
  {
   "cell_type": "code",
   "execution_count": 11,
   "id": "suburban-picking",
   "metadata": {
    "scrolled": false
   },
   "outputs": [
    {
     "name": "stdout",
     "output_type": "stream",
     "text": [
      "100\n"
     ]
    }
   ],
   "source": [
    "f = open('stopwords.txt')\n",
    "stopwords = []\n",
    "for line in f :\n",
    "    stopwords.append(line.split(\"\\t\")[0])\n",
    "\n",
    "print(len(stopwords))"
   ]
  },
  {
   "cell_type": "code",
   "execution_count": 12,
   "id": "victorian-renaissance",
   "metadata": {
    "scrolled": true
   },
   "outputs": [
    {
     "name": "stderr",
     "output_type": "stream",
     "text": [
      "100%|██████████| 240000/240000 [04:24<00:00, 907.06it/s] \n"
     ]
    },
    {
     "data": {
      "text/plain": [
       "[['보다', '별로'],\n",
       " ['본',\n",
       "  '좌',\n",
       "  '는',\n",
       "  '공각기동대',\n",
       "  '늘다',\n",
       "  '별로',\n",
       "  '다',\n",
       "  '앞머리',\n",
       "  '길다',\n",
       "  '쿠',\n",
       "  '사',\n",
       "  '나기',\n",
       "  '모도',\n",
       "  '코',\n",
       "  '가다',\n",
       "  '그리다'],\n",
       " ['사다', '진미', '를', '망치다', '버리다', '각본']]"
      ]
     },
     "execution_count": 12,
     "metadata": {},
     "output_type": "execute_result"
    }
   ],
   "source": [
    "from konlpy.tag import Okt\n",
    "from tqdm import tqdm\n",
    "\n",
    "okt = Okt()\n",
    "\n",
    "X_train_token = []\n",
    "for sent in tqdm(X_train_data) :\n",
    "    tmp = [] \n",
    "    tmp = okt.morphs(sent,stem=True)\n",
    "    tmp = [word for word in tmp if word not in stopwords]\n",
    "    X_train_token.append(tmp)\n",
    "\n",
    "X_train_token[:3]"
   ]
  },
  {
   "cell_type": "code",
   "execution_count": 13,
   "id": "described-shoulder",
   "metadata": {
    "scrolled": true
   },
   "outputs": [
    {
     "name": "stderr",
     "output_type": "stream",
     "text": [
      "100%|██████████| 60000/60000 [01:16<00:00, 784.27it/s]\n"
     ]
    },
    {
     "data": {
      "text/plain": [
       "[['유덕화', '짱'],\n",
       " ['일본', '역사', '에', '관심', '이다', '볼', '만'],\n",
       " ['안보',\n",
       "  '다',\n",
       "  '오랜',\n",
       "  '만',\n",
       "  '에',\n",
       "  '본방',\n",
       "  '보다',\n",
       "  '재미',\n",
       "  '너무',\n",
       "  '없다',\n",
       "  '진짜',\n",
       "  '전면',\n",
       "  '개편',\n",
       "  '필요하다',\n",
       "  '듯']]"
      ]
     },
     "execution_count": 13,
     "metadata": {},
     "output_type": "execute_result"
    }
   ],
   "source": [
    "X_test_token = []\n",
    "for sent in tqdm(X_test_data) :\n",
    "    tmp = [] \n",
    "    tmp = okt.morphs(sent,stem=True)\n",
    "    tmp = [word for word in tmp if word not in stopwords]\n",
    "    X_test_token.append(tmp)\n",
    "    \n",
    "X_test_token[:3]"
   ]
  },
  {
   "cell_type": "code",
   "execution_count": 14,
   "id": "welsh-price",
   "metadata": {},
   "outputs": [
    {
     "name": "stdout",
     "output_type": "stream",
     "text": [
      "단어 집합(vocabulary)의 크기 : 53445\n",
      "등장 빈도가 2번 이하인 희귀 단어의 수: 29091\n",
      "단어 집합에서 희귀 단어의 비율: 54.431658714566375\n",
      "전체 등장 빈도에서 희귀 단어 등장 빈도 비율: 1.2946640941766827\n"
     ]
    }
   ],
   "source": [
    "# threshold 확인\n",
    "\n",
    "from tensorflow.keras.preprocessing.text import Tokenizer\n",
    "\n",
    "tokenizer = Tokenizer()\n",
    "tokenizer.fit_on_texts(X_train_token)\n",
    "\n",
    "threshold = 3\n",
    "total_cnt = len(tokenizer.word_index) # 단어의 수\n",
    "rare_cnt = 0   # 등장 빈도수가 threshold보다 작은 단어의 개수를 카운트\n",
    "total_freq = 0 # 훈련 데이터의 전체 단어 빈도수 총 합\n",
    "rare_freq = 0  # 등장 빈도수가 threshold보다 작은 단어의 등장 빈도수의 총 합\n",
    "\n",
    "# 단어와 빈도수의 쌍(pair)을 key와 value로 받는다.\n",
    "for key, value in tokenizer.word_counts.items():\n",
    "    total_freq = total_freq + value\n",
    "\n",
    "    # 단어의 등장 빈도수가 threshold보다 작으면\n",
    "    if(value < threshold):\n",
    "        rare_cnt = rare_cnt + 1\n",
    "        rare_freq = rare_freq + value\n",
    "\n",
    "print('단어 집합(vocabulary)의 크기 :',total_cnt)\n",
    "print('등장 빈도가 %s번 이하인 희귀 단어의 수: %s'%(threshold - 1, rare_cnt))\n",
    "print(\"단어 집합에서 희귀 단어의 비율:\", (rare_cnt / total_cnt)*100)\n",
    "print(\"전체 등장 빈도에서 희귀 단어 등장 빈도 비율:\", (rare_freq / total_freq)*100)"
   ]
  },
  {
   "cell_type": "code",
   "execution_count": 15,
   "id": "sharp-passenger",
   "metadata": {},
   "outputs": [
    {
     "name": "stdout",
     "output_type": "stream",
     "text": [
      "24356\n"
     ]
    }
   ],
   "source": [
    "# 0번 패딩 토큰 , 1번 OOV 토큰 고려 +2\n",
    "vocab_size = total_cnt - rare_cnt + 2 \n",
    "print(vocab_size)"
   ]
  },
  {
   "cell_type": "code",
   "execution_count": 16,
   "id": "wrong-comment",
   "metadata": {},
   "outputs": [],
   "source": [
    "# 정수 인코딩\n",
    "tokenizer = Tokenizer(num_words=vocab_size,oov_token='OOV')\n",
    "tokenizer.fit_on_texts(X_train_token)\n",
    "X_train = tokenizer.texts_to_sequences(X_train_token)\n",
    "X_test = tokenizer.texts_to_sequences(X_test_token)"
   ]
  },
  {
   "cell_type": "code",
   "execution_count": 17,
   "id": "ancient-terrain",
   "metadata": {},
   "outputs": [],
   "source": [
    "import numpy as np\n",
    "\n",
    "y_train = np.array(y_train_data)\n",
    "y_test = np.array(y_test_data)"
   ]
  },
  {
   "cell_type": "code",
   "execution_count": 18,
   "id": "modular-insured",
   "metadata": {
    "scrolled": true
   },
   "outputs": [
    {
     "name": "stdout",
     "output_type": "stream",
     "text": [
      "X_train size :  238786\n",
      "y_train size :  238786\n"
     ]
    }
   ],
   "source": [
    "# 빈도수 낮은 단어 삭제 -> 빈 샘플 존재\n",
    "\n",
    "drop_idx = [idx for idx, sent in enumerate(X_train) if len(sent) < 1]\n",
    "\n",
    "X_train = np.delete(X_train,drop_idx,axis=0)\n",
    "y_train = np.delete(y_train,drop_idx,axis=0)\n",
    "\n",
    "print(\"X_train size : \",len(X_train))\n",
    "print(\"y_train size : \",len(y_train))"
   ]
  },
  {
   "cell_type": "markdown",
   "id": "searching-white",
   "metadata": {},
   "source": [
    "## 패딩"
   ]
  },
  {
   "cell_type": "code",
   "execution_count": 19,
   "id": "awful-polymer",
   "metadata": {},
   "outputs": [
    {
     "name": "stdout",
     "output_type": "stream",
     "text": [
      "max length of reivews :  68\n",
      "mean length of reivews :  11.523619475178611\n"
     ]
    },
    {
     "data": {
      "image/png": "[encoded data removed]",
      "text/plain": [
       "<Figure size 432x288 with 1 Axes>"
      ]
     },
     "metadata": {
      "needs_background": "light"
     },
     "output_type": "display_data"
    }
   ],
   "source": [
    "import matplotlib.pyplot as plt\n",
    "\n",
    "print(\"max length of reivews : \",max(len(word) for word in X_train))\n",
    "print(\"mean length of reivews : \",np.mean([len(word) for word in X_train]))\n",
    "plt.hist([len(word) for word in X_train],bins=50)\n",
    "plt.xlabel(\"length of samples\")\n",
    "plt.ylabel(\"number of samples\")\n",
    "plt.show()"
   ]
  },
  {
   "cell_type": "code",
   "execution_count": 20,
   "id": "caroline-comparative",
   "metadata": {},
   "outputs": [
    {
     "name": "stdout",
     "output_type": "stream",
     "text": [
      "threshold : 30\n",
      "percentage of sample that shorter threshold 30 : 93.629\n",
      "threshold : 40\n",
      "percentage of sample that shorter threshold 40 : 97.36\n"
     ]
    }
   ],
   "source": [
    "def belowThreshold(thre, words) :\n",
    "    cnt = 0\n",
    "    for word in words:\n",
    "        if(len(word) <= thre) :\n",
    "            cnt += 1\n",
    "    print(f\"percentage of sample that shorter threshold {thre} : {round((cnt / len(words)) * 100,3)}\")\n",
    "    \n",
    "print(\"threshold : 30\")\n",
    "belowThreshold(30,X_train)\n",
    "print(\"threshold : 40\")\n",
    "belowThreshold(40,X_train)"
   ]
  },
  {
   "cell_type": "code",
   "execution_count": 21,
   "id": "final-comparative",
   "metadata": {},
   "outputs": [],
   "source": [
    "# 최대 길이 40으로 맞춤\n",
    "from tensorflow.keras.preprocessing.sequence import pad_sequences\n",
    "\n",
    "max_len = 40\n",
    "X_train = pad_sequences(X_train,maxlen = max_len)\n",
    "X_test = pad_sequences(X_test,maxlen = max_len)"
   ]
  },
  {
   "cell_type": "code",
   "execution_count": 22,
   "id": "laden-outdoors",
   "metadata": {},
   "outputs": [],
   "source": [
    "# 원-핫 인코딩.\n",
    "from tensorflow.keras.utils import to_categorical\n",
    "\n",
    "y_train = to_categorical(y_train,3)\n",
    "y_test = to_categorical(y_test,3)"
   ]
  },
  {
   "cell_type": "markdown",
   "id": "improved-relation",
   "metadata": {},
   "source": [
    "## 모델 구축"
   ]
  },
  {
   "cell_type": "markdown",
   "id": "appropriate-subscription",
   "metadata": {},
   "source": [
    "### 문장 예측 함수"
   ]
  },
  {
   "cell_type": "code",
   "execution_count": 23,
   "id": "interim-manual",
   "metadata": {},
   "outputs": [],
   "source": [
    "def sent_predict(sent,model) :\n",
    "    sent = okt.morphs(sent,stem=True)\n",
    "    sent = [word for word in sent if word not in stopwords]\n",
    "    encoded = tokenizer.texts_to_sequences([sent])\n",
    "    padded = pad_sequences(encoded,maxlen=max_len)\n",
    "    score = model.predict(padded)\n",
    "    idx = np.argmax(score[0])\n",
    "    if idx == 0 :\n",
    "        print(\"{} % Negative review\".format(round(score[0][idx]*100,2)))\n",
    "    elif idx == 1:\n",
    "        print(\"{} % Neutral review\".format(round(score[0][idx]*100,2)))\n",
    "    else :\n",
    "        print(\"{} % Positive review\".format(round(score[0][idx]*100,2)))"
   ]
  },
  {
   "cell_type": "markdown",
   "id": "extensive-elite",
   "metadata": {},
   "source": [
    "### GRU"
   ]
  },
  {
   "cell_type": "code",
   "execution_count": 24,
   "id": "incoming-richmond",
   "metadata": {},
   "outputs": [],
   "source": [
    "# 조기 종료 요건과 베스트 모델 저장\n",
    "from tensorflow.keras.callbacks import EarlyStopping, ModelCheckpoint\n",
    "\n",
    "es = EarlyStopping(monitor='val_loss',mode='min',verbose=1,patience=4)\n",
    "mc = ModelCheckpoint('NAVER_GRU.h5',monitor='val_acc',mode='max',verbose=1,\n",
    "                    save_best_only=True)"
   ]
  },
  {
   "cell_type": "code",
   "execution_count": 25,
   "id": "trying-turkish",
   "metadata": {},
   "outputs": [],
   "source": [
    "from tensorflow.keras.models import Sequential\n",
    "from tensorflow.keras.layers import GRU,Embedding,Dense\n",
    "\n",
    "model = Sequential()\n",
    "model.add(Embedding(vocab_size,100))\n",
    "model.add(GRU(128))\n",
    "model.add(Dense(3,activation='softmax'))"
   ]
  },
  {
   "cell_type": "code",
   "execution_count": 26,
   "id": "settled-beatles",
   "metadata": {
    "scrolled": true
   },
   "outputs": [
    {
     "name": "stdout",
     "output_type": "stream",
     "text": [
      "Epoch 1/15\n",
      "3184/3184 [==============================] - 214s 67ms/step - loss: 0.8438 - acc: 0.5997 - val_loss: 0.7613 - val_acc: 0.6544\n",
      "\n",
      "Epoch 00001: val_acc improved from -inf to 0.65445, saving model to NAVER_GRU.h5\n",
      "Epoch 2/15\n",
      "3184/3184 [==============================] - 212s 67ms/step - loss: 0.6883 - acc: 0.6964 - val_loss: 0.7636 - val_acc: 0.6553\n",
      "\n",
      "Epoch 00002: val_acc improved from 0.65445 to 0.65526, saving model to NAVER_GRU.h5\n",
      "Epoch 3/15\n",
      "3184/3184 [==============================] - 214s 67ms/step - loss: 0.6157 - acc: 0.7337 - val_loss: 0.7851 - val_acc: 0.6508\n",
      "\n",
      "Epoch 00003: val_acc did not improve from 0.65526\n",
      "Epoch 4/15\n",
      "3184/3184 [==============================] - 213s 67ms/step - loss: 0.5441 - acc: 0.7696 - val_loss: 0.8619 - val_acc: 0.6409\n",
      "\n",
      "Epoch 00004: val_acc did not improve from 0.65526\n",
      "Epoch 5/15\n",
      "3184/3184 [==============================] - 215s 67ms/step - loss: 0.4657 - acc: 0.8034 - val_loss: 0.9636 - val_acc: 0.6296\n",
      "\n",
      "Epoch 00005: val_acc did not improve from 0.65526\n",
      "Epoch 00005: early stopping\n"
     ]
    },
    {
     "data": {
      "text/plain": [
       "<tensorflow.python.keras.callbacks.History at 0x2cac67760>"
      ]
     },
     "execution_count": 26,
     "metadata": {},
     "output_type": "execute_result"
    }
   ],
   "source": [
    "model.compile(optimizer='adam',loss='categorical_crossentropy',\n",
    "              metrics=['acc'])\n",
    "\n",
    "model.fit(X_train,y_train,epochs=15,callbacks=[es,mc],\n",
    "          batch_size=60,validation_split=0.2)"
   ]
  },
  {
   "cell_type": "code",
   "execution_count": 27,
   "id": "amateur-judges",
   "metadata": {},
   "outputs": [
    {
     "name": "stdout",
     "output_type": "stream",
     "text": [
      "1875/1875 [==============================] - 34s 18ms/step - loss: 0.9492 - acc: 0.6268\n",
      "model accuracy :  0.6268333196640015\n"
     ]
    }
   ],
   "source": [
    "print(\"model accuracy : \",model.evaluate(X_test,y_test)[1])"
   ]
  },
  {
   "cell_type": "code",
   "execution_count": 28,
   "id": "rapid-ivory",
   "metadata": {},
   "outputs": [
    {
     "name": "stdout",
     "output_type": "stream",
     "text": [
      "75.41 % Neutral review\n"
     ]
    }
   ],
   "source": [
    "sent_predict(\"하이틴 로맨스로 시작해서 퀴어로 끝난다. 연출은 부족하지만, 시도는 놀랍다.\",model) "
   ]
  },
  {
   "cell_type": "code",
   "execution_count": 29,
   "id": "conventional-gabriel",
   "metadata": {},
   "outputs": [
    {
     "name": "stdout",
     "output_type": "stream",
     "text": [
      "95.72 % Negative review\n"
     ]
    }
   ],
   "source": [
    "sent_predict('내용 부터가 좀 지금 시대로써는 공감ㄴㄴ 피노키오 재미있던데 왜이런 드라마가 수목 시청률위인지 모르겠어',model)"
   ]
  },
  {
   "cell_type": "code",
   "execution_count": 30,
   "id": "portable-keeping",
   "metadata": {},
   "outputs": [
    {
     "name": "stdout",
     "output_type": "stream",
     "text": [
      "56.95 % Neutral review\n"
     ]
    }
   ],
   "source": [
    "sent_predict('역시 뽀통령은 최고다',model)"
   ]
  },
  {
   "cell_type": "markdown",
   "id": "broadband-stomach",
   "metadata": {},
   "source": [
    "## Conv"
   ]
  },
  {
   "cell_type": "code",
   "execution_count": 31,
   "id": "danish-latex",
   "metadata": {},
   "outputs": [],
   "source": [
    "# 조기 종료 요건과 베스트 모델 저장\n",
    "from tensorflow.keras.callbacks import EarlyStopping, ModelCheckpoint\n",
    "\n",
    "#es = EarlyStopping(monitor='val_loss',mode='min',verbose=1,patience=4)\n",
    "\n",
    "mc = ModelCheckpoint('NAVER_CONV.h5',monitor='val_acc',mode='max',verbose=1,\n",
    "                    save_best_only=True)"
   ]
  },
  {
   "cell_type": "code",
   "execution_count": 32,
   "id": "brutal-fitness",
   "metadata": {},
   "outputs": [],
   "source": [
    "from tensorflow.keras.models import Sequential\n",
    "from tensorflow.keras.layers import Dense, Dropout, Conv1D, GlobalMaxPooling1D, Embedding\n",
    "\n",
    "CNN = Sequential()\n",
    "CNN.add(Embedding(vocab_size,256))\n",
    "CNN.add(Dropout(0.3))\n",
    "CNN.add(Conv1D(256,3,padding='valid',activation='relu'))\n",
    "CNN.add(GlobalMaxPooling1D())\n",
    "CNN.add(Dense(128,activation='relu'))\n",
    "CNN.add(Dropout(0.5))\n",
    "CNN.add(Dense(3,activation='softmax'))"
   ]
  },
  {
   "cell_type": "code",
   "execution_count": 33,
   "id": "genetic-audience",
   "metadata": {
    "scrolled": true
   },
   "outputs": [
    {
     "name": "stdout",
     "output_type": "stream",
     "text": [
      "Epoch 1/15\n",
      "7463/7463 [==============================] - 129s 17ms/step - loss: 0.8734 - acc: 0.5882 - val_loss: 0.7747 - val_acc: 0.6455\n",
      "\n",
      "Epoch 00001: val_acc improved from -inf to 0.64552, saving model to NAVER_CONV.h5\n",
      "Epoch 2/15\n",
      "7463/7463 [==============================] - 128s 17ms/step - loss: 0.7428 - acc: 0.6740 - val_loss: 0.7822 - val_acc: 0.6529\n",
      "\n",
      "Epoch 00002: val_acc improved from 0.64552 to 0.65287, saving model to NAVER_CONV.h5\n",
      "Epoch 3/15\n",
      "7463/7463 [==============================] - 130s 17ms/step - loss: 0.6813 - acc: 0.7082 - val_loss: 0.7924 - val_acc: 0.6524\n",
      "\n",
      "Epoch 00003: val_acc did not improve from 0.65287\n",
      "Epoch 4/15\n",
      "7463/7463 [==============================] - 130s 17ms/step - loss: 0.6128 - acc: 0.7454 - val_loss: 0.8178 - val_acc: 0.6471\n",
      "\n",
      "Epoch 00004: val_acc did not improve from 0.65287\n",
      "Epoch 5/15\n",
      "7463/7463 [==============================] - 135s 18ms/step - loss: 0.5476 - acc: 0.7769 - val_loss: 0.8799 - val_acc: 0.6392\n",
      "\n",
      "Epoch 00005: val_acc did not improve from 0.65287\n",
      "Epoch 6/15\n",
      "7463/7463 [==============================] - 127s 17ms/step - loss: 0.4941 - acc: 0.8016 - val_loss: 1.0230 - val_acc: 0.6304\n",
      "\n",
      "Epoch 00006: val_acc did not improve from 0.65287\n",
      "Epoch 7/15\n",
      "7463/7463 [==============================] - 131s 18ms/step - loss: 0.4543 - acc: 0.8179 - val_loss: 1.0605 - val_acc: 0.6234\n",
      "\n",
      "Epoch 00007: val_acc did not improve from 0.65287\n",
      "Epoch 8/15\n",
      "7463/7463 [==============================] - 139s 19ms/step - loss: 0.4266 - acc: 0.8296 - val_loss: 1.1438 - val_acc: 0.6305\n",
      "\n",
      "Epoch 00008: val_acc did not improve from 0.65287\n",
      "Epoch 9/15\n",
      "7463/7463 [==============================] - 132s 18ms/step - loss: 0.4013 - acc: 0.8422 - val_loss: 1.4062 - val_acc: 0.6223\n",
      "\n",
      "Epoch 00009: val_acc did not improve from 0.65287\n",
      "Epoch 10/15\n",
      "7463/7463 [==============================] - 133s 18ms/step - loss: 0.3875 - acc: 0.8493 - val_loss: 1.5908 - val_acc: 0.6221\n",
      "\n",
      "Epoch 00010: val_acc did not improve from 0.65287\n",
      "Epoch 11/15\n",
      "7463/7463 [==============================] - 134s 18ms/step - loss: 0.3710 - acc: 0.8548 - val_loss: 1.4661 - val_acc: 0.6242\n",
      "\n",
      "Epoch 00011: val_acc did not improve from 0.65287\n",
      "Epoch 12/15\n",
      "7463/7463 [==============================] - 128s 17ms/step - loss: 0.3635 - acc: 0.8593 - val_loss: 1.5061 - val_acc: 0.6139\n",
      "\n",
      "Epoch 00012: val_acc did not improve from 0.65287\n",
      "Epoch 13/15\n",
      "7463/7463 [==============================] - 128s 17ms/step - loss: 0.3552 - acc: 0.8643 - val_loss: 1.7363 - val_acc: 0.6230\n",
      "\n",
      "Epoch 00013: val_acc did not improve from 0.65287\n",
      "Epoch 14/15\n",
      "7463/7463 [==============================] - 126s 17ms/step - loss: 0.3474 - acc: 0.8684 - val_loss: 2.1534 - val_acc: 0.6177\n",
      "\n",
      "Epoch 00014: val_acc did not improve from 0.65287\n",
      "Epoch 15/15\n",
      "7463/7463 [==============================] - 127s 17ms/step - loss: 0.3443 - acc: 0.8715 - val_loss: 1.9591 - val_acc: 0.6198\n",
      "\n",
      "Epoch 00015: val_acc did not improve from 0.65287\n"
     ]
    },
    {
     "data": {
      "text/plain": [
       "<tensorflow.python.keras.callbacks.History at 0x2cd0b29a0>"
      ]
     },
     "execution_count": 33,
     "metadata": {},
     "output_type": "execute_result"
    }
   ],
   "source": [
    "CNN.compile(optimizer='adam',loss='categorical_crossentropy',metrics=['acc'])\n",
    "\n",
    "CNN.fit(X_train,y_train,epochs=15,validation_data=(X_test,y_test),callbacks=[mc])"
   ]
  },
  {
   "cell_type": "code",
   "execution_count": 34,
   "id": "whole-prairie",
   "metadata": {
    "scrolled": true
   },
   "outputs": [
    {
     "name": "stdout",
     "output_type": "stream",
     "text": [
      "1875/1875 [==============================] - 3s 2ms/step - loss: 1.9591 - acc: 0.6198\n",
      "model accuracy :  0.6198166608810425\n"
     ]
    }
   ],
   "source": [
    "print(\"model accuracy : \",CNN.evaluate(X_test,y_test)[1])"
   ]
  },
  {
   "cell_type": "code",
   "execution_count": 35,
   "id": "opposite-combine",
   "metadata": {},
   "outputs": [],
   "source": [
    "from tensorflow.keras.models import load_model\n",
    "\n",
    "loaded_model = load_model('NAVER_CONV.h5')"
   ]
  },
  {
   "cell_type": "code",
   "execution_count": 36,
   "id": "external-capitol",
   "metadata": {},
   "outputs": [
    {
     "name": "stdout",
     "output_type": "stream",
     "text": [
      "1875/1875 [==============================] - 3s 2ms/step - loss: 0.9100 - acc: 0.6326\n",
      "model accuracy :  0.6325666904449463\n"
     ]
    }
   ],
   "source": [
    "print(\"model accuracy : \",loaded_model.evaluate(X_test,y_test)[1])"
   ]
  },
  {
   "cell_type": "markdown",
   "id": "novel-validation",
   "metadata": {},
   "source": [
    "과적합된 모델과 중간에 정지시킨 모델과의 정확도 차이점이 대략 2%\n",
    "\n",
    "과적합되긴 했으나 큰 차이를 보이진 않는다."
   ]
  },
  {
   "cell_type": "code",
   "execution_count": 46,
   "id": "mental-bankruptcy",
   "metadata": {},
   "outputs": [
    {
     "name": "stdout",
     "output_type": "stream",
     "text": [
      "63.23 % Negative review\n"
     ]
    }
   ],
   "source": [
    "sent_predict(\"하이틴 로맨스로 시작해서 퀴어로 끝난다. 연출은 부족하지만, 시도는 놀랍다.\",loaded_model) "
   ]
  },
  {
   "cell_type": "code",
   "execution_count": 42,
   "id": "premier-license",
   "metadata": {},
   "outputs": [
    {
     "name": "stdout",
     "output_type": "stream",
     "text": [
      "97.15 % Negative review\n"
     ]
    }
   ],
   "source": [
    "sent_predict('내용 부터가 좀 지금 시대로써는 공감ㄴㄴ 피노키오 재미있던데 왜이런 드라마가 수목 시청률위인지 모르겠어',loaded_model)"
   ]
  },
  {
   "cell_type": "code",
   "execution_count": 43,
   "id": "biblical-latex",
   "metadata": {},
   "outputs": [
    {
     "name": "stdout",
     "output_type": "stream",
     "text": [
      "98.19 % Positive review\n"
     ]
    }
   ],
   "source": [
    "sent_predict('역시 뽀통령은 최고다',loaded_model)"
   ]
  },
  {
   "cell_type": "markdown",
   "id": "fleet-massachusetts",
   "metadata": {},
   "source": [
    "중립에 대한 감성 분석을 하는게 어렵다. \n",
    "\n",
    "단순히 평점만으로 이걸 구분짓는게 쉽지 않다.\n",
    "\n",
    "평점을 (1-4) / (5-7) / (8-10) 으로 나누지 말고 \n",
    "\n",
    "중립 데이터는 확실하게 해야 되는 거 같다. -> 평점은 7점이지만 리뷰가 긍정적으로 써있는 경우 , 그 반대의 경우도 그렇듯"
   ]
  }
 ],
 "metadata": {
  "kernelspec": {
   "display_name": "Python 3",
   "language": "python",
   "name": "python3"
  },
  "language_info": {
   "codemirror_mode": {
    "name": "ipython",
    "version": 3
   },
   "file_extension": ".py",
   "mimetype": "text/x-python",
   "name": "python",
   "nbconvert_exporter": "python",
   "pygments_lexer": "ipython3",
   "version": "3.8.8"
  }
 },
 "nbformat": 4,
 "nbformat_minor": 5
}
