{
 "cells": [
  {
   "cell_type": "markdown",
   "id": "complete-rehabilitation",
   "metadata": {},
   "source": [
    "# IMDB 리뷰 감성 분류하기\n",
    "\n",
    "\n",
    "    keras에서 제공하는 imdb 활용.\n",
    "    리뷰가 긍정이면 1, 부정이면 0으로 표시한 레이블을 가지고 학습."
   ]
  },
  {
   "cell_type": "markdown",
   "id": "considered-drinking",
   "metadata": {},
   "source": [
    "## 1. 데이터 처리"
   ]
  },
  {
   "cell_type": "code",
   "execution_count": 5,
   "id": "developing-liberia",
   "metadata": {},
   "outputs": [],
   "source": [
    "from tensorflow.keras.datasets import imdb\n",
    "\n",
    "(X_train, y_train) , (X_test, y_test) = imdb.load_data()"
   ]
  },
  {
   "cell_type": "code",
   "execution_count": 6,
   "id": "southwest-expert",
   "metadata": {},
   "outputs": [
    {
     "name": "stdout",
     "output_type": "stream",
     "text": [
      "train size :  25000\n",
      "test size :  25000\n",
      "category size : 2\n"
     ]
    }
   ],
   "source": [
    "print(f\"train size : \",len(X_train))\n",
    "print(f\"test size : \",len(X_test))\n",
    "print(f\"category size :\",max(y_train)+1)"
   ]
  },
  {
   "cell_type": "code",
   "execution_count": 7,
   "id": "active-caribbean",
   "metadata": {
    "scrolled": true
   },
   "outputs": [
    {
     "name": "stdout",
     "output_type": "stream",
     "text": [
      "[1, 14, 22, 16, 43, 530, 973, 1622, 1385, 65, 458, 4468, 66, 3941, 4, 173, 36, 256, 5, 25, 100, 43, 838, 112, 50, 670, 22665, 9, 35, 480, 284, 5, 150, 4, 172, 112, 167, 21631, 336, 385, 39, 4, 172, 4536, 1111, 17, 546, 38, 13, 447, 4, 192, 50, 16, 6, 147, 2025, 19, 14, 22, 4, 1920, 4613, 469, 4, 22, 71, 87, 12, 16, 43, 530, 38, 76, 15, 13, 1247, 4, 22, 17, 515, 17, 12, 16, 626, 18, 19193, 5, 62, 386, 12, 8, 316, 8, 106, 5, 4, 2223, 5244, 16, 480, 66, 3785, 33, 4, 130, 12, 16, 38, 619, 5, 25, 124, 51, 36, 135, 48, 25, 1415, 33, 6, 22, 12, 215, 28, 77, 52, 5, 14, 407, 16, 82, 10311, 8, 4, 107, 117, 5952, 15, 256, 4, 31050, 7, 3766, 5, 723, 36, 71, 43, 530, 476, 26, 400, 317, 46, 7, 4, 12118, 1029, 13, 104, 88, 4, 381, 15, 297, 98, 32, 2071, 56, 26, 141, 6, 194, 7486, 18, 4, 226, 22, 21, 134, 476, 26, 480, 5, 144, 30, 5535, 18, 51, 36, 28, 224, 92, 25, 104, 4, 226, 65, 16, 38, 1334, 88, 12, 16, 283, 5, 16, 4472, 113, 103, 32, 15, 16, 5345, 19, 178, 32]\n",
      "1\n"
     ]
    }
   ],
   "source": [
    "print(X_train[0])\n",
    "print(y_train[0])"
   ]
  },
  {
   "cell_type": "markdown",
   "id": "brutal-sheet",
   "metadata": {},
   "source": [
    "이미 토큰화와 정수 인코딩이 진행된 데이터.\n",
    "\n",
    "레이블이 1 => 긍정 리뷰"
   ]
  },
  {
   "cell_type": "code",
   "execution_count": 8,
   "id": "ongoing-thomas",
   "metadata": {},
   "outputs": [
    {
     "name": "stdout",
     "output_type": "stream",
     "text": [
      "max length : 2494\n",
      "mean length : 238.71364\n"
     ]
    },
    {
     "data": {
      "image/png": "[encoded data removed]",
      "text/plain": [
       "<Figure size 576x288 with 2 Axes>"
      ]
     },
     "metadata": {
      "needs_background": "light"
     },
     "output_type": "display_data"
    }
   ],
   "source": [
    "import matplotlib.pyplot as plt\n",
    "import numpy as np\n",
    "\n",
    "lens = [len(word) for word in X_train]\n",
    "\n",
    "print(f\"max length : {np.max(lens)}\")\n",
    "print(f\"mean length : {np.mean(lens)}\")\n",
    "\n",
    "fig , axes = plt.subplots(1,2,figsize=(8,4))\n",
    "\n",
    "axes[0].boxplot(lens)\n",
    "axes[1].hist(lens,bins=50);"
   ]
  },
  {
   "cell_type": "code",
   "execution_count": 9,
   "id": "trying-progress",
   "metadata": {},
   "outputs": [
    {
     "data": {
      "text/plain": [
       "(array([0, 1]), array([12500, 12500]))"
      ]
     },
     "execution_count": 9,
     "metadata": {},
     "output_type": "execute_result"
    }
   ],
   "source": [
    "np.unique(y_train,return_counts=True)"
   ]
  },
  {
   "cell_type": "code",
   "execution_count": 10,
   "id": "forced-handbook",
   "metadata": {},
   "outputs": [
    {
     "name": "stdout",
     "output_type": "stream",
     "text": [
      "1st frequence : the\n"
     ]
    }
   ],
   "source": [
    "# 각 단어와 맴핑되는 정수 -> get_word_index. \n",
    "# IMDB 리뷰 데이터셋의 규칙은 +3 을 해야됨.\n",
    "# 0,1,2,3은 특별한 규칙으로 취급. -> 정수 4가 가장 빈도수가 높은 단어\n",
    "\n",
    "word_to_idx = imdb.get_word_index()\n",
    "index_to_word = {} \n",
    "for key,value in word_to_idx.items():\n",
    "    index_to_word[value+3] = key\n",
    "\n",
    "print(f\"1st frequence : {index_to_word[4]}\")"
   ]
  },
  {
   "cell_type": "markdown",
   "id": "applied-economics",
   "metadata": {},
   "source": [
    "## 2. GRU 로 IMDB 리뷰 감성 분류\n",
    "\n",
    "    단어 집합 크기를 10,000으로, 리뷰 최대 길이를 500 으로 제한."
   ]
  },
  {
   "cell_type": "code",
   "execution_count": 11,
   "id": "grand-audio",
   "metadata": {},
   "outputs": [],
   "source": [
    "from tensorflow.keras.datasets import imdb\n",
    "from tensorflow.keras.preprocessing.sequence import pad_sequences\n",
    "\n",
    "vocab_size = 10000\n",
    "max_len = 500\n",
    "\n",
    "(X_train,y_train), (X_test,y_test) = imdb.load_data(num_words=vocab_size)\n",
    "\n",
    "X_train = pad_sequences(X_train,max_len)\n",
    "X_test = pad_sequences(X_test,max_len)"
   ]
  },
  {
   "cell_type": "code",
   "execution_count": 12,
   "id": "patient-islam",
   "metadata": {},
   "outputs": [],
   "source": [
    "from tensorflow.keras.models import Sequential\n",
    "from tensorflow.keras.layers import Embedding,GRU,Dense\n",
    "\n",
    "model = Sequential()\n",
    "model.add(Embedding(vocab_size,100))\n",
    "model.add(GRU(128))\n",
    "model.add(Dense(1,activation='sigmoid'))"
   ]
  },
  {
   "cell_type": "code",
   "execution_count": 13,
   "id": "threatened-anaheim",
   "metadata": {},
   "outputs": [],
   "source": [
    "from tensorflow.keras.callbacks import EarlyStopping, ModelCheckpoint\n",
    "\n",
    "es = EarlyStopping(monitor='val_loss',mode='min',verbose=1,patience=4)\n",
    "mc = ModelCheckpoint('GRU_model.h5',monitor='val_acc',mode='max',\n",
    "                     verbose=1,save_best_only=True)"
   ]
  },
  {
   "cell_type": "code",
   "execution_count": 4,
   "id": "cellular-davis",
   "metadata": {
    "scrolled": true
   },
   "outputs": [
    {
     "name": "stdout",
     "output_type": "stream",
     "text": [
      "Epoch 1/15\n",
      "334/334 [==============================] - 280s 836ms/step - loss: 0.5811 - acc: 0.6688 - val_loss: 0.3518 - val_acc: 0.8470\n",
      "\n",
      "Epoch 00001: val_acc improved from -inf to 0.84700, saving model to GRU_model.h5\n",
      "Epoch 2/15\n",
      "334/334 [==============================] - 340s 1s/step - loss: 0.3212 - acc: 0.8622 - val_loss: 0.3716 - val_acc: 0.8414\n",
      "\n",
      "Epoch 00002: val_acc did not improve from 0.84700\n",
      "Epoch 3/15\n",
      "334/334 [==============================] - 338s 1s/step - loss: 0.2585 - acc: 0.9031 - val_loss: 0.3146 - val_acc: 0.8742\n",
      "\n",
      "Epoch 00003: val_acc improved from 0.84700 to 0.87420, saving model to GRU_model.h5\n",
      "Epoch 4/15\n",
      "334/334 [==============================] - 352s 1s/step - loss: 0.2275 - acc: 0.9178 - val_loss: 0.3143 - val_acc: 0.8850\n",
      "\n",
      "Epoch 00004: val_acc improved from 0.87420 to 0.88500, saving model to GRU_model.h5\n",
      "Epoch 5/15\n",
      "334/334 [==============================] - 351s 1s/step - loss: 0.1709 - acc: 0.9392 - val_loss: 0.3229 - val_acc: 0.8882\n",
      "\n",
      "Epoch 00005: val_acc improved from 0.88500 to 0.88820, saving model to GRU_model.h5\n",
      "Epoch 6/15\n",
      "334/334 [==============================] - 347s 1s/step - loss: 0.1490 - acc: 0.9463 - val_loss: 0.3166 - val_acc: 0.8906\n",
      "\n",
      "Epoch 00006: val_acc improved from 0.88820 to 0.89060, saving model to GRU_model.h5\n",
      "Epoch 7/15\n",
      "334/334 [==============================] - 350s 1s/step - loss: 0.1206 - acc: 0.9564 - val_loss: 0.3029 - val_acc: 0.8862\n",
      "\n",
      "Epoch 00007: val_acc did not improve from 0.89060\n",
      "Epoch 8/15\n",
      "334/334 [==============================] - 345s 1s/step - loss: 0.1017 - acc: 0.9660 - val_loss: 0.3986 - val_acc: 0.8744\n",
      "\n",
      "Epoch 00008: val_acc did not improve from 0.89060\n",
      "Epoch 9/15\n",
      "334/334 [==============================] - 345s 1s/step - loss: 0.0843 - acc: 0.9709 - val_loss: 0.3633 - val_acc: 0.8874\n",
      "\n",
      "Epoch 00009: val_acc did not improve from 0.89060\n",
      "Epoch 10/15\n",
      "334/334 [==============================] - 346s 1s/step - loss: 0.0755 - acc: 0.9738 - val_loss: 0.3752 - val_acc: 0.8820\n",
      "\n",
      "Epoch 00010: val_acc did not improve from 0.89060\n",
      "Epoch 11/15\n",
      "334/334 [==============================] - 348s 1s/step - loss: 0.0543 - acc: 0.9829 - val_loss: 0.4108 - val_acc: 0.8734\n",
      "\n",
      "Epoch 00011: val_acc did not improve from 0.89060\n",
      "Epoch 00011: early stopping\n"
     ]
    }
   ],
   "source": [
    "model.compile(optimizer='rmsprop',loss='binary_crossentropy',metrics=['acc'])\n",
    "\n",
    "history = model.fit(X_train,y_train,epochs=15,callbacks=[es,mc],\n",
    "                    batch_size=60,validation_split=0.2)\n"
   ]
  },
  {
   "cell_type": "code",
   "execution_count": 14,
   "id": "champion-charles",
   "metadata": {},
   "outputs": [
    {
     "name": "stdout",
     "output_type": "stream",
     "text": [
      "782/782 [==============================] - 173s 221ms/step - loss: 0.4225 - acc: 0.8786\n",
      "test accuracy : 0.8785600066184998\n"
     ]
    }
   ],
   "source": [
    "from tensorflow.keras.models import load_model\n",
    "\n",
    "loaded_model = load_model('GRU_model.h5')\n",
    "print(f\"test accuracy : {loaded_model.evaluate(X_test,y_test)[1]}\")"
   ]
  },
  {
   "cell_type": "code",
   "execution_count": 25,
   "id": "sonic-cleaners",
   "metadata": {},
   "outputs": [],
   "source": [
    "import re\n",
    "from tensorflow.keras.preprocessing.sequence import pad_sequences\n",
    "\n",
    "def sentiment_predict(sent) :\n",
    "    \n",
    "    sent = re.sub('[^0-9a-zA-Z ]','',sent).lower()\n",
    "    \n",
    "    encoded = []\n",
    "    for word in sent.split() :\n",
    "        \n",
    "        try : \n",
    "            if word_to_idx[word] <= 10000 :\n",
    "                encoded.append(word_to_idx[word]+3)\n",
    "            else :\n",
    "                encoded.append(2)\n",
    "        except KeyError:\n",
    "            encoded.append(2)\n",
    "    \n",
    "    \n",
    "    sent = pad_sequences([encoded],max_len)\n",
    "    score = float(loaded_model.predict(sent))\n",
    "    \n",
    "    if score > 0.5 :\n",
    "        print(f\"{round(score * 100,2)} % positive review\")\n",
    "    else :\n",
    "        print(f\"{round((1-score) * 100,2)} % negative review\")"
   ]
  },
  {
   "cell_type": "code",
   "execution_count": 17,
   "id": "civilian-bruce",
   "metadata": {},
   "outputs": [],
   "source": [
    "positive_ironman = \"\"\"Rest assured, Iron Man is an absolutely amazing movie. \n",
    "                    I won't dare spoil any of this remarkable movie for you but I do recommend it as highly as I possibly can. \n",
    "                    Marvel needed to get in to the solo movie making business long ago. \n",
    "                    Instead of leasing out their characters to other studios, they're making movies themselves. \n",
    "                    Most everyone knows Iron Man is their first effort and what a great lead off film! This movie helps take the comic book genre to the highest level. \n",
    "                    Just like they did in the books, they reinvent standard epic adventure by \"Marvelizing\" characters and making them more believable. \n",
    "                    The Spider-Man and the X-Men movies did this to a degree but only as far as their respective studios wished to stay true to the source material. \n",
    "                    Anything added or amended was for the benefit of the live action adaptation. Director Sam Raimi pulled this off by talking to the summer crowd, not down to them with the Spider-Man series. \n",
    "                    Jon Favreau has done the same thing here but I think he's done it even better. Raimi intentionally threw in a little cheese. \n",
    "                    Favreau adds nice bits of humor but not too much. He also grounds the action and the suit of armor in firm reality. \n",
    "                    I've said it before but it's brave to reach for the highest common denominator with a big budget film and Favreau delivers a movie with as much feeling as it has action and intensity. \n",
    "                    Needless to say, Robert Downey Jr. and company deliver the goods. \n",
    "                    It's a movie that has a wonderful balance that delivers intelligence with its fun.\n",
    "                    \"\"\""
   ]
  },
  {
   "cell_type": "code",
   "execution_count": 26,
   "id": "boolean-gardening",
   "metadata": {},
   "outputs": [
    {
     "name": "stdout",
     "output_type": "stream",
     "text": [
      "54.1 % positive review\n"
     ]
    }
   ],
   "source": [
    "sentiment_predict(positive_ironman)"
   ]
  }
 ],
 "metadata": {
  "kernelspec": {
   "display_name": "Python 3",
   "language": "python",
   "name": "python3"
  },
  "language_info": {
   "codemirror_mode": {
    "name": "ipython",
    "version": 3
   },
   "file_extension": ".py",
   "mimetype": "text/x-python",
   "name": "python",
   "nbconvert_exporter": "python",
   "pygments_lexer": "ipython3",
   "version": "3.8.8"
  }
 },
 "nbformat": 4,
 "nbformat_minor": 5
}
