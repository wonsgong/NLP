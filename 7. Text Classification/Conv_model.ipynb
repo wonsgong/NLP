{
 "cells": [
  {
   "cell_type": "code",
   "execution_count": 1,
   "id": "deadly-mileage",
   "metadata": {},
   "outputs": [],
   "source": [
    "from tensorflow.keras.datasets import imdb\n",
    "\n",
    "vocab_size = 10000\n",
    "\n",
    "(X_train,y_train) , (X_test, y_test) = imdb.load_data(num_words= vocab_size)"
   ]
  },
  {
   "cell_type": "code",
   "execution_count": 2,
   "id": "historic-bones",
   "metadata": {},
   "outputs": [],
   "source": [
    "from tensorflow.keras.preprocessing.sequence import pad_sequences\n",
    "\n",
    "max_len = 200\n",
    "X_train = pad_sequences(X_train,maxlen=max_len)\n",
    "X_test = pad_sequences(X_test,maxlen=max_len)"
   ]
  },
  {
   "cell_type": "code",
   "execution_count": 3,
   "id": "indian-comment",
   "metadata": {},
   "outputs": [],
   "source": [
    "from tensorflow.keras.models import Sequential\n",
    "from tensorflow.keras.layers import Dense, Dropout, Conv1D, GlobalMaxPooling1D, Embedding\n",
    "\n",
    "model = Sequential()\n",
    "model.add(Embedding(vocab_size,256))\n",
    "model.add(Dropout(0.3))\n",
    "model.add(Conv1D(256,3,padding='valid',activation='relu'))\n",
    "model.add(GlobalMaxPooling1D())\n",
    "model.add(Dense(128,activation='relu'))\n",
    "model.add(Dropout(0.5))\n",
    "model.add(Dense(1,activation='sigmoid'))"
   ]
  },
  {
   "cell_type": "code",
   "execution_count": 4,
   "id": "third-gross",
   "metadata": {},
   "outputs": [],
   "source": [
    "from tensorflow.keras.callbacks import EarlyStopping, ModelCheckpoint\n",
    "\n",
    "es = EarlyStopping(monitor = 'val_loss', mode = 'min', verbose = 1, patience = 3)\n",
    "mc = ModelCheckpoint('Conv_model.h5', monitor = 'val_acc', mode = 'max', \n",
    "                     verbose = 1, save_best_only = True)"
   ]
  },
  {
   "cell_type": "code",
   "execution_count": 5,
   "id": "amino-paragraph",
   "metadata": {},
   "outputs": [],
   "source": [
    "model.compile(optimizer='adam',loss='binary_crossentropy',metrics=['acc'])"
   ]
  },
  {
   "cell_type": "code",
   "execution_count": 6,
   "id": "printable-lunch",
   "metadata": {},
   "outputs": [
    {
     "name": "stdout",
     "output_type": "stream",
     "text": [
      "Epoch 1/20\n",
      "782/782 [==============================] - 24s 30ms/step - loss: 0.5675 - acc: 0.6723 - val_loss: 0.3074 - val_acc: 0.8667\n",
      "\n",
      "Epoch 00001: val_acc improved from -inf to 0.86672, saving model to Conv_model.h5\n",
      "Epoch 2/20\n",
      "782/782 [==============================] - 23s 30ms/step - loss: 0.2778 - acc: 0.8838 - val_loss: 0.2758 - val_acc: 0.8818\n",
      "\n",
      "Epoch 00002: val_acc improved from 0.86672 to 0.88176, saving model to Conv_model.h5\n",
      "Epoch 3/20\n",
      "782/782 [==============================] - 23s 30ms/step - loss: 0.1800 - acc: 0.9334 - val_loss: 0.2837 - val_acc: 0.8866\n",
      "\n",
      "Epoch 00003: val_acc improved from 0.88176 to 0.88660, saving model to Conv_model.h5\n",
      "Epoch 4/20\n",
      "782/782 [==============================] - 23s 29ms/step - loss: 0.1016 - acc: 0.9642 - val_loss: 0.3308 - val_acc: 0.8793\n",
      "\n",
      "Epoch 00004: val_acc did not improve from 0.88660\n",
      "Epoch 5/20\n",
      "782/782 [==============================] - 23s 29ms/step - loss: 0.0643 - acc: 0.9794 - val_loss: 0.4452 - val_acc: 0.8772\n",
      "\n",
      "Epoch 00005: val_acc did not improve from 0.88660\n",
      "Epoch 00005: early stopping\n"
     ]
    }
   ],
   "source": [
    "history=model.fit(X_train,y_train,epochs=20,validation_data=(X_test,y_test),callbacks=[es,mc])"
   ]
  },
  {
   "cell_type": "code",
   "execution_count": 8,
   "id": "naked-romania",
   "metadata": {},
   "outputs": [
    {
     "name": "stdout",
     "output_type": "stream",
     "text": [
      "782/782 [==============================] - 5s 7ms/step - loss: 0.3851 - acc: 0.8855\n",
      "0.8855199813842773\n"
     ]
    }
   ],
   "source": [
    "from tensorflow.keras.models import load_model\n",
    "\n",
    "loaded_model = load_model('Conv_model.h5')\n",
    "\n",
    "print(loaded_model.evaluate(X_test,y_test)[1])"
   ]
  }
 ],
 "metadata": {
  "kernelspec": {
   "display_name": "Python 3",
   "language": "python",
   "name": "python3"
  },
  "language_info": {
   "codemirror_mode": {
    "name": "ipython",
    "version": 3
   },
   "file_extension": ".py",
   "mimetype": "text/x-python",
   "name": "python",
   "nbconvert_exporter": "python",
   "pygments_lexer": "ipython3",
   "version": "3.8.8"
  }
 },
 "nbformat": 4,
 "nbformat_minor": 5
}
