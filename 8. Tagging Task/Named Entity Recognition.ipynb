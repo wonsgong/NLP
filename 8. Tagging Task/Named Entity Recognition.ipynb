{
 "cells": [
  {
   "cell_type": "markdown",
   "id": "devoted-royal",
   "metadata": {},
   "source": [
    "# 개체명 인식\n",
    "\n",
    "    개체명 인식을 사용하면 코퍼스로부터 어떤 단어가 \n",
    "    사람,장소,조직 등을 의미하는 단어인지 찾을 수있다.\n",
    "    \n",
    "    ex) 상혁이는 2021년에 구글에 입사했다.\n",
    "        사람,조직,시간에 대해 개체명 인식 수행하면. \n",
    "        (상혁,사람) , (2021년,시간) , (구글,조직)"
   ]
  },
  {
   "cell_type": "markdown",
   "id": "removed-horizon",
   "metadata": {},
   "source": [
    "## NLTK 를 이용한 개체명 인식\n",
    "    \n",
    "    NLTK 에서는 개체명 인식기인 'nltk.ne_chunk' 지원한다.\n",
    "    ne.chunk 로 개체명 인식을 하기 위해선 품사 태깅이 선행되어야 한다."
   ]
  },
  {
   "cell_type": "code",
   "execution_count": 2,
   "id": "gross-phone",
   "metadata": {
    "scrolled": true
   },
   "outputs": [
    {
     "name": "stdout",
     "output_type": "stream",
     "text": [
      "[('James', 'NNP'), ('is', 'VBZ'), ('working', 'VBG'), ('at', 'IN'), ('Disney', 'NNP'), ('in', 'IN'), ('London', 'NNP')]\n",
      "(S\n",
      "  (PERSON James/NNP)\n",
      "  is/VBZ\n",
      "  working/VBG\n",
      "  at/IN\n",
      "  (ORGANIZATION Disney/NNP)\n",
      "  in/IN\n",
      "  (GPE London/NNP))\n"
     ]
    }
   ],
   "source": [
    "from nltk import word_tokenize, pos_tag, ne_chunk\n",
    "\n",
    "sent = \"James is working at Disney in London\"\n",
    "sent = pos_tag(word_tokenize(sent))\n",
    "\n",
    "# 토큰화 + 품사 태깅\n",
    "print(sent) \n",
    "\n",
    "# 개체명 인식\n",
    "print(ne_chunk(sent))"
   ]
  },
  {
   "cell_type": "markdown",
   "id": "incorporate-korean",
   "metadata": {},
   "source": [
    "## 개체명 인식의 BIO 표현 이해하기\n",
    "    \n",
    "    개체명 인식은 챗봇 등에서 필요로 하는 주요 전처리 작업.\n",
    "    \n",
    "    목적에 특화되도록 개체명 인식을 정확하게 하는 방법 중 하나\n",
    "    직접 목적에 맞는 데이터를 준비하여 모델을 만드는 방법. -> Bi-LSTM 사용해서 실습.\n",
    "    \n",
    "    BIO 표현\n",
    "        B : Begin, 개체명 시작되는 부분\n",
    "        I : Inside, 개체명의 내부 부분\n",
    "        O : Outside, 개체명이 아닌 부분\n",
    "        ex) 해리포터보러가자 -> (해,B) , (리,I) , (포,I) , (터,I) , (보,O) ... \n",
    "            + 개체명 함께 태깅 -> (해,B-영화) , (리,I-영화) , ... "
   ]
  },
  {
   "cell_type": "markdown",
   "id": "scenic-warehouse",
   "metadata": {},
   "source": [
    "### 1. 개체명 인식 데이터\n",
    "\n",
    "    CONLL2003은 개체명 인식을 위한 전통적인 영어 데이터 셋.\n",
    "    다운로드 링크 : https://raw.githubusercontent.com/Franck-Dernoncourt/NeuroNER/master/neuroner/data/conll2003/en/train.txt\n",
    "    \n",
    "    데이터 형식은 [단어][품사][청크][개체명] 으로 이루어져있다.\n",
    "    빈 줄은 문장의 구분을 의미한다."
   ]
  },
  {
   "cell_type": "code",
   "execution_count": 4,
   "id": "induced-latest",
   "metadata": {},
   "outputs": [
    {
     "data": {
      "text/plain": [
       "('train.txt', <http.client.HTTPMessage at 0x165514640>)"
      ]
     },
     "execution_count": 4,
     "metadata": {},
     "output_type": "execute_result"
    }
   ],
   "source": [
    "import urllib.request\n",
    "\n",
    "urllib.request.urlretrieve(\"https://raw.githubusercontent.com/Franck-Dernoncourt/NeuroNER/master/neuroner/data/conll2003/en/train.txt\",\n",
    "                          filename='train.txt')"
   ]
  },
  {
   "cell_type": "code",
   "execution_count": 12,
   "id": "prerequisite-courage",
   "metadata": {},
   "outputs": [],
   "source": [
    "import re\n",
    "\n",
    "fopen = open('train.txt','r')\n",
    "tagged_sents = []\n",
    "sent = []\n",
    "\n",
    "# 단어와 개체명만 저장.\n",
    "for line in fopen :\n",
    "    if len(line) == 0 or line.startswith('-DOCSTART') or line[0] == \"\\n\" :\n",
    "        if len(sent) > 0 :\n",
    "            tagged_sents.append(sent)\n",
    "            sent = []\n",
    "        continue\n",
    "    # 공백으로 구분 + \\n 제거 , 단어(소문자)와 개체명 저장. \n",
    "    splits = line.split(\" \")\n",
    "    splits[-1] = re.sub(r\"\\n\",\"\",splits[-1]) \n",
    "    word = splits[0].lower()\n",
    "    sent.append([word,splits[-1]])"
   ]
  },
  {
   "cell_type": "code",
   "execution_count": 13,
   "id": "angry-reviewer",
   "metadata": {},
   "outputs": [
    {
     "name": "stdout",
     "output_type": "stream",
     "text": [
      "total samples size :  14041\n",
      "[['eu', 'B-ORG'], ['rejects', 'O'], ['german', 'B-MISC'], ['call', 'O'], ['to', 'O'], ['boycott', 'O'], ['british', 'B-MISC'], ['lamb', 'O'], ['.', 'O']]\n"
     ]
    }
   ],
   "source": [
    "print(\"total samples size : \",len(tagged_sents))\n",
    "print(tagged_sents[0])"
   ]
  },
  {
   "cell_type": "code",
   "execution_count": 16,
   "id": "fewer-wayne",
   "metadata": {},
   "outputs": [
    {
     "name": "stdout",
     "output_type": "stream",
     "text": [
      "['eu', 'rejects', 'german', 'call', 'to', 'boycott', 'british', 'lamb', '.']\n",
      "['B-ORG', 'O', 'B-MISC', 'O', 'O', 'O', 'B-MISC', 'O', 'O']\n"
     ]
    }
   ],
   "source": [
    "# 단어 와 개체명을 분리해서 저장.\n",
    "# 품사 태깅과 동일.\n",
    "\n",
    "sents , ner_tags = [],[]\n",
    "\n",
    "for tagged_sent in tagged_sents : \n",
    "    \n",
    "    sent , ner_tag = zip(*tagged_sent)\n",
    "\n",
    "    sents.append(list(sent))\n",
    "    ner_tags.append(list(ner_tag))\n",
    "    \n",
    "print(sents[0])\n",
    "print(ner_tags[0])"
   ]
  },
  {
   "cell_type": "code",
   "execution_count": 20,
   "id": "connected-creativity",
   "metadata": {},
   "outputs": [
    {
     "name": "stdout",
     "output_type": "stream",
     "text": [
      "max length of samples :  113\n",
      "mean length of samples :  14.501887329962253\n"
     ]
    },
    {
     "data": {
      "image/png": "[encoded data removed]",
      "text/plain": [
       "<Figure size 432x288 with 1 Axes>"
      ]
     },
     "metadata": {
      "needs_background": "light"
     },
     "output_type": "display_data"
    }
   ],
   "source": [
    "import matplotlib.pyplot as plt\n",
    "\n",
    "maxlen = max(len(sent) for sent in sents)\n",
    "meanlen = (sum(map(len,sents)) / len(sents))\n",
    "\n",
    "print(\"max length of samples : \",maxlen)\n",
    "print(\"mean length of samples : \",meanlen)\n",
    "\n",
    "\n",
    "plt.hist([len(sent) for sent in sents],bins=50)\n",
    "plt.xlabel(\"lenght of samples\")\n",
    "plt.ylabel(\"number of samples\")\n",
    "plt.show()"
   ]
  },
  {
   "cell_type": "code",
   "execution_count": 21,
   "id": "contemporary-celtic",
   "metadata": {},
   "outputs": [],
   "source": [
    "# 토큰화 + 정수 인코딩\n",
    "# 문장 데이터는 4,000 개 단어만 사용.\n",
    "\n",
    "from tensorflow.keras.preprocessing.text import Tokenizer\n",
    "max_words = 4000\n",
    "sent_tokenizer = Tokenizer(num_words=max_words,oov_token='OOV')\n",
    "sent_tokenizer.fit_on_texts(sents)\n",
    "\n",
    "tag_tokenizer = Tokenizer()\n",
    "tag_tokenizer.fit_on_texts(ner_tags)\n",
    "\n",
    "X = sent_tokenizer.texts_to_sequences(sents)\n",
    "y = tag_tokenizer.texts_to_sequences(ner_tags)"
   ]
  },
  {
   "cell_type": "code",
   "execution_count": 22,
   "id": "fundamental-dress",
   "metadata": {},
   "outputs": [
    {
     "name": "stdout",
     "output_type": "stream",
     "text": [
      "vocabulary size :  4000\n",
      "tag size :  10\n"
     ]
    }
   ],
   "source": [
    "# 단어 집합 크기 , 개체명 데이터 크기\n",
    "\n",
    "vocab_size = max_words\n",
    "tag_size = len(tag_tokenizer.word_index) + 1\n",
    "print(\"vocabulary size : \",vocab_size)\n",
    "print(\"tag size : \",tag_size)"
   ]
  },
  {
   "cell_type": "code",
   "execution_count": 23,
   "id": "wireless-factor",
   "metadata": {},
   "outputs": [],
   "source": [
    "# 길이를 70으로 패딩 + 데이터 분리 및 원-핫 인코딩\n",
    "from sklearn.model_selection import train_test_split\n",
    "from tensorflow.keras.preprocessing.sequence import pad_sequences\n",
    "from tensorflow.keras.utils import to_categorical\n",
    "\n",
    "max_len = 70\n",
    "X = pad_sequences(X,maxlen=max_len)\n",
    "y = pad_sequences(y,maxlen=max_len)\n",
    "\n",
    "X_train, X_test, y_train, y_test = train_test_split(X,y,\n",
    "                                        test_size=0.2,random_state=777)\n",
    "\n",
    "y_train = to_categorical(y_train,num_classes=tag_size)\n",
    "y_test = to_categorical(y_test,num_classes=tag_size)"
   ]
  },
  {
   "cell_type": "code",
   "execution_count": 24,
   "id": "adjusted-hormone",
   "metadata": {},
   "outputs": [
    {
     "name": "stdout",
     "output_type": "stream",
     "text": [
      "train sentences size :  (11232, 70)\n",
      "train tag size : (11232, 70, 10)\n",
      "test sentences size :  (2809, 70)\n",
      "test tag size : (2809, 70, 10)\n"
     ]
    }
   ],
   "source": [
    "# 각 데이터 크기\n",
    "\n",
    "print(\"train sentences size : \",X_train.shape)\n",
    "print(\"train tag size :\",y_train.shape)\n",
    "print(\"test sentences size : \",X_test.shape)\n",
    "print(\"test tag size :\",y_test.shape)"
   ]
  },
  {
   "cell_type": "markdown",
   "id": "smoking-blend",
   "metadata": {},
   "source": [
    "### 2. Bi-LSTM 개체명 인식기"
   ]
  },
  {
   "cell_type": "code",
   "execution_count": 25,
   "id": "religious-hypothesis",
   "metadata": {},
   "outputs": [],
   "source": [
    "from tensorflow.keras.models import Sequential\n",
    "from tensorflow.keras.layers import Dense,Embedding,LSTM,Bidirectional,TimeDistributed\n",
    "\n",
    "model = Sequential()\n",
    "model.add(Embedding(vocab_size,128,input_length=max_len,mask_zero=True))\n",
    "model.add(Bidirectional(LSTM(256,return_sequences=True)))\n",
    "model.add(TimeDistributed(Dense(tag_size,activation='softmax')))"
   ]
  },
  {
   "cell_type": "code",
   "execution_count": 26,
   "id": "essential-baseball",
   "metadata": {},
   "outputs": [
    {
     "name": "stdout",
     "output_type": "stream",
     "text": [
      "Epoch 1/8\n",
      "88/88 [==============================] - 84s 917ms/step - loss: 0.2539 - acc: 0.7949 - val_loss: 0.1232 - val_acc: 0.8339\n",
      "Epoch 2/8\n",
      "88/88 [==============================] - 76s 867ms/step - loss: 0.1091 - acc: 0.8434 - val_loss: 0.0747 - val_acc: 0.8911\n",
      "Epoch 3/8\n",
      "88/88 [==============================] - 76s 861ms/step - loss: 0.0712 - acc: 0.8977 - val_loss: 0.0513 - val_acc: 0.9276\n",
      "Epoch 4/8\n",
      "88/88 [==============================] - 76s 864ms/step - loss: 0.0477 - acc: 0.9342 - val_loss: 0.0404 - val_acc: 0.9426\n",
      "Epoch 5/8\n",
      "88/88 [==============================] - 79s 896ms/step - loss: 0.0352 - acc: 0.9509 - val_loss: 0.0350 - val_acc: 0.9507\n",
      "Epoch 6/8\n",
      "88/88 [==============================] - 77s 881ms/step - loss: 0.0270 - acc: 0.9611 - val_loss: 0.0334 - val_acc: 0.9540\n",
      "Epoch 7/8\n",
      "88/88 [==============================] - 76s 864ms/step - loss: 0.0240 - acc: 0.9659 - val_loss: 0.0339 - val_acc: 0.9554\n",
      "Epoch 8/8\n",
      "88/88 [==============================] - 85s 966ms/step - loss: 0.0215 - acc: 0.9687 - val_loss: 0.0320 - val_acc: 0.9566\n"
     ]
    },
    {
     "data": {
      "text/plain": [
       "<tensorflow.python.keras.callbacks.History at 0x16e21e310>"
      ]
     },
     "execution_count": 26,
     "metadata": {},
     "output_type": "execute_result"
    }
   ],
   "source": [
    "model.compile(optimizer='adam',loss='categorical_crossentropy',\n",
    "              metrics=['acc'])\n",
    "\n",
    "model.fit(X_train,y_train,batch_size=128,epochs=8,\n",
    "          validation_data=(X_test,y_test))"
   ]
  },
  {
   "cell_type": "code",
   "execution_count": 28,
   "id": "sized-modeling",
   "metadata": {},
   "outputs": [
    {
     "name": "stdout",
     "output_type": "stream",
     "text": [
      "88/88 [==============================] - 10s 117ms/step - loss: 0.0320 - acc: 0.9566\n",
      "model accuracy : 0.957\n"
     ]
    }
   ],
   "source": [
    "print(f\"model accuracy : {round(model.evaluate(X_test,y_test)[1],3)}\")"
   ]
  },
  {
   "cell_type": "code",
   "execution_count": 33,
   "id": "attractive-accent",
   "metadata": {},
   "outputs": [
    {
     "name": "stdout",
     "output_type": "stream",
     "text": [
      "단어             |실제값  |예측값\n",
      "-----------------------------------\n",
      "sarah            :B-PER   B-PER\n",
      "brady            :I-PER   I-PER\n",
      ",                :O       O\n",
      "whose            :O       O\n",
      "republican       :B-MISC  B-MISC\n",
      "husband          :O       O\n",
      "was              :O       O\n",
      "OOV              :O       O\n",
      "OOV              :O       O\n",
      "in               :O       O\n",
      "an               :O       O\n",
      "OOV              :O       O\n",
      "attempt          :O       O\n",
      "on               :O       O\n",
      "president        :O       O\n",
      "ronald           :B-PER   B-PER\n",
      "reagan           :I-PER   I-PER\n",
      ",                :O       O\n",
      "took             :O       O\n",
      "centre           :O       O\n",
      "stage            :O       O\n",
      "at               :O       O\n",
      "the              :O       O\n",
      "democratic       :B-MISC  B-MISC\n",
      "national         :I-MISC  I-MISC\n",
      "convention       :I-MISC  I-MISC\n",
      "on               :O       O\n",
      "monday           :O       O\n",
      "night            :O       O\n",
      "to               :O       O\n",
      "OOV              :O       O\n",
      "president        :O       O\n",
      "bill             :B-PER   B-PER\n",
      "clinton          :I-PER   I-PER\n",
      "'s               :O       O\n",
      "gun              :O       O\n",
      "control          :O       O\n",
      "efforts          :O       O\n",
      ".                :O       O\n"
     ]
    }
   ],
   "source": [
    "import numpy as np\n",
    "\n",
    "idx_to_word = sent_tokenizer.index_word\n",
    "idx_to_ner = tag_tokenizer.index_word\n",
    "\n",
    "y_pred = model.predict(np.array([X_test[10]]))\n",
    "y_pred = np.argmax(y_pred,-1)\n",
    "y_true = np.argmax(y_test[10],-1)\n",
    "\n",
    "print(\"{:15}|{:5}|{}\".format(\"단어\",\"실제값\",\"예측값\"))\n",
    "print(\"-\" * 35)\n",
    "\n",
    "for w , true , pred in zip(X_test[10],y_true,y_pred[0]) :\n",
    "    if w != 0 :\n",
    "        print(\"{:17}:{:7} {}\".format(idx_to_word[w],idx_to_ner[true].upper(),\n",
    "                                    idx_to_ner[pred].upper()))\n",
    "\n"
   ]
  },
  {
   "cell_type": "markdown",
   "id": "distant-steam",
   "metadata": {},
   "source": [
    "출력 결과는 그럴듯해 보이지만 이번에 사용한 정확도 측정 방법이 그다지 적절하지 않다.\n",
    "\n",
    "-> 예측 정확도가 대부분 'O' 로 인해 결정되기 때문.\n",
    "\n",
    "\n",
    "=> 해결방법 중 하나인 F1-score 도입(다음 챕터에서 계속)"
   ]
  }
 ],
 "metadata": {
  "kernelspec": {
   "display_name": "Python 3",
   "language": "python",
   "name": "python3"
  },
  "language_info": {
   "codemirror_mode": {
    "name": "ipython",
    "version": 3
   },
   "file_extension": ".py",
   "mimetype": "text/x-python",
   "name": "python",
   "nbconvert_exporter": "python",
   "pygments_lexer": "ipython3",
   "version": "3.8.8"
  }
 },
 "nbformat": 4,
 "nbformat_minor": 5
}
