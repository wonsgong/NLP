{
 "cells": [
  {
   "cell_type": "markdown",
   "id": "convenient-parish",
   "metadata": {},
   "source": [
    "# 1. 품사 태깅 데이터"
   ]
  },
  {
   "cell_type": "code",
   "execution_count": 10,
   "id": "cardiac-parker",
   "metadata": {},
   "outputs": [
    {
     "name": "stdout",
     "output_type": "stream",
     "text": [
      "size of sentences by tagged :  3914\n"
     ]
    }
   ],
   "source": [
    "# 토큰화에 품사 태킹된 데이터 받아오기\n",
    "import nltk\n",
    "\n",
    "tagged_sents = nltk.corpus.treebank.tagged_sents()\n",
    "print(\"size of sentences by tagged : \",len(tagged_sents))"
   ]
  },
  {
   "cell_type": "code",
   "execution_count": 11,
   "id": "automatic-forest",
   "metadata": {},
   "outputs": [
    {
     "name": "stdout",
     "output_type": "stream",
     "text": [
      "[('Pierre', 'NNP'), ('Vinken', 'NNP'), (',', ','), ('61', 'CD'), ('years', 'NNS'), ('old', 'JJ'), (',', ','), ('will', 'MD'), ('join', 'VB'), ('the', 'DT'), ('board', 'NN'), ('as', 'IN'), ('a', 'DT'), ('nonexecutive', 'JJ'), ('director', 'NN'), ('Nov.', 'NNP'), ('29', 'CD'), ('.', '.')]\n"
     ]
    }
   ],
   "source": [
    "print(tagged_sents[0])"
   ]
  },
  {
   "cell_type": "code",
   "execution_count": 12,
   "id": "lovely-denial",
   "metadata": {},
   "outputs": [
    {
     "name": "stdout",
     "output_type": "stream",
     "text": [
      "['Pierre', 'Vinken', ',', '61', 'years', 'old', ',', 'will', 'join', 'the', 'board', 'as', 'a', 'nonexecutive', 'director', 'Nov.', '29', '.']\n",
      "['NNP', 'NNP', ',', 'CD', 'NNS', 'JJ', ',', 'MD', 'VB', 'DT', 'NN', 'IN', 'DT', 'JJ', 'NN', 'NNP', 'CD', '.']\n"
     ]
    }
   ],
   "source": [
    "# 단어 부분과 품사 태깅 정보를 따로 저장.\n",
    "\n",
    "sents, pos_tags = [],[]\n",
    "\n",
    "for tagged_sent in tagged_sents :\n",
    "    \n",
    "    sent , pos_tag = zip(*tagged_sent)\n",
    "\n",
    "    sents.append(list(sent))\n",
    "    tags.append(list(pos_tag))\n",
    "    \n",
    "print(sents[0])\n",
    "print(pos_tags[0])"
   ]
  },
  {
   "cell_type": "code",
   "execution_count": 17,
   "id": "banner-republican",
   "metadata": {},
   "outputs": [
    {
     "name": "stdout",
     "output_type": "stream",
     "text": [
      "max length of samples :  271\n",
      "mean length of samples : 25.722023505365357\n"
     ]
    },
    {
     "data": {
      "image/png": "[encoded data removed]",
      "text/plain": [
       "<Figure size 432x288 with 1 Axes>"
      ]
     },
     "metadata": {
      "needs_background": "light"
     },
     "output_type": "display_data"
    }
   ],
   "source": [
    "import matplotlib.pyplot as plt\n",
    "\n",
    "maxlen = max(len(sent) for sent in sents)\n",
    "meanlen = (sum(map(len,sents)) / len(sents))\n",
    "\n",
    "print(\"max length of samples : \",maxlen)\n",
    "print(\"mean length of samples :\",meanlen)\n",
    "\n",
    "\n",
    "plt.hist([len(sent) for sent in sents],bins=50)\n",
    "plt.xlabel(\"length of samples\")\n",
    "plt.ylabel(\"number of samples\")\n",
    "plt.show()"
   ]
  },
  {
   "cell_type": "code",
   "execution_count": 18,
   "id": "elect-nursing",
   "metadata": {},
   "outputs": [],
   "source": [
    "from tensorflow.keras.preprocessing.text import Tokenizer\n",
    "\n",
    "def tokenize(sample) :\n",
    "    tokenizer = Tokenizer()\n",
    "    tokenizer.fit_on_texts(sample)\n",
    "    return tokenizer\n",
    "\n",
    "\n",
    "sent_tokenizer = tokenize(sents)\n",
    "tag_tokenizer = tokenize(pos_tags)"
   ]
  },
  {
   "cell_type": "code",
   "execution_count": 19,
   "id": "offshore-functionality",
   "metadata": {},
   "outputs": [
    {
     "name": "stdout",
     "output_type": "stream",
     "text": [
      "vocabulary size :  11388\n",
      "tag size :  47\n"
     ]
    }
   ],
   "source": [
    "vocab_size = len(sent_tokenizer.word_index) + 1\n",
    "tag_size = len(tag_tokenizer.word_index) + 1\n",
    "\n",
    "print(\"vocabulary size : \",vocab_size)\n",
    "print(\"tag size : \",tag_size)"
   ]
  },
  {
   "cell_type": "code",
   "execution_count": 21,
   "id": "verbal-upgrade",
   "metadata": {},
   "outputs": [],
   "source": [
    "# 정수 인코딩 & 패딩(size : 150)\n",
    "\n",
    "from tensorflow.keras.preprocessing.sequence import pad_sequences\n",
    "\n",
    "X = sent_tokenizer.texts_to_sequences(sents)\n",
    "y = tag_tokenizer.texts_to_sequences(tags)\n",
    "\n",
    "max_len = 150\n",
    "X = pad_sequences(X,maxlen=max_len)\n",
    "y = pad_sequences(y,maxlen=max_len)"
   ]
  },
  {
   "cell_type": "code",
   "execution_count": 23,
   "id": "supreme-judge",
   "metadata": {},
   "outputs": [],
   "source": [
    "# 8:2 비율로 train-test split\n",
    "# random_state 는 책과 동일하게 진행\n",
    "\n",
    "from sklearn.model_selection import train_test_split\n",
    "\n",
    "X_train, X_test, y_train, y_test = train_test_split(X, y, \n",
    "                                        test_size=0.2, random_state=777)"
   ]
  },
  {
   "cell_type": "code",
   "execution_count": 25,
   "id": "capable-primary",
   "metadata": {},
   "outputs": [],
   "source": [
    "# 태깅 정보에 대해서 원-핫 인코딩 수행\n",
    "\n",
    "from tensorflow.keras.utils import to_categorical\n",
    "\n",
    "y_train = to_categorical(y_train,num_classes=tag_size)\n",
    "y_test = to_categorical(y_test,num_classes=tag_size)"
   ]
  },
  {
   "cell_type": "code",
   "execution_count": 28,
   "id": "immune-times",
   "metadata": {},
   "outputs": [
    {
     "name": "stdout",
     "output_type": "stream",
     "text": [
      "train sentences size :  (3131, 150)\n",
      "train tag size : (3131, 150, 47)\n",
      "test sentences size :  (783, 150)\n",
      "test tag size : (783, 150, 47)\n"
     ]
    }
   ],
   "source": [
    "# 각 데이터 크기\n",
    "\n",
    "print(\"train sentences size : \",X_train.shape)\n",
    "print(\"train tag size :\",y_train.shape)\n",
    "print(\"test sentences size : \",X_test.shape)\n",
    "print(\"test tag size :\",y_test.shape)"
   ]
  },
  {
   "cell_type": "markdown",
   "id": "atmospheric-transmission",
   "metadata": {},
   "source": [
    "# 양방향 LSTM 으로 Pos Tagger 만들기"
   ]
  },
  {
   "cell_type": "code",
   "execution_count": 30,
   "id": "devoted-judges",
   "metadata": {},
   "outputs": [],
   "source": [
    "from tensorflow.keras.models import Sequential\n",
    "from tensorflow.keras.layers import Dense, Embedding, Bidirectional, LSTM, TimeDistributed\n",
    "\n",
    "model = Sequential()\n",
    "model.add(Embedding(vocab_size,128,input_length=max_len,mask_zero=True))\n",
    "model.add(Bidirectional(LSTM(256,return_sequences=True)))\n",
    "model.add(TimeDistributed(Dense(tag_size,activation='softmax')))"
   ]
  },
  {
   "cell_type": "code",
   "execution_count": 31,
   "id": "circular-circular",
   "metadata": {},
   "outputs": [
    {
     "name": "stdout",
     "output_type": "stream",
     "text": [
      "Epoch 1/6\n",
      "25/25 [==============================] - 52s 2s/step - loss: 0.6161 - acc: 0.1251 - val_loss: 0.5069 - val_acc: 0.1615\n",
      "Epoch 2/6\n",
      "25/25 [==============================] - 46s 2s/step - loss: 0.4983 - acc: 0.1902 - val_loss: 0.4619 - val_acc: 0.3489\n",
      "Epoch 3/6\n",
      "25/25 [==============================] - 46s 2s/step - loss: 0.4384 - acc: 0.3942 - val_loss: 0.3301 - val_acc: 0.5083\n",
      "Epoch 4/6\n",
      "25/25 [==============================] - 46s 2s/step - loss: 0.2958 - acc: 0.5592 - val_loss: 0.1988 - val_acc: 0.7257\n",
      "Epoch 5/6\n",
      "25/25 [==============================] - 46s 2s/step - loss: 0.1695 - acc: 0.7765 - val_loss: 0.1116 - val_acc: 0.8594\n",
      "Epoch 6/6\n",
      "25/25 [==============================] - 46s 2s/step - loss: 0.0868 - acc: 0.8970 - val_loss: 0.0743 - val_acc: 0.8996\n"
     ]
    },
    {
     "data": {
      "text/plain": [
       "<tensorflow.python.keras.callbacks.History at 0x16e898070>"
      ]
     },
     "execution_count": 31,
     "metadata": {},
     "output_type": "execute_result"
    }
   ],
   "source": [
    "model.compile(optimizer='adam',loss='categorical_crossentropy',\n",
    "              metrics=['acc'])\n",
    "\n",
    "model.fit(X_train,y_train,batch_size=128,\n",
    "          epochs=6,validation_data=(X_test,y_test))"
   ]
  },
  {
   "cell_type": "code",
   "execution_count": 32,
   "id": "competitive-diana",
   "metadata": {},
   "outputs": [
    {
     "name": "stdout",
     "output_type": "stream",
     "text": [
      "25/25 [==============================] - 6s 242ms/step - loss: 0.0743 - acc: 0.8996\n",
      "accuracy :  0.8996108174324036\n"
     ]
    }
   ],
   "source": [
    "print(\"accuracy : \",model.evaluate(X_test,y_test)[1])"
   ]
  },
  {
   "cell_type": "code",
   "execution_count": 43,
   "id": "saving-wagner",
   "metadata": {},
   "outputs": [
    {
     "name": "stdout",
     "output_type": "stream",
     "text": [
      "단어             |실제값  |예측값\n",
      "-----------------------------------\n",
      "in               : IN      IN\n",
      "addition         : NN      NN\n",
      ",                : ,       ,\n",
      "buick            : NNP     NNP\n",
      "is               : VBZ     VBZ\n",
      "a                : DT      DT\n",
      "relatively       : RB      RB\n",
      "respected        : VBN     VBN\n",
      "nameplate        : NN      NN\n",
      "among            : IN      IN\n",
      "american         : NNP     NNP\n",
      "express          : NNP     NNP\n",
      "card             : NN      NN\n",
      "holders          : NNS     NNS\n",
      ",                : ,       ,\n",
      "says             : VBZ     VBZ\n",
      "0                : -NONE-  -NONE-\n",
      "*t*-1            : -NONE-  -NONE-\n",
      "an               : DT      DT\n",
      "american         : NNP     NNP\n",
      "express          : NNP     NNP\n",
      "spokeswoman      : NN      NN\n",
      ".                : .       .\n"
     ]
    }
   ],
   "source": [
    "import numpy as np\n",
    "\n",
    "index_to_word=sent_tokenizer.index_word\n",
    "index_to_tag=tag_tokenizer.index_word\n",
    "\n",
    "# 입력한 테스트용 샘플에 대해서 예측 y를 리턴\n",
    "y_pred = model.predict(np.array([X_test[10]])) \n",
    "\n",
    "# 원-핫 인코딩을 다시 정수 인코딩으로 변경함.\n",
    "y_pred = np.argmax(y_pred, axis=-1) \n",
    "y_true = np.argmax(y_test[10], -1)\n",
    "\n",
    "print(\"{:15}|{:5}|{}\".format(\"단어\", \"실제값\", \"예측값\"))\n",
    "print(35 * \"-\")\n",
    "\n",
    "for w, t, pred in zip(X_test[10], y_true, y_pred[0]):\n",
    "    if w != 0: # PAD값은 제외함.\n",
    "        print(\"{:17}: {:7} {}\".format(index_to_word[w], index_to_tag[t].upper(), \n",
    "                                      index_to_tag[pred].upper()))"
   ]
  }
 ],
 "metadata": {
  "kernelspec": {
   "display_name": "Python 3",
   "language": "python",
   "name": "python3"
  },
  "language_info": {
   "codemirror_mode": {
    "name": "ipython",
    "version": 3
   },
   "file_extension": ".py",
   "mimetype": "text/x-python",
   "name": "python",
   "nbconvert_exporter": "python",
   "pygments_lexer": "ipython3",
   "version": "3.8.8"
  }
 },
 "nbformat": 4,
 "nbformat_minor": 5
}
