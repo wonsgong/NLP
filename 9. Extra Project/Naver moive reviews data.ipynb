{
 "cells": [
  {
   "cell_type": "markdown",
   "id": "continental-hierarchy",
   "metadata": {},
   "source": [
    "# 네이버 영화 리뷰 데이터\n",
    "\n",
    "\n",
    "    네이버 영화 리뷰 데이터 셋인 https://github.com/e9t/nsmc 에서 다운로드함.\n",
    "    ratings.txt 대신 raw data 읽어와서 csv 파일로 저장.\n",
    "        \n",
    "    추후 감성 분석 데이터로 사용."
   ]
  },
  {
   "cell_type": "code",
   "execution_count": 15,
   "id": "colonial-tender",
   "metadata": {},
   "outputs": [
    {
     "name": "stderr",
     "output_type": "stream",
     "text": [
      "100%|██████████| 14730/14730 [09:01<00:00, 27.19it/s]\n"
     ]
    },
    {
     "name": "stdout",
     "output_type": "stream",
     "text": [
      "<class 'pandas.core.frame.DataFrame'>\n",
      "Int64Index: 712404 entries, 0 to 88\n",
      "Data columns (total 6 columns):\n",
      " #   Column     Non-Null Count   Dtype \n",
      "---  ------     --------------   ----- \n",
      " 0   review_id  712404 non-null  object\n",
      " 1   movie_id   712404 non-null  object\n",
      " 2   author     712404 non-null  object\n",
      " 3   review     712404 non-null  object\n",
      " 4   rating     712404 non-null  object\n",
      " 5   date       712404 non-null  object\n",
      "dtypes: object(6)\n",
      "memory usage: 38.0+ MB\n"
     ]
    }
   ],
   "source": [
    "import os\n",
    "import json\n",
    "import pandas as pd\n",
    "from tqdm import tqdm\n",
    "\n",
    "root = 'raw/{}'\n",
    "files = os.listdir('raw')\n",
    "\n",
    "df = pd.DataFrame()\n",
    "\n",
    "for file in tqdm(files) : \n",
    "    path = root.format(file)\n",
    "    tojson = open(path).read()\n",
    "    \n",
    "    info = json.loads(tojson)\n",
    "\n",
    "    df = df.append(pd.json_normalize(info))\n",
    "    \n",
    "df.info()"
   ]
  },
  {
   "cell_type": "code",
   "execution_count": 22,
   "id": "international-tuner",
   "metadata": {
    "scrolled": true
   },
   "outputs": [
    {
     "data": {
      "text/html": [
       "<div>\n",
       "<style scoped>\n",
       "    .dataframe tbody tr th:only-of-type {\n",
       "        vertical-align: middle;\n",
       "    }\n",
       "\n",
       "    .dataframe tbody tr th {\n",
       "        vertical-align: top;\n",
       "    }\n",
       "\n",
       "    .dataframe thead th {\n",
       "        text-align: right;\n",
       "    }\n",
       "</style>\n",
       "<table border=\"1\" class=\"dataframe\">\n",
       "  <thead>\n",
       "    <tr style=\"text-align: right;\">\n",
       "      <th></th>\n",
       "      <th>review</th>\n",
       "      <th>rating</th>\n",
       "    </tr>\n",
       "  </thead>\n",
       "  <tbody>\n",
       "    <tr>\n",
       "      <th>0</th>\n",
       "      <td>종합 평점은 4점 드립니다.</td>\n",
       "      <td>4</td>\n",
       "    </tr>\n",
       "    <tr>\n",
       "      <th>1</th>\n",
       "      <td>원작이 칭송받는 이유는 웹툰 계 자체의 질적 저하가 심각하기 때문.  원작이나 영화...</td>\n",
       "      <td>1</td>\n",
       "    </tr>\n",
       "    <tr>\n",
       "      <th>2</th>\n",
       "      <td>나름의  감동도 있고 안타까운 마음에 가슴도 먹먹  배우들의 연기가 good 김수현...</td>\n",
       "      <td>10</td>\n",
       "    </tr>\n",
       "    <tr>\n",
       "      <th>3</th>\n",
       "      <td>이런걸 돈주고 본 내자신이 후회스럽다 최악의 쓰레기 영화 김수현 밖에없는 저질 삼류영화</td>\n",
       "      <td>1</td>\n",
       "    </tr>\n",
       "    <tr>\n",
       "      <th>4</th>\n",
       "      <td>초반엔 코미디, 후반엔 액션, 결론은 코미디.</td>\n",
       "      <td>7</td>\n",
       "    </tr>\n",
       "  </tbody>\n",
       "</table>\n",
       "</div>"
      ],
      "text/plain": [
       "                                              review rating\n",
       "0                                    종합 평점은 4점 드립니다.      4\n",
       "1  원작이 칭송받는 이유는 웹툰 계 자체의 질적 저하가 심각하기 때문.  원작이나 영화...      1\n",
       "2  나름의  감동도 있고 안타까운 마음에 가슴도 먹먹  배우들의 연기가 good 김수현...     10\n",
       "3   이런걸 돈주고 본 내자신이 후회스럽다 최악의 쓰레기 영화 김수현 밖에없는 저질 삼류영화      1\n",
       "4                          초반엔 코미디, 후반엔 액션, 결론은 코미디.      7"
      ]
     },
     "execution_count": 22,
     "metadata": {},
     "output_type": "execute_result"
    }
   ],
   "source": [
    "# review_id , movie_id , author, date column 삭제\n",
    "\n",
    "drop_col = ['review_id','movie_id','author','date']\n",
    "\n",
    "df.drop(drop_col,axis=1,inplace=True)\n",
    "df.head()"
   ]
  },
  {
   "cell_type": "code",
   "execution_count": 30,
   "id": "false-server",
   "metadata": {},
   "outputs": [
    {
     "data": {
      "text/plain": [
       "<AxesSubplot:>"
      ]
     },
     "execution_count": 30,
     "metadata": {},
     "output_type": "execute_result"
    },
    {
     "data": {
      "image/png": "[encoded data removed]",
      "text/plain": [
       "<Figure size 432x288 with 1 Axes>"
      ]
     },
     "metadata": {
      "needs_background": "light"
     },
     "output_type": "display_data"
    }
   ],
   "source": [
    "# rating 비율\n",
    "df['rating'].value_counts().plot(kind='bar')\n",
    "\n",
    "# 긍정 데이터가 많다. -> 1-4 : 부정(0) / 5-7 : 중립(1) / 8-10 : 긍정(2) 으로 레이블링"
   ]
  },
  {
   "cell_type": "code",
   "execution_count": 41,
   "id": "alone-saskatchewan",
   "metadata": {},
   "outputs": [
    {
     "data": {
      "text/html": [
       "<div>\n",
       "<style scoped>\n",
       "    .dataframe tbody tr th:only-of-type {\n",
       "        vertical-align: middle;\n",
       "    }\n",
       "\n",
       "    .dataframe tbody tr th {\n",
       "        vertical-align: top;\n",
       "    }\n",
       "\n",
       "    .dataframe thead th {\n",
       "        text-align: right;\n",
       "    }\n",
       "</style>\n",
       "<table border=\"1\" class=\"dataframe\">\n",
       "  <thead>\n",
       "    <tr style=\"text-align: right;\">\n",
       "      <th></th>\n",
       "      <th>review</th>\n",
       "      <th>rating</th>\n",
       "      <th>label</th>\n",
       "    </tr>\n",
       "  </thead>\n",
       "  <tbody>\n",
       "    <tr>\n",
       "      <th>0</th>\n",
       "      <td>종합 평점은 4점 드립니다.</td>\n",
       "      <td>4</td>\n",
       "      <td>0</td>\n",
       "    </tr>\n",
       "    <tr>\n",
       "      <th>1</th>\n",
       "      <td>원작이 칭송받는 이유는 웹툰 계 자체의 질적 저하가 심각하기 때문.  원작이나 영화...</td>\n",
       "      <td>1</td>\n",
       "      <td>0</td>\n",
       "    </tr>\n",
       "    <tr>\n",
       "      <th>2</th>\n",
       "      <td>나름의  감동도 있고 안타까운 마음에 가슴도 먹먹  배우들의 연기가 good 김수현...</td>\n",
       "      <td>10</td>\n",
       "      <td>2</td>\n",
       "    </tr>\n",
       "    <tr>\n",
       "      <th>3</th>\n",
       "      <td>이런걸 돈주고 본 내자신이 후회스럽다 최악의 쓰레기 영화 김수현 밖에없는 저질 삼류영화</td>\n",
       "      <td>1</td>\n",
       "      <td>0</td>\n",
       "    </tr>\n",
       "    <tr>\n",
       "      <th>4</th>\n",
       "      <td>초반엔 코미디, 후반엔 액션, 결론은 코미디.</td>\n",
       "      <td>7</td>\n",
       "      <td>1</td>\n",
       "    </tr>\n",
       "  </tbody>\n",
       "</table>\n",
       "</div>"
      ],
      "text/plain": [
       "                                              review rating  label\n",
       "0                                    종합 평점은 4점 드립니다.      4      0\n",
       "1  원작이 칭송받는 이유는 웹툰 계 자체의 질적 저하가 심각하기 때문.  원작이나 영화...      1      0\n",
       "2  나름의  감동도 있고 안타까운 마음에 가슴도 먹먹  배우들의 연기가 good 김수현...     10      2\n",
       "3   이런걸 돈주고 본 내자신이 후회스럽다 최악의 쓰레기 영화 김수현 밖에없는 저질 삼류영화      1      0\n",
       "4                          초반엔 코미디, 후반엔 액션, 결론은 코미디.      7      1"
      ]
     },
     "execution_count": 41,
     "metadata": {},
     "output_type": "execute_result"
    }
   ],
   "source": [
    "# rating 타입이 string임\n",
    "mapping = {'1':0,'2':0,'3':0,'4':0,'5':1,'6':1,'7':1,'8':2,'9':2,'10':2}\n",
    "df['label'] = df['rating'].map(mapping)\n",
    "df.head()"
   ]
  },
  {
   "cell_type": "code",
   "execution_count": 47,
   "id": "diagnostic-crest",
   "metadata": {},
   "outputs": [],
   "source": [
    "# rating 제거 후 csv파일로 저장.\n",
    "\n",
    "df.drop(['rating'],axis=1,inplace=True)\n",
    "df.to_csv('naver_movie_reviews.csv',index=False)"
   ]
  }
 ],
 "metadata": {
  "kernelspec": {
   "display_name": "Python 3",
   "language": "python",
   "name": "python3"
  },
  "language_info": {
   "codemirror_mode": {
    "name": "ipython",
    "version": 3
   },
   "file_extension": ".py",
   "mimetype": "text/x-python",
   "name": "python",
   "nbconvert_exporter": "python",
   "pygments_lexer": "ipython3",
   "version": "3.8.8"
  }
 },
 "nbformat": 4,
 "nbformat_minor": 5
}
