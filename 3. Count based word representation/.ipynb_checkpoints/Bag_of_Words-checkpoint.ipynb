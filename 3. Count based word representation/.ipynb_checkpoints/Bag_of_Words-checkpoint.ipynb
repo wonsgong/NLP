{
 "cells": [
  {
   "cell_type": "markdown",
   "id": "lonely-perception",
   "metadata": {},
   "source": [
    "# Bag of Words(BoW)\n",
    "\n",
    "    단어들의 순서는 전혀 고려하지 않고, 단어들의 출현 빈도(frequency)에만 집중하는 표현 방법.\n",
    "    \n",
    "    만드는 과정.\n",
    "    1) 각 단어에 고유한 정수 인덱스 부여.\n",
    "    2) 각 인덱스의 위치에 단어 토큰 등장 횟수를 기록한 벡터를 만든다.\n",
    "    "
   ]
  },
  {
   "cell_type": "markdown",
   "id": "funky-radiation",
   "metadata": {},
   "source": [
    "### 한글 예제\n",
    "\n",
    "    문장1 : 정부가 발표하는 물가상승률과 소비자가 느끼는 물가상승률은 다르다."
   ]
  },
  {
   "cell_type": "code",
   "execution_count": 1,
   "id": "strange-accessory",
   "metadata": {},
   "outputs": [],
   "source": [
    "text = \"정부가 발표하는 물가상승률과 소비자가 느끼는 물가상승률은 다르다.\""
   ]
  },
  {
   "cell_type": "code",
   "execution_count": 2,
   "id": "sudden-wallet",
   "metadata": {},
   "outputs": [
    {
     "name": "stdout",
     "output_type": "stream",
     "text": [
      "['정부', '가', '발표', '하는', '물가상승률', '과', '소비자', '가', '느끼는', '물가상승률', '은', '다르다']\n",
      "{'정부': 0, '가': 1, '발표': 2, '하는': 3, '물가상승률': 4, '과': 5, '소비자': 6, '느끼는': 7, '은': 8, '다르다': 9}\n",
      "[1, 2, 1, 1, 2, 1, 1, 1, 1, 1]\n"
     ]
    }
   ],
   "source": [
    "from konlpy.tag import Okt\n",
    "import re\n",
    "\n",
    "# 온점 제거.\n",
    "token = re.sub(\"(\\.)\",\"\",text) \n",
    "\n",
    "okt = Okt()\n",
    "token = okt.morphs(token)\n",
    "\n",
    "word2idx = {}\n",
    "BoW = []\n",
    "\n",
    "for voca in token :\n",
    "    \n",
    "    if voca not in word2idx.keys():\n",
    "        word2idx[voca] = len(word2idx)\n",
    "        BoW.insert(len(word2idx)-1,1)\n",
    "    \n",
    "    else :\n",
    "        idx = word2idx.get(voca)\n",
    "        BoW[idx] += 1\n",
    "print(token)\n",
    "print(word2idx)\n",
    "print(BoW) # '가' 2번 , '물가상승률' 2번 , 나머지 1번씩"
   ]
  },
  {
   "cell_type": "markdown",
   "id": "cooperative-aviation",
   "metadata": {},
   "source": [
    "BoW는 단어 등장 횟수를 수치화하는 텍스트 표현 방법이기 때문에,문서가 어떤 성격의 문서인지를 판단하는 작업에 쓰인다.\n",
    "\n",
    "즉, *분류 문제나 여러 문서 간의 유사도를 구하는 문제*  에 주로 쓰인다."
   ]
  },
  {
   "cell_type": "markdown",
   "id": "numerical-return",
   "metadata": {},
   "source": [
    "### CountVectorizer\n",
    "    빈도를 count 해서 vector로 만드는 클래스.\n",
    "    sklearn.feature_extraction.text 에 있음.\n",
    "    영어에 대해서 사용하면 된다.\n",
    "    \n",
    "    특징 :\n",
    "        1. 띄어쓰기만을 기준으로 토큰화 진행.\n",
    "        2. 길이가 2이상인 문자에 대해서만 토큰으로 인식.\n",
    "        3. 자체 불용어를 제공한다."
   ]
  },
  {
   "cell_type": "code",
   "execution_count": 3,
   "id": "northern-bryan",
   "metadata": {},
   "outputs": [
    {
     "name": "stdout",
     "output_type": "stream",
     "text": [
      "{'you': 4, 'know': 1, 'want': 3, 'your': 5, 'love': 2, 'because': 0}\n",
      "[[1 1 2 1 2 1]]\n"
     ]
    }
   ],
   "source": [
    "from sklearn.feature_extraction.text import CountVectorizer\n",
    "\n",
    "text = 'you know I want your love. because I love you.'\n",
    "\n",
    "vectorizer = CountVectorizer()\n",
    "BoW = vectorizer.fit_transform([text])\n",
    "print(vectorizer.vocabulary_)\n",
    "print(BoW.toarray())"
   ]
  },
  {
   "cell_type": "code",
   "execution_count": 4,
   "id": "external-canyon",
   "metadata": {},
   "outputs": [
    {
     "name": "stdout",
     "output_type": "stream",
     "text": [
      "Using Self stopWords\n",
      "[[1 1 1]]\n",
      "{'family': 0, 'important': 1, 'thing': 2}\n",
      "Using NLTK stopWords\n",
      "[[1 1 1 1]]\n",
      "{'family': 1, 'important': 2, 'thing': 3, 'everything': 0}\n"
     ]
    }
   ],
   "source": [
    "from sklearn.feature_extraction.text import CountVectorizer\n",
    "from nltk.corpus import stopwords\n",
    "\n",
    "text = \"Family is not an important thing. It's everything.\"\n",
    "# 자체 불용어 사용.\n",
    "self_ = CountVectorizer(stop_words='english')\n",
    "# nltk 불용어 사용\n",
    "sw = stopwords.words('english')\n",
    "nltk_ = CountVectorizer(stop_words=sw)\n",
    "\n",
    "\n",
    "selfBoW = self_.fit_transform([text])\n",
    "nltkBoW = nltk_.fit_transform([text])\n",
    "\n",
    "print(\"Using Self stopWords\")\n",
    "print(selfBoW.toarray())\n",
    "print(self_.vocabulary_)\n",
    "\n",
    "print(\"Using NLTK stopWords\")\n",
    "print(nltkBoW.toarray())\n",
    "print(nltk_.vocabulary_)"
   ]
  }
 ],
 "metadata": {
  "kernelspec": {
   "display_name": "Python 3",
   "language": "python",
   "name": "python3"
  },
  "language_info": {
   "codemirror_mode": {
    "name": "ipython",
    "version": 3
   },
   "file_extension": ".py",
   "mimetype": "text/x-python",
   "name": "python",
   "nbconvert_exporter": "python",
   "pygments_lexer": "ipython3",
   "version": "3.8.8"
  }
 },
 "nbformat": 4,
 "nbformat_minor": 5
}
