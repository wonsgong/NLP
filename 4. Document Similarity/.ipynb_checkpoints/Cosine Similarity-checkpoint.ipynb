{
 "cells": [
  {
   "cell_type": "markdown",
   "id": "combined-documentary",
   "metadata": {},
   "source": [
    "# **Cosine Similarity**\n",
    "\n",
    "    두 벡터 간의 코사인 각도를 이용하여 구할 수 있는 두 벡터의 유사도.\n",
    "    \n",
    "    0도(같은 방향)  : 1 / 90도 : 0 / 180도(반대 방향) : -1 \n",
    "    \n",
    "    수식 : \n",
    "$$ similarity = \\cos(\\theta) =  {A * B \\over||A||||B||} = {\\sum_{i=1}^n A_i * B_i \\over{\\sqrt{\\sum_{i=1}^n(A_i)^2}} * {\\sqrt{\\sum_{i=1}^n(B_i)^2}}} $$\n",
    "    \n",
    "    문서 단어 행렬이나 TF-IDF 행렬을 통해서 문서 유사도를 구하는 경우 행렬이 각각의 특징 벡터 A,B가 된다."
   ]
  },
  {
   "cell_type": "markdown",
   "id": "sized-block",
   "metadata": {},
   "source": [
    "### Numpy 이용한 구현\n",
    "\n",
    "    문서1 : 저는 사과 좋아요\n",
    "    문서2 : 저는 바나나 좋아요\n",
    "    문서3 : 저는 바나나 좋아요 저는 바나나 좋아요"
   ]
  },
  {
   "cell_type": "code",
   "execution_count": 1,
   "id": "explicit-tooth",
   "metadata": {},
   "outputs": [
    {
     "name": "stdout",
     "output_type": "stream",
     "text": [
      "[[0 1 1 1]\n",
      " [1 0 1 1]\n",
      " [2 0 2 2]]\n"
     ]
    }
   ],
   "source": [
    "from sklearn.feature_extraction.text import CountVectorizer\n",
    "\n",
    "corpus =[\n",
    "    \"저는 사과 좋아요\",\n",
    "    \"저는 바나나 좋아요\",\n",
    "    \"저는 바나나 좋아요 저는 바나나 좋아요\",\n",
    "    ]\n",
    "\n",
    "vectorizer = CountVectorizer()\n",
    "\n",
    "DTM = vectorizer.fit_transform(corpus)\n",
    "DTM = DTM.toarray()\n",
    "print(DTM)"
   ]
  },
  {
   "cell_type": "code",
   "execution_count": 2,
   "id": "still-customs",
   "metadata": {},
   "outputs": [
    {
     "name": "stdout",
     "output_type": "stream",
     "text": [
      "0.6666666666666667\n",
      "1.0000000000000002\n",
      "0.6666666666666667\n"
     ]
    }
   ],
   "source": [
    "import numpy as np\n",
    "\n",
    "def cos_sim(A,B) :\n",
    "    return np.dot(A,B) / (np.linalg.norm(A) * np.linalg.norm(B))\n",
    "\n",
    "print(cos_sim(DTM[0],DTM[1]))\n",
    "print(cos_sim(DTM[1],DTM[2]))\n",
    "print(cos_sim(DTM[2],DTM[0]))"
   ]
  },
  {
   "cell_type": "markdown",
   "id": "funded-estate",
   "metadata": {},
   "source": [
    "문서 1,2와 문서 1,3의 유사도가 같고, 문서 2,3의 유사도가 1이 나옴.\n",
    "\n",
    "문서 2와 3의 유사도가 1. \n",
    "\n",
    "    문서의 길이가 다른 상황에서도 비교적 공정한 비교 할 수 있게 해줌\n",
    "    by 벡터의 크기가 아니라 벡터의 방향에 초점을 두고 있기 때문이다.\n"
   ]
  },
  {
   "cell_type": "markdown",
   "id": "fabulous-blackberry",
   "metadata": {},
   "source": [
    "## **유사도를 이용한 추천 시스템 구현**\n",
    "\n",
    "    영화 데이터셋을 가지고 영화 추천 시스템 만들기.(TF-IDF , Cosine Similarity)\n",
    "    \n",
    "    데이터 셋 : https://www.kaggle.com/rounakbanik/the-movies-dataset"
   ]
  },
  {
   "cell_type": "code",
   "execution_count": 3,
   "id": "chicken-haiti",
   "metadata": {},
   "outputs": [],
   "source": [
    "# 데이터 처리\n",
    "import pandas as pd\n",
    "\n",
    "df = pd.read_csv(\"movies_metadata.csv\",low_memory=False)\n",
    "data = df[['title','overview']]\n",
    "data = data.fillna('')"
   ]
  },
  {
   "cell_type": "code",
   "execution_count": 4,
   "id": "moral-contemporary",
   "metadata": {},
   "outputs": [
    {
     "name": "stdout",
     "output_type": "stream",
     "text": [
      "(45466, 75827)\n"
     ]
    }
   ],
   "source": [
    "# TF-IDF \n",
    "from sklearn.feature_extraction.text import TfidfVectorizer\n",
    "\n",
    "vectorizer = TfidfVectorizer(stop_words='english')\n",
    "tfidf = vectorizer.fit_transform(data['overview'])\n",
    "print(tfidf.shape)"
   ]
  },
  {
   "cell_type": "code",
   "execution_count": 5,
   "id": "understanding-finance",
   "metadata": {},
   "outputs": [],
   "source": [
    "# Cosine Similarity\n",
    "from sklearn.metrics.pairwise import linear_kernel\n",
    "cos_sim = linear_kernel(tfidf,tfidf)\n"
   ]
  },
  {
   "cell_type": "code",
   "execution_count": 6,
   "id": "considerable-literature",
   "metadata": {},
   "outputs": [
    {
     "data": {
      "text/plain": [
       "title\n",
       "Toy Story                      0\n",
       "Jumanji                        1\n",
       "Grumpier Old Men               2\n",
       "Waiting to Exhale              3\n",
       "Father of the Bride Part II    4\n",
       "dtype: int64"
      ]
     },
     "execution_count": 6,
     "metadata": {},
     "output_type": "execute_result"
    }
   ],
   "source": [
    "indices = pd.Series(data.index,index=data['title']).drop_duplicates()\n",
    "indices.head()"
   ]
  },
  {
   "cell_type": "code",
   "execution_count": 7,
   "id": "scientific-industry",
   "metadata": {},
   "outputs": [],
   "source": [
    "def getRecommendation(title,cos_sim=cos_sim):\n",
    "    \n",
    "    idx = indices[title]\n",
    "    # 유사도 구하기.\n",
    "    sim_scores = list(enumerate(cos_sim[idx]))\n",
    "    # 유사도 따라 정렬\n",
    "    sim_scores = sorted(sim_scores,key=lambda x : x[1], reverse=True)\n",
    "    \n",
    "    sim_scores = sim_scores[1:11]\n",
    "    \n",
    "    movies_indices = [i[0] for i in sim_scores]\n",
    "    \n",
    "    return data['title'].iloc[movies_indices]"
   ]
  },
  {
   "cell_type": "code",
   "execution_count": 8,
   "id": "recognized-process",
   "metadata": {},
   "outputs": [
    {
     "data": {
      "text/plain": [
       "12481                                      The Dark Knight\n",
       "150                                         Batman Forever\n",
       "1328                                        Batman Returns\n",
       "15511                           Batman: Under the Red Hood\n",
       "585                                                 Batman\n",
       "21194    Batman Unmasked: The Psychology of the Dark Kn...\n",
       "9230                    Batman Beyond: Return of the Joker\n",
       "18035                                     Batman: Year One\n",
       "19792              Batman: The Dark Knight Returns, Part 1\n",
       "3095                          Batman: Mask of the Phantasm\n",
       "Name: title, dtype: object"
      ]
     },
     "execution_count": 8,
     "metadata": {},
     "output_type": "execute_result"
    }
   ],
   "source": [
    "getRecommendation('The Dark Knight Rises')"
   ]
  }
 ],
 "metadata": {
  "kernelspec": {
   "display_name": "Python 3",
   "language": "python",
   "name": "python3"
  },
  "language_info": {
   "codemirror_mode": {
    "name": "ipython",
    "version": 3
   },
   "file_extension": ".py",
   "mimetype": "text/x-python",
   "name": "python",
   "nbconvert_exporter": "python",
   "pygments_lexer": "ipython3",
   "version": "3.8.8"
  }
 },
 "nbformat": 4,
 "nbformat_minor": 5
}
