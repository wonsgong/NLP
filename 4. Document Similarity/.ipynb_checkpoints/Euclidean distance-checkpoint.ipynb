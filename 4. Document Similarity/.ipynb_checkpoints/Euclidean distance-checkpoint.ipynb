{
 "cells": [
  {
   "cell_type": "markdown",
   "id": "express-monitoring",
   "metadata": {},
   "source": [
    "# Euclidean distance\n",
    "\n",
    "    코사인 유사도, 자카드 유사도만큼  유용한 방법은 아니다.\n",
    "    다른 개념 이해할 때 도움이 된다.\n",
    "    \n",
    "    두 점 사이의 거리를 구하는 방식으로 문서 간 유사도를 구한다.\n",
    "    거리가 가까우면 유사도가 높다."
   ]
  },
  {
   "cell_type": "code",
   "execution_count": 1,
   "id": "innocent-cabin",
   "metadata": {},
   "outputs": [
    {
     "name": "stdout",
     "output_type": "stream",
     "text": [
      "[[0 2 1 1]\n",
      " [1 0 1 1]\n",
      " [2 0 2 2]]\n"
     ]
    }
   ],
   "source": [
    "from sklearn.feature_extraction.text import CountVectorizer\n",
    "\n",
    "corpus =[\n",
    "    \"저는 사과 사과 좋아요\",\n",
    "    \"저는 바나나 좋아요\",\n",
    "    \"저는 바나나 좋아요 저는 바나나 좋아요\",\n",
    "    ]\n",
    "\n",
    "vectorizer = CountVectorizer()\n",
    "\n",
    "DTM = vectorizer.fit_transform(corpus)\n",
    "DTM = DTM.toarray()\n",
    "print(DTM)"
   ]
  },
  {
   "cell_type": "code",
   "execution_count": 2,
   "id": "existing-monitor",
   "metadata": {},
   "outputs": [
    {
     "name": "stdout",
     "output_type": "stream",
     "text": [
      "1.7320508075688772\n",
      "1.4142135623730951\n",
      "2.6457513110645907\n"
     ]
    }
   ],
   "source": [
    "import numpy as np\n",
    "def dist(x,y):\n",
    "    return np.sqrt(np.sum((x-y)**2))\n",
    "\n",
    "# 문서 Q와의 유사도 구하기 \n",
    "# Q : 바나나 사과 좋아요 => [1,1,0,1]\n",
    "Q = np.array((1,1,0,1))\n",
    "\n",
    "print(dist(DTM[0],Q))\n",
    "print(dist(DTM[1],Q))\n",
    "print(dist(DTM[2],Q))"
   ]
  },
  {
   "cell_type": "markdown",
   "id": "quiet-fields",
   "metadata": {},
   "source": [
    "문서 2가 가장 유사도가 높다."
   ]
  },
  {
   "cell_type": "markdown",
   "id": "optional-state",
   "metadata": {},
   "source": [
    "# Jaccard similarity\n",
    "    두 집합 A,B의 합집합에서 교집합의 비율을 구하면 유사도를 구할 수 있다.\n",
    "    유사도는 [0,1], 동일하면 1, 공통 원소 없으면 0\n",
    "    \n",
    "    자카드 유사도 함수 \n",
    "$$ J(A,B) = {|A \\cap B| \\over |A \\cup B|} = {|A \\cap B| \\over |A| + |B| - |A \\cap B|}$$"
   ]
  },
  {
   "cell_type": "code",
   "execution_count": 3,
   "id": "accomplished-surprise",
   "metadata": {},
   "outputs": [
    {
     "name": "stdout",
     "output_type": "stream",
     "text": [
      "0.16666666666666666\n"
     ]
    }
   ],
   "source": [
    "doc1 = \"apple banana everyone like likey watch card holder\"\n",
    "doc2 = \"apple banana coupon passport love you\"\n",
    "\n",
    "token1 = doc1.split()\n",
    "token2 = doc2.split()\n",
    "\n",
    "\n",
    "union = set(token1).union(set(token2))\n",
    "inter = set(token1).intersection(set(token2))\n",
    "\n",
    "print(len(inter)/len(union))"
   ]
  }
 ],
 "metadata": {
  "kernelspec": {
   "display_name": "Python 3",
   "language": "python",
   "name": "python3"
  },
  "language_info": {
   "codemirror_mode": {
    "name": "ipython",
    "version": 3
   },
   "file_extension": ".py",
   "mimetype": "text/x-python",
   "name": "python",
   "nbconvert_exporter": "python",
   "pygments_lexer": "ipython3",
   "version": "3.8.8"
  }
 },
 "nbformat": 4,
 "nbformat_minor": 5
}
