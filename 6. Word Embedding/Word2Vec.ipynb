{
 "cells": [
  {
   "cell_type": "markdown",
   "id": "regional-stephen",
   "metadata": {},
   "source": [
    "# 영어/한국어 Word2Vec\n",
    "    \n",
    "    gensim 패키지에서 Word2Vec 이 이미 구현되어 있음으로, 별도 구현없이 쉽게 훈련가능"
   ]
  },
  {
   "cell_type": "markdown",
   "id": "editorial-teddy",
   "metadata": {},
   "source": [
    "## 1. 영어 Word2Vec\n",
    "    \n",
    "    "
   ]
  },
  {
   "cell_type": "markdown",
   "id": "pointed-velvet",
   "metadata": {},
   "source": [
    "### 1) 데이터 처리"
   ]
  },
  {
   "cell_type": "code",
   "execution_count": 4,
   "id": "injured-genealogy",
   "metadata": {},
   "outputs": [
    {
     "data": {
      "text/plain": [
       "('ted_en-20160408.xml', <http.client.HTTPMessage at 0x121154a00>)"
      ]
     },
     "execution_count": 4,
     "metadata": {},
     "output_type": "execute_result"
    }
   ],
   "source": [
    "# 훈련 데이터 다운로드\n",
    "import urllib.request\n",
    "urllib.request.urlretrieve(\"https://raw.githubusercontent.com/GaoleMeng/RNN-and-FFNN-textClassification/master/ted_en-20160408.xml\", \n",
    "                           filename=\"ted_en-20160408.xml\")\n"
   ]
  },
  {
   "cell_type": "code",
   "execution_count": 8,
   "id": "false-great",
   "metadata": {},
   "outputs": [],
   "source": [
    "# 데이터 전처리\n",
    "from lxml import etree\n",
    "import re\n",
    "from nltk.tokenize import word_tokenize, sent_tokenize\n",
    "\n",
    "targetXML = open('ted_en-20160408.xml','r',encoding='UTF8')\n",
    "target_text = etree.parse(targetXML)\n",
    "\n",
    "# xml 파일로부터 <content> </content> 사이 내용 가져오기.\n",
    "parse_text = '\\n'.join(target_text.xpath('//content/text()'))\n",
    "\n",
    "# content 중간 배경음 부분 제거\n",
    "content_text = re.sub(r'\\([^)]*\\)','',parse_text)\n",
    "\n",
    "# 입력 코퍼스에 대해서 nltk 사용 토큰화 후 구두점 제거, 대문자->소문자\n",
    "sent_text = sent_tokenize(content_text)\n",
    "\n",
    "normalized_text = []\n",
    "for string in sent_text :\n",
    "    tokens = re.sub(r\"[^a-z0-9]+\",\" \",string.lower())\n",
    "    normalized_text.append(tokens)\n",
    "\n",
    "    \n",
    "result = [word_tokenize(sentence) for sentence in normalized_text]"
   ]
  },
  {
   "cell_type": "code",
   "execution_count": 9,
   "id": "indonesian-health",
   "metadata": {
    "scrolled": true
   },
   "outputs": [
    {
     "name": "stdout",
     "output_type": "stream",
     "text": [
      "273424\n"
     ]
    }
   ],
   "source": [
    "print(len(result))"
   ]
  },
  {
   "cell_type": "markdown",
   "id": "dietary-durham",
   "metadata": {},
   "source": [
    "### 2) Word2Vec 학습"
   ]
  },
  {
   "cell_type": "code",
   "execution_count": 10,
   "id": "adult-lightning",
   "metadata": {},
   "outputs": [
    {
     "data": {
      "text/plain": [
       "'\\nsize : 임베딩 된 벡터의 차원\\nwindow : 컨텍스트 윈도우 크기\\nmin_count : 단어 최소 빈도 수 제한\\nworkers : 학습을 위한 프로세스 수\\nsg : 0 - CBOW / 1 - Skip-gram\\n'"
      ]
     },
     "execution_count": 10,
     "metadata": {},
     "output_type": "execute_result"
    }
   ],
   "source": [
    "from gensim.models import Word2Vec\n",
    "\n",
    "model = Word2Vec(sentences=result,size=100,window=5,\n",
    "                 min_count=5,workers=4,sg=0)\n",
    "\n",
    "'''\n",
    "size : 임베딩 된 벡터의 차원\n",
    "window : 컨텍스트 윈도우 크기\n",
    "min_count : 단어 최소 빈도 수 제한\n",
    "workers : 학습을 위한 프로세스 수\n",
    "sg : 0 - CBOW / 1 - Skip-gram\n",
    "'''"
   ]
  },
  {
   "cell_type": "code",
   "execution_count": 11,
   "id": "quantitative-light",
   "metadata": {},
   "outputs": [
    {
     "name": "stdout",
     "output_type": "stream",
     "text": [
      "[('woman', 0.8569543361663818), ('guy', 0.8265942335128784), ('lady', 0.7929710149765015), ('girl', 0.7545343637466431), ('boy', 0.7531996965408325), ('gentleman', 0.729660153388977), ('soldier', 0.7059091925621033), ('kid', 0.6995912790298462), ('poet', 0.6954246759414673), ('son', 0.6778672337532043)]\n"
     ]
    }
   ],
   "source": [
    "model_result = model.wv.most_similar(\"man\")\n",
    "print(model_result)"
   ]
  },
  {
   "cell_type": "markdown",
   "id": "packed-princeton",
   "metadata": {},
   "source": [
    "### 3) 모델 저장하기/불러오기"
   ]
  },
  {
   "cell_type": "code",
   "execution_count": 13,
   "id": "elder-nylon",
   "metadata": {},
   "outputs": [],
   "source": [
    "from gensim.models import KeyedVectors\n",
    "\n",
    "# 모델 저장\n",
    "model.wv.save_word2vec_format('eng_w2v')\n",
    "\n",
    "# 모델 로드\n",
    "loaded = KeyedVectors.load_word2vec_format('eng_w2v')"
   ]
  },
  {
   "cell_type": "markdown",
   "id": "precious-midnight",
   "metadata": {},
   "source": [
    "## 2. 한국어 Word2Vec"
   ]
  },
  {
   "cell_type": "markdown",
   "id": "hollow-divide",
   "metadata": {},
   "source": [
    "### 1) 데이터 처리"
   ]
  },
  {
   "cell_type": "code",
   "execution_count": 15,
   "id": "hazardous-structure",
   "metadata": {},
   "outputs": [],
   "source": [
    "import urllib.request\n",
    "import pandas as pd\n",
    "urllib.request.urlretrieve(\"https://raw.githubusercontent.com/e9t/nsmc/master/ratings.txt\",\n",
    "                           filename=\"ratings.txt\")\n",
    "\n",
    "train_data = pd.read_table(\"ratings.txt\")"
   ]
  },
  {
   "cell_type": "code",
   "execution_count": 17,
   "id": "found-turner",
   "metadata": {},
   "outputs": [
    {
     "name": "stdout",
     "output_type": "stream",
     "text": [
      "200000\n"
     ]
    },
    {
     "data": {
      "text/html": [
       "<div>\n",
       "<style scoped>\n",
       "    .dataframe tbody tr th:only-of-type {\n",
       "        vertical-align: middle;\n",
       "    }\n",
       "\n",
       "    .dataframe tbody tr th {\n",
       "        vertical-align: top;\n",
       "    }\n",
       "\n",
       "    .dataframe thead th {\n",
       "        text-align: right;\n",
       "    }\n",
       "</style>\n",
       "<table border=\"1\" class=\"dataframe\">\n",
       "  <thead>\n",
       "    <tr style=\"text-align: right;\">\n",
       "      <th></th>\n",
       "      <th>id</th>\n",
       "      <th>document</th>\n",
       "      <th>label</th>\n",
       "    </tr>\n",
       "  </thead>\n",
       "  <tbody>\n",
       "    <tr>\n",
       "      <th>0</th>\n",
       "      <td>8112052</td>\n",
       "      <td>어릴때보고 지금다시봐도 재밌어요ㅋㅋ</td>\n",
       "      <td>1</td>\n",
       "    </tr>\n",
       "    <tr>\n",
       "      <th>1</th>\n",
       "      <td>8132799</td>\n",
       "      <td>디자인을 배우는 학생으로, 외국디자이너와 그들이 일군 전통을 통해 발전해가는 문화산...</td>\n",
       "      <td>1</td>\n",
       "    </tr>\n",
       "    <tr>\n",
       "      <th>2</th>\n",
       "      <td>4655635</td>\n",
       "      <td>폴리스스토리 시리즈는 1부터 뉴까지 버릴께 하나도 없음.. 최고.</td>\n",
       "      <td>1</td>\n",
       "    </tr>\n",
       "    <tr>\n",
       "      <th>3</th>\n",
       "      <td>9251303</td>\n",
       "      <td>와.. 연기가 진짜 개쩔구나.. 지루할거라고 생각했는데 몰입해서 봤다.. 그래 이런...</td>\n",
       "      <td>1</td>\n",
       "    </tr>\n",
       "    <tr>\n",
       "      <th>4</th>\n",
       "      <td>10067386</td>\n",
       "      <td>안개 자욱한 밤하늘에 떠 있는 초승달 같은 영화.</td>\n",
       "      <td>1</td>\n",
       "    </tr>\n",
       "  </tbody>\n",
       "</table>\n",
       "</div>"
      ],
      "text/plain": [
       "         id                                           document  label\n",
       "0   8112052                                어릴때보고 지금다시봐도 재밌어요ㅋㅋ      1\n",
       "1   8132799  디자인을 배우는 학생으로, 외국디자이너와 그들이 일군 전통을 통해 발전해가는 문화산...      1\n",
       "2   4655635               폴리스스토리 시리즈는 1부터 뉴까지 버릴께 하나도 없음.. 최고.      1\n",
       "3   9251303  와.. 연기가 진짜 개쩔구나.. 지루할거라고 생각했는데 몰입해서 봤다.. 그래 이런...      1\n",
       "4  10067386                        안개 자욱한 밤하늘에 떠 있는 초승달 같은 영화.      1"
      ]
     },
     "execution_count": 17,
     "metadata": {},
     "output_type": "execute_result"
    }
   ],
   "source": [
    "print(len(train_data))\n",
    "train_data.head()"
   ]
  },
  {
   "cell_type": "code",
   "execution_count": 19,
   "id": "lined-layer",
   "metadata": {},
   "outputs": [
    {
     "data": {
      "text/plain": [
       "id          0\n",
       "document    8\n",
       "label       0\n",
       "dtype: int64"
      ]
     },
     "execution_count": 19,
     "metadata": {},
     "output_type": "execute_result"
    }
   ],
   "source": [
    "train_data.isnull().sum()"
   ]
  },
  {
   "cell_type": "code",
   "execution_count": 22,
   "id": "endangered-granny",
   "metadata": {},
   "outputs": [],
   "source": [
    "train_data = train_data.dropna()"
   ]
  },
  {
   "cell_type": "code",
   "execution_count": 23,
   "id": "cutting-berkeley",
   "metadata": {},
   "outputs": [
    {
     "data": {
      "text/plain": [
       "id          0\n",
       "document    0\n",
       "label       0\n",
       "dtype: int64"
      ]
     },
     "execution_count": 23,
     "metadata": {},
     "output_type": "execute_result"
    }
   ],
   "source": [
    "train_data.isnull().sum()"
   ]
  },
  {
   "cell_type": "code",
   "execution_count": 25,
   "id": "dangerous-stewart",
   "metadata": {},
   "outputs": [
    {
     "name": "stderr",
     "output_type": "stream",
     "text": [
      "<ipython-input-25-e28dc94ecc1d>:2: FutureWarning: The default value of regex will change from True to False in a future version.\n",
      "  train_data['document'] = train_data['document'].str.replace(\"[^ㄱ-ㅎㅏ-ㅣ가-힣]\",\"\")\n"
     ]
    }
   ],
   "source": [
    "# 한글 외 문자 제거\n",
    "train_data['document'] = train_data['document'].str.replace(\"[^ㄱ-ㅎㅏ-ㅣ가-힣]\",\"\")\n",
    "\n",
    "# 불용어 정의\n",
    "stopwords = ['의','가','이','은','들','는','좀','잘','걍','과',\n",
    "             '도','를','으로','자','에','와','한','하다']\n",
    "\n",
    "# OKT 사용한 토큰화\n",
    "from konlpy.tag import Okt\n",
    "okt = Okt()\n",
    "tokenized_data = []\n",
    "for sentence in train_data['document']:\n",
    "    temp = okt.morphs(sentence,stem=True)\n",
    "    temp = [word for word in temp if word not in stopwords]\n",
    "    tokenized_data.append(temp)"
   ]
  },
  {
   "cell_type": "code",
   "execution_count": 26,
   "id": "complimentary-above",
   "metadata": {},
   "outputs": [
    {
     "name": "stdout",
     "output_type": "stream",
     "text": [
      "Max length of reviews :  68\n",
      "Mean length of reviews :  10.669446777871116\n"
     ]
    },
    {
     "data": {
      "image/png": "[encoded data removed]",
      "text/plain": [
       "<Figure size 432x288 with 1 Axes>"
      ]
     },
     "metadata": {
      "needs_background": "light"
     },
     "output_type": "display_data"
    }
   ],
   "source": [
    "# 리뷰 길이 분포 확인\n",
    "import matplotlib.pyplot as plt\n",
    "print(\"Max length of reviews : \",max(len(l) for l in tokenized_data))\n",
    "print(\"Mean length of reviews : \",sum(map(len,tokenized_data))/len(tokenized_data))\n",
    "\n",
    "plt.hist([len(s) for s in tokenized_data],bins=50)\n",
    "plt.xlabel('length of samples')\n",
    "plt.ylabel('number of samples')\n",
    "plt.show()"
   ]
  },
  {
   "cell_type": "markdown",
   "id": "attempted-aluminum",
   "metadata": {},
   "source": [
    "### 2) Word2Vec 학습"
   ]
  },
  {
   "cell_type": "code",
   "execution_count": 27,
   "id": "dynamic-eating",
   "metadata": {},
   "outputs": [
    {
     "name": "stdout",
     "output_type": "stream",
     "text": [
      "[('김명민', 0.8485106229782104), ('한석규', 0.844343364238739), ('미스캐스팅', 0.8420721292495728), ('김창완', 0.8414918184280396), ('안성기', 0.8403347730636597), ('송강호', 0.8390622735023499), ('설경구', 0.8350478410720825), ('능청', 0.8320046663284302), ('노튼', 0.8256185054779053), ('정재영', 0.8203049898147583)]\n"
     ]
    }
   ],
   "source": [
    "from gensim.models import Word2Vec\n",
    "\n",
    "model = Word2Vec(sentences= tokenized_data, size = 100, window = 5,\n",
    "                min_count = 5, workers = 4, sg = 0)\n",
    "\n",
    "print(model.wv.most_similar(\"최민식\"))"
   ]
  }
 ],
 "metadata": {
  "kernelspec": {
   "display_name": "Python 3",
   "language": "python",
   "name": "python3"
  },
  "language_info": {
   "codemirror_mode": {
    "name": "ipython",
    "version": 3
   },
   "file_extension": ".py",
   "mimetype": "text/x-python",
   "name": "python",
   "nbconvert_exporter": "python",
   "pygments_lexer": "ipython3",
   "version": "3.8.8"
  }
 },
 "nbformat": 4,
 "nbformat_minor": 5
}
