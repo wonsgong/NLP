{
 "cells": [
  {
   "cell_type": "markdown",
   "id": "passive-enclosure",
   "metadata": {},
   "source": [
    "# Glove \n",
    "    \n",
    "    카운트 기반 + 예측 기반 -> 단어 임베딩 방법론 by 스탠포드\n",
    "    \n",
    "    윈도우 기반 동시 등장 행렬 : i단어의 윈도우 크기 내 k 단어 등장 횟수 = Xik\n",
    "    동시 등장 확률 : P(k|i)\n",
    "    손실 함수 : 책에서 확인\n",
    "    \n",
    "    pip install glove_python 으로 설치 가능."
   ]
  },
  {
   "cell_type": "code",
   "execution_count": 5,
   "id": "violent-wings",
   "metadata": {},
   "outputs": [],
   "source": [
    "# 데이터 전처리\n",
    "from lxml import etree\n",
    "import re\n",
    "from nltk.tokenize import word_tokenize, sent_tokenize\n",
    "\n",
    "targetXML = open('ted_en-20160408.xml','r',encoding='UTF8')\n",
    "target_text = etree.parse(targetXML)\n",
    "\n",
    "# xml 파일로부터 <content> </content> 사이 내용 가져오기.\n",
    "parse_text = '\\n'.join(target_text.xpath('//content/text()'))\n",
    "\n",
    "# content 중간 배경음 부분 제거\n",
    "content_text = re.sub(r'\\([^)]*\\)','',parse_text)\n",
    "\n",
    "# 입력 코퍼스에 대해서 nltk 사용 토큰화 후 구두점 제거, 대문자->소문자\n",
    "sent_text = sent_tokenize(content_text)\n",
    "\n",
    "normalized_text = []\n",
    "for string in sent_text :\n",
    "    tokens = re.sub(r\"[^a-z0-9]+\",\" \",string.lower())\n",
    "    normalized_text.append(tokens)\n",
    "\n",
    "result = [word_tokenize(sentence) for sentence in normalized_text]"
   ]
  },
  {
   "cell_type": "code",
   "execution_count": 11,
   "id": "artistic-medium",
   "metadata": {
    "scrolled": false
   },
   "outputs": [
    {
     "ename": "ImportError",
     "evalue": "dlopen(/Users/wonsanghyeog/miniforge3/envs/tf/lib/python3.8/site-packages/glove_pybind.cpython-38-darwin.so, 2): Symbol not found: __ZN5Glove13most_similaryERKNSt3__112basic_stringIcNS0_11char_traitsIcEENS0_9allocatorIcEEEEm\n  Referenced from: /Users/wonsanghyeog/miniforge3/envs/tf/lib/python3.8/site-packages/glove_pybind.cpython-38-darwin.so\n  Expected in: flat namespace\n in /Users/wonsanghyeog/miniforge3/envs/tf/lib/python3.8/site-packages/glove_pybind.cpython-38-darwin.so",
     "output_type": "error",
     "traceback": [
      "\u001b[0;31m---------------------------------------------------------------------------\u001b[0m",
      "\u001b[0;31mImportError\u001b[0m                               Traceback (most recent call last)",
      "\u001b[0;32m<ipython-input-11-80856207137e>\u001b[0m in \u001b[0;36m<module>\u001b[0;34m\u001b[0m\n\u001b[0;32m----> 1\u001b[0;31m \u001b[0;32mfrom\u001b[0m \u001b[0mglove\u001b[0m \u001b[0;32mimport\u001b[0m \u001b[0;34m*\u001b[0m\u001b[0;34m\u001b[0m\u001b[0;34m\u001b[0m\u001b[0m\n\u001b[0m",
      "\u001b[0;32m~/miniforge3/envs/tf/lib/python3.8/site-packages/glove/__init__.py\u001b[0m in \u001b[0;36m<module>\u001b[0;34m\u001b[0m\n\u001b[0;32m----> 1\u001b[0;31m \u001b[0;32mfrom\u001b[0m \u001b[0mglove_pybind\u001b[0m \u001b[0;32mimport\u001b[0m \u001b[0;34m*\u001b[0m\u001b[0;34m\u001b[0m\u001b[0;34m\u001b[0m\u001b[0m\n\u001b[0m\u001b[1;32m      2\u001b[0m \u001b[0;32mfrom\u001b[0m \u001b[0;34m.\u001b[0m\u001b[0mGlove\u001b[0m \u001b[0;32mimport\u001b[0m \u001b[0;34m*\u001b[0m\u001b[0;34m\u001b[0m\u001b[0;34m\u001b[0m\u001b[0m\n\u001b[1;32m      3\u001b[0m \u001b[0;34m\u001b[0m\u001b[0m\n\u001b[1;32m      4\u001b[0m \u001b[0;34m\u001b[0m\u001b[0m\n\u001b[1;32m      5\u001b[0m \u001b[0;34m\u001b[0m\u001b[0m\n",
      "\u001b[0;31mImportError\u001b[0m: dlopen(/Users/wonsanghyeog/miniforge3/envs/tf/lib/python3.8/site-packages/glove_pybind.cpython-38-darwin.so, 2): Symbol not found: __ZN5Glove13most_similaryERKNSt3__112basic_stringIcNS0_11char_traitsIcEENS0_9allocatorIcEEEEm\n  Referenced from: /Users/wonsanghyeog/miniforge3/envs/tf/lib/python3.8/site-packages/glove_pybind.cpython-38-darwin.so\n  Expected in: flat namespace\n in /Users/wonsanghyeog/miniforge3/envs/tf/lib/python3.8/site-packages/glove_pybind.cpython-38-darwin.so"
     ]
    }
   ],
   "source": [
    "from glove import *"
   ]
  }
 ],
 "metadata": {
  "kernelspec": {
   "display_name": "Python 3",
   "language": "python",
   "name": "python3"
  },
  "language_info": {
   "codemirror_mode": {
    "name": "ipython",
    "version": 3
   },
   "file_extension": ".py",
   "mimetype": "text/x-python",
   "name": "python",
   "nbconvert_exporter": "python",
   "pygments_lexer": "ipython3",
   "version": "3.8.8"
  }
 },
 "nbformat": 4,
 "nbformat_minor": 5
}
